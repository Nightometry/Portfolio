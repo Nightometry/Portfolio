{
 "cells": [
  {
   "cell_type": "markdown",
   "metadata": {},
   "source": [
    "# An Analysis of the Ability of Multiple Supervised Learning Classification Models to Detect Credit Card Fraud\n",
    "<br>\n",
    "<br>\n",
    "The incidence of credit card fraud reached an all time high in 2016 with 15.4 million people affected and $16 billion in fraud losses.\n",
    "To better understand how to address this problem, I am interested in credit card fraud prediction through supervised machine learning methods.\n",
    "There are various ways authentication systems are bypassed or exploited that allow for fraud to be committed.\n",
    "As a result, the damage is still in the billions despite consistently increasing security measures.\n",
    "The liability for these huges losses usually fall on the banks that are involved and can be passed on to the institutions where the fraud occurred.\n",
    "With supervised learning, credit card fraud can be predicted using underlying factors that aren't readily interpereted by human logic alone.\n",
    "This means of detecting credit card fraud provides a proactive means of combating this trend and preventing large financial losses. \n",
    "\n",
    "\n",
    "In this study, several different types of supervised learning classification models were used on the same labeled financial data to analyze their compared effectiveness when it comes to predicting credit card fraud. \n",
    "In addition to this each model type was run three times using different methods to prepare the feature variables. \n",
    "This gave insight as to which types of models and feature engineering methods were best suited to predict creditcard fraud based on the data. \n",
    "The process used to undertake this study is as follows:\n",
    "<br>\n",
    "<br>\n",
    "Data Exploration and Analysis \n",
    "* Viewing the Distribution of the Datapoints\n",
    "* Checking the Correlatedness of the Classes\n",
    "* Descriptive Statistics\n",
    "\n",
    "Preparing The Data For Modeling\n",
    "* Dealing With Class Imbalance\n",
    "* Select K Best\n",
    "* Splitting training and testing data\n",
    "\n",
    "\n",
    "Modeling the Data \n",
    "* Naïve Bayes\n",
    "* K Nearest Neighbors\n",
    "* Decision Trees\n",
    "* Random Forest\n",
    "* Logistic Regression (and Lasso and Ridge)\n",
    "* Support Vector Classifier\n",
    "* Gradient Boost\n"
   ]
  },
  {
   "cell_type": "code",
   "execution_count": 1,
   "metadata": {},
   "outputs": [],
   "source": [
    "# Load Packages and CSV\n",
    "\n",
    "import math\n",
    "import warnings\n",
    "\n",
    "from IPython.display import display\n",
    "from matplotlib import pyplot as plt\n",
    "import numpy as np\n",
    "import pandas as pd\n",
    "import seaborn as sns\n",
    "import statsmodels.formula.api as smf\n",
    "from matplotlib.mlab import PCA as mlabPCA\n",
    "from sklearn.naive_bayes import BernoulliNB\n",
    "from sklearn import linear_model\n",
    "from sklearn.preprocessing import StandardScaler\n",
    "from sklearn.decomposition import PCA \n",
    "from sklearn.model_selection import train_test_split\n",
    "from sklearn.model_selection import cross_val_score\n",
    "from sklearn.metrics import mean_squared_error\n",
    "from sklearn import neighbors\n",
    "from sklearn.utils import resample\n",
    "from sklearn import tree\n",
    "from sklearn.metrics import confusion_matrix\n",
    "from sklearn.metrics import classification_report\n",
    "from sklearn.feature_selection import SelectKBest, chi2, f_classif\n",
    "from sklearn.ensemble import RandomForestClassifier\n",
    "from sklearn.metrics import make_scorer, accuracy_score\n",
    "from sklearn.model_selection import GridSearchCV\n",
    "from sklearn import ensemble\n",
    "from sklearn.linear_model import LogisticRegression\n",
    "from sklearn.svm import SVC\n",
    "\n",
    "# Display preferences.\n",
    "%matplotlib inline\n",
    "pd.options.display.float_format = '{:.3f}'.format\n",
    "\n",
    "# Suppress annoying harmless error.\n",
    "warnings.filterwarnings(\n",
    "    action=\"ignore\",\n",
    "    module=\"sklearn\"  \n",
    "    )\n",
    "\n",
    "# Set Plot Style\n",
    "sns.set_style('white')"
   ]
  },
  {
   "cell_type": "code",
   "execution_count": 2,
   "metadata": {},
   "outputs": [],
   "source": [
    "## Import Files\n",
    "\n",
    "df = pd.read_csv('creditcard.csv')"
   ]
  },
  {
   "cell_type": "markdown",
   "metadata": {},
   "source": [
    "## Data Exploration and Analysis\n",
    "\n",
    "Dataset comes from European Credit Card transactions taken over the course of two days in September 2013. \n",
    "The dataset contains 28 components that are the result of transformation through principal components analysis.\n",
    "To maintain the confidentiality of the accountholders, the original features weren't used for this study. The three features that were not transformed were: The time the transactions took place relative to the start of the study, the dollar amount involved in each transaction, and labels to denote instances of fraud.\n",
    "This allows for the understanding of fraud occurence in relation to cost and time of day.\n"
   ]
  },
  {
   "cell_type": "code",
   "execution_count": 3,
   "metadata": {
    "scrolled": true
   },
   "outputs": [
    {
     "data": {
      "text/html": [
       "<div>\n",
       "<style scoped>\n",
       "    .dataframe tbody tr th:only-of-type {\n",
       "        vertical-align: middle;\n",
       "    }\n",
       "\n",
       "    .dataframe tbody tr th {\n",
       "        vertical-align: top;\n",
       "    }\n",
       "\n",
       "    .dataframe thead th {\n",
       "        text-align: right;\n",
       "    }\n",
       "</style>\n",
       "<table border=\"1\" class=\"dataframe\">\n",
       "  <thead>\n",
       "    <tr style=\"text-align: right;\">\n",
       "      <th></th>\n",
       "      <th>Time</th>\n",
       "      <th>V1</th>\n",
       "      <th>V2</th>\n",
       "      <th>V3</th>\n",
       "      <th>V4</th>\n",
       "      <th>V5</th>\n",
       "      <th>V6</th>\n",
       "      <th>V7</th>\n",
       "      <th>V8</th>\n",
       "      <th>V9</th>\n",
       "      <th>...</th>\n",
       "      <th>V21</th>\n",
       "      <th>V22</th>\n",
       "      <th>V23</th>\n",
       "      <th>V24</th>\n",
       "      <th>V25</th>\n",
       "      <th>V26</th>\n",
       "      <th>V27</th>\n",
       "      <th>V28</th>\n",
       "      <th>Amount</th>\n",
       "      <th>Class</th>\n",
       "    </tr>\n",
       "  </thead>\n",
       "  <tbody>\n",
       "    <tr>\n",
       "      <th>0</th>\n",
       "      <td>0.000</td>\n",
       "      <td>-1.360</td>\n",
       "      <td>-0.073</td>\n",
       "      <td>2.536</td>\n",
       "      <td>1.378</td>\n",
       "      <td>-0.338</td>\n",
       "      <td>0.462</td>\n",
       "      <td>0.240</td>\n",
       "      <td>0.099</td>\n",
       "      <td>0.364</td>\n",
       "      <td>...</td>\n",
       "      <td>-0.018</td>\n",
       "      <td>0.278</td>\n",
       "      <td>-0.110</td>\n",
       "      <td>0.067</td>\n",
       "      <td>0.129</td>\n",
       "      <td>-0.189</td>\n",
       "      <td>0.134</td>\n",
       "      <td>-0.021</td>\n",
       "      <td>149.620</td>\n",
       "      <td>0</td>\n",
       "    </tr>\n",
       "    <tr>\n",
       "      <th>1</th>\n",
       "      <td>0.000</td>\n",
       "      <td>1.192</td>\n",
       "      <td>0.266</td>\n",
       "      <td>0.166</td>\n",
       "      <td>0.448</td>\n",
       "      <td>0.060</td>\n",
       "      <td>-0.082</td>\n",
       "      <td>-0.079</td>\n",
       "      <td>0.085</td>\n",
       "      <td>-0.255</td>\n",
       "      <td>...</td>\n",
       "      <td>-0.226</td>\n",
       "      <td>-0.639</td>\n",
       "      <td>0.101</td>\n",
       "      <td>-0.340</td>\n",
       "      <td>0.167</td>\n",
       "      <td>0.126</td>\n",
       "      <td>-0.009</td>\n",
       "      <td>0.015</td>\n",
       "      <td>2.690</td>\n",
       "      <td>0</td>\n",
       "    </tr>\n",
       "    <tr>\n",
       "      <th>2</th>\n",
       "      <td>1.000</td>\n",
       "      <td>-1.358</td>\n",
       "      <td>-1.340</td>\n",
       "      <td>1.773</td>\n",
       "      <td>0.380</td>\n",
       "      <td>-0.503</td>\n",
       "      <td>1.800</td>\n",
       "      <td>0.791</td>\n",
       "      <td>0.248</td>\n",
       "      <td>-1.515</td>\n",
       "      <td>...</td>\n",
       "      <td>0.248</td>\n",
       "      <td>0.772</td>\n",
       "      <td>0.909</td>\n",
       "      <td>-0.689</td>\n",
       "      <td>-0.328</td>\n",
       "      <td>-0.139</td>\n",
       "      <td>-0.055</td>\n",
       "      <td>-0.060</td>\n",
       "      <td>378.660</td>\n",
       "      <td>0</td>\n",
       "    </tr>\n",
       "    <tr>\n",
       "      <th>3</th>\n",
       "      <td>1.000</td>\n",
       "      <td>-0.966</td>\n",
       "      <td>-0.185</td>\n",
       "      <td>1.793</td>\n",
       "      <td>-0.863</td>\n",
       "      <td>-0.010</td>\n",
       "      <td>1.247</td>\n",
       "      <td>0.238</td>\n",
       "      <td>0.377</td>\n",
       "      <td>-1.387</td>\n",
       "      <td>...</td>\n",
       "      <td>-0.108</td>\n",
       "      <td>0.005</td>\n",
       "      <td>-0.190</td>\n",
       "      <td>-1.176</td>\n",
       "      <td>0.647</td>\n",
       "      <td>-0.222</td>\n",
       "      <td>0.063</td>\n",
       "      <td>0.061</td>\n",
       "      <td>123.500</td>\n",
       "      <td>0</td>\n",
       "    </tr>\n",
       "    <tr>\n",
       "      <th>4</th>\n",
       "      <td>2.000</td>\n",
       "      <td>-1.158</td>\n",
       "      <td>0.878</td>\n",
       "      <td>1.549</td>\n",
       "      <td>0.403</td>\n",
       "      <td>-0.407</td>\n",
       "      <td>0.096</td>\n",
       "      <td>0.593</td>\n",
       "      <td>-0.271</td>\n",
       "      <td>0.818</td>\n",
       "      <td>...</td>\n",
       "      <td>-0.009</td>\n",
       "      <td>0.798</td>\n",
       "      <td>-0.137</td>\n",
       "      <td>0.141</td>\n",
       "      <td>-0.206</td>\n",
       "      <td>0.502</td>\n",
       "      <td>0.219</td>\n",
       "      <td>0.215</td>\n",
       "      <td>69.990</td>\n",
       "      <td>0</td>\n",
       "    </tr>\n",
       "    <tr>\n",
       "      <th>5</th>\n",
       "      <td>2.000</td>\n",
       "      <td>-0.426</td>\n",
       "      <td>0.961</td>\n",
       "      <td>1.141</td>\n",
       "      <td>-0.168</td>\n",
       "      <td>0.421</td>\n",
       "      <td>-0.030</td>\n",
       "      <td>0.476</td>\n",
       "      <td>0.260</td>\n",
       "      <td>-0.569</td>\n",
       "      <td>...</td>\n",
       "      <td>-0.208</td>\n",
       "      <td>-0.560</td>\n",
       "      <td>-0.026</td>\n",
       "      <td>-0.371</td>\n",
       "      <td>-0.233</td>\n",
       "      <td>0.106</td>\n",
       "      <td>0.254</td>\n",
       "      <td>0.081</td>\n",
       "      <td>3.670</td>\n",
       "      <td>0</td>\n",
       "    </tr>\n",
       "    <tr>\n",
       "      <th>6</th>\n",
       "      <td>4.000</td>\n",
       "      <td>1.230</td>\n",
       "      <td>0.141</td>\n",
       "      <td>0.045</td>\n",
       "      <td>1.203</td>\n",
       "      <td>0.192</td>\n",
       "      <td>0.273</td>\n",
       "      <td>-0.005</td>\n",
       "      <td>0.081</td>\n",
       "      <td>0.465</td>\n",
       "      <td>...</td>\n",
       "      <td>-0.168</td>\n",
       "      <td>-0.271</td>\n",
       "      <td>-0.154</td>\n",
       "      <td>-0.780</td>\n",
       "      <td>0.750</td>\n",
       "      <td>-0.257</td>\n",
       "      <td>0.035</td>\n",
       "      <td>0.005</td>\n",
       "      <td>4.990</td>\n",
       "      <td>0</td>\n",
       "    </tr>\n",
       "  </tbody>\n",
       "</table>\n",
       "<p>7 rows × 31 columns</p>\n",
       "</div>"
      ],
      "text/plain": [
       "   Time     V1     V2    V3     V4     V5     V6     V7     V8     V9  ...  \\\n",
       "0 0.000 -1.360 -0.073 2.536  1.378 -0.338  0.462  0.240  0.099  0.364  ...   \n",
       "1 0.000  1.192  0.266 0.166  0.448  0.060 -0.082 -0.079  0.085 -0.255  ...   \n",
       "2 1.000 -1.358 -1.340 1.773  0.380 -0.503  1.800  0.791  0.248 -1.515  ...   \n",
       "3 1.000 -0.966 -0.185 1.793 -0.863 -0.010  1.247  0.238  0.377 -1.387  ...   \n",
       "4 2.000 -1.158  0.878 1.549  0.403 -0.407  0.096  0.593 -0.271  0.818  ...   \n",
       "5 2.000 -0.426  0.961 1.141 -0.168  0.421 -0.030  0.476  0.260 -0.569  ...   \n",
       "6 4.000  1.230  0.141 0.045  1.203  0.192  0.273 -0.005  0.081  0.465  ...   \n",
       "\n",
       "     V21    V22    V23    V24    V25    V26    V27    V28  Amount  Class  \n",
       "0 -0.018  0.278 -0.110  0.067  0.129 -0.189  0.134 -0.021 149.620      0  \n",
       "1 -0.226 -0.639  0.101 -0.340  0.167  0.126 -0.009  0.015   2.690      0  \n",
       "2  0.248  0.772  0.909 -0.689 -0.328 -0.139 -0.055 -0.060 378.660      0  \n",
       "3 -0.108  0.005 -0.190 -1.176  0.647 -0.222  0.063  0.061 123.500      0  \n",
       "4 -0.009  0.798 -0.137  0.141 -0.206  0.502  0.219  0.215  69.990      0  \n",
       "5 -0.208 -0.560 -0.026 -0.371 -0.233  0.106  0.254  0.081   3.670      0  \n",
       "6 -0.168 -0.271 -0.154 -0.780  0.750 -0.257  0.035  0.005   4.990      0  \n",
       "\n",
       "[7 rows x 31 columns]"
      ]
     },
     "execution_count": 3,
     "metadata": {},
     "output_type": "execute_result"
    }
   ],
   "source": [
    "df.head(7)"
   ]
  },
  {
   "cell_type": "code",
   "execution_count": 4,
   "metadata": {
    "scrolled": false
   },
   "outputs": [
    {
     "data": {
      "image/png": "[encoded data removed]",
      "text/plain": [
       "<Figure size 1008x360 with 2 Axes>"
      ]
     },
     "metadata": {
      "needs_background": "light"
     },
     "output_type": "display_data"
    }
   ],
   "source": [
    "## Plotting Histograms for the Transaction Frequencies and amounts over the two day span\n",
    "plt.figure(figsize=(14, 5))\n",
    "\n",
    "plt.subplot(1,2,1)\n",
    "plt.hist(df.Time/86400)\n",
    "plt.title(\"Transaction Frequency\")\n",
    "plt.xlabel(\"Days after start of Data Collection\")\n",
    "plt.ylabel(\"Frequency\")\n",
    "\n",
    "plt.subplot(1,2,2)\n",
    "plt.hist(df.Amount, bins=[0, 100, 200, 300, 400, 500, 600, 700, 800])\n",
    "plt.title(\"Transaction Amounts\")\n",
    "plt.xlabel(\"Transaction Amounts (Dollars)\")\n",
    "plt.ylabel(\"Frequency\")\n",
    "plt.show()"
   ]
  },
  {
   "cell_type": "markdown",
   "metadata": {},
   "source": [
    "The transactions show a binomial distribution with a lower amount of transactions occuring at  the start of each day, and peaking about three quarters into a given day. Around peak hours the number of transactions could reach 40000.\n",
    "However, the vast majority of transaction amounts are below $100 and the number of transactions drop drastically as amount increases.\n"
   ]
  },
  {
   "cell_type": "code",
   "execution_count": 5,
   "metadata": {
    "scrolled": false
   },
   "outputs": [
    {
     "data": {
      "image/png": "[encoded data removed]",
      "text/plain": [
       "<Figure size 576x360 with 2 Axes>"
      ]
     },
     "metadata": {
      "needs_background": "light"
     },
     "output_type": "display_data"
    }
   ],
   "source": [
    "## Visualizing the Correlatedness of the variables\n",
    "\n",
    "fig, ax = plt.subplots(figsize=(8,5))         \n",
    "sns.heatmap(df.corr(), cmap='RdBu_r', center=0)\n",
    "plt.show()"
   ]
  },
  {
   "cell_type": "markdown",
   "metadata": {},
   "source": [
    "PCA components are inherently uncorrelated but since the time, amount and class variables weren't converted they still show low to mild correlation with the components and eachother."
   ]
  },
  {
   "cell_type": "code",
   "execution_count": 6,
   "metadata": {
    "scrolled": true
   },
   "outputs": [
    {
     "data": {
      "text/plain": [
       "count   284807.000\n",
       "mean        88.350\n",
       "std        250.120\n",
       "min          0.000\n",
       "25%          5.600\n",
       "50%         22.000\n",
       "75%         77.165\n",
       "max      25691.160\n",
       "Name: Amount, dtype: float64"
      ]
     },
     "execution_count": 6,
     "metadata": {},
     "output_type": "execute_result"
    }
   ],
   "source": [
    "df.Amount.describe()"
   ]
  },
  {
   "cell_type": "markdown",
   "metadata": {},
   "source": [
    "Descriptive statistics about the transaction amounts show that 75% of the transactions in the two day period fall below \\\\$77. However, transaction amounts can reach much higher numbers with the max being \\\\$25,691."
   ]
  },
  {
   "cell_type": "code",
   "execution_count": 7,
   "metadata": {
    "scrolled": true
   },
   "outputs": [
    {
     "name": "stdout",
     "output_type": "stream",
     "text": [
      " \n",
      " The number of non-fraudulent transactions: 284315\n",
      " The number of non-fraudulent transactions: 492\n",
      " \n",
      " The percentage of non-fraudulent transactions: 0.9982725143693799\n",
      " The percentage of non-fraudulent transactions: 0.001727485630620034\n"
     ]
    }
   ],
   "source": [
    "\n",
    "number_outcome_class = df.Class.value_counts()\n",
    "percent_outcome_class = df.Class.value_counts()/df.Class.value_counts().sum()\n",
    "\n",
    "print(\" \\n The number of non-fraudulent transactions: \" + str(number_outcome_class[0]))\n",
    "print(\" The number of non-fraudulent transactions: \" + str(number_outcome_class[1]))\n",
    "print(\" \\n The percentage of non-fraudulent transactions: \" + str(percent_outcome_class[0]))\n",
    "print(\" The percentage of non-fraudulent transactions: \" + str(percent_outcome_class[1]))"
   ]
  },
  {
   "cell_type": "markdown",
   "metadata": {},
   "source": [
    "The transactions were overwhelmingly nonfraudulent.\n",
    "The strong class imbalance caused by the dominant negative class was addressed prior to modeling through resampling of both classes."
   ]
  },
  {
   "cell_type": "markdown",
   "metadata": {},
   "source": [
    "## Preparing The Data For Modeling\n",
    "\n",
    "The class imbalance was addressed by downsampling the majority class to preserve computational performance and upsampling the minority class to avoid losing too much of the variance that the models will use as the basis of their predictions.\n",
    "\n",
    "Each Model was run using two different means of feature selection;\n",
    "the original features of the dataset and just 20 of the features selected using scikit-learn's select K best function.\n",
    "The Models were run using the same training and testing sets so that they can be compared."
   ]
  },
  {
   "cell_type": "code",
   "execution_count": 8,
   "metadata": {},
   "outputs": [
    {
     "data": {
      "text/plain": [
       "1    2500\n",
       "0    2500\n",
       "Name: Class, dtype: int64"
      ]
     },
     "execution_count": 8,
     "metadata": {},
     "output_type": "execute_result"
    }
   ],
   "source": [
    "## Class Balancing by Upsampling Minority Class\n",
    "\n",
    "# Separate majority and minority classes\n",
    "df_majority = df[df.Class==0]\n",
    "df_minority = df[df.Class==1]\n",
    "\n",
    "# Upsample minority class\n",
    "df_minority_upsampled = resample(df_minority, \n",
    "                                 replace=True,     # sample with replacement\n",
    "                                 n_samples=2500,    # to match majority class\n",
    "                                 random_state=123) # reproducible results\n",
    "\n",
    "# Downsample majority class\n",
    "df_majority_downsampled = resample(df_majority, \n",
    "                                 replace=False,    # sample without replacement\n",
    "                                 n_samples=2500,     # to match minority class\n",
    "                                 random_state=123) # reproducible results\n",
    "\n",
    "# Combine majority class with upsampled minority class\n",
    "df = pd.concat([df_majority_downsampled, df_minority_upsampled])\n",
    "\n",
    "df.Class.value_counts()"
   ]
  },
  {
   "cell_type": "code",
   "execution_count": 9,
   "metadata": {},
   "outputs": [],
   "source": [
    "## Establish variables based on original components to be used for modeling\n",
    "\n",
    "x = df.drop(['Class'], axis=1)\n",
    "y = df.Class"
   ]
  },
  {
   "cell_type": "code",
   "execution_count": 10,
   "metadata": {},
   "outputs": [],
   "source": [
    "## Establish variables based on select K best to be used for modeling\n",
    "\n",
    "selector = SelectKBest(f_classif, k=20)\n",
    "k_predictors = selector.fit_transform(x,y)"
   ]
  },
  {
   "cell_type": "code",
   "execution_count": 11,
   "metadata": {},
   "outputs": [],
   "source": [
    "## Train Test Split Original Variables And K Selected Variables for Modeling\n",
    "\n",
    "x_train, x_test, y_train, y_test = train_test_split(x, y, test_size=0.2, random_state=20)\n",
    "\n",
    "kx_train, kx_test, ky_train, ky_test = train_test_split(k_predictors, y, test_size=0.2, random_state=21)\n"
   ]
  },
  {
   "cell_type": "markdown",
   "metadata": {},
   "source": [
    "## Modeling the Data\n",
    "\n",
    "The financial data was modeled using the following techniques: \n",
    "Naïve Bayes,\n",
    "K Nearest Neighbors,\n",
    "Decision Trees,\n",
    "Random Forest,\n",
    "Logistic Regression (and Lasso and Ridge),\n",
    "Support Vector Classifier,\n",
    "Gradient Boost,\n",
    "Each model was evaluated using accuracy score, cross validation, cross validated AUC, a confusion matrix, and a classification report."
   ]
  },
  {
   "cell_type": "markdown",
   "metadata": {},
   "source": [
    "### Naive Bayes"
   ]
  },
  {
   "cell_type": "code",
   "execution_count": 12,
   "metadata": {},
   "outputs": [
    {
     "name": "stdout",
     "output_type": "stream",
     "text": [
      "CPU times: user 6.05 ms, sys: 2.28 ms, total: 8.33 ms\n",
      "Wall time: 6.32 ms\n"
     ]
    }
   ],
   "source": [
    "%%time\n",
    "## train and fit model\n",
    "bnb = BernoulliNB().fit(x_train, y_train)\n"
   ]
  },
  {
   "cell_type": "code",
   "execution_count": 13,
   "metadata": {},
   "outputs": [
    {
     "name": "stdout",
     "output_type": "stream",
     "text": [
      "accuracy score:\n",
      "0.915\n",
      "\n",
      "cross validation:\n",
      "[0.94029851 0.89054726 0.905      0.90954774 0.90954774]\n",
      "\n",
      "cross validation with AUC:\n",
      "[0.9762235  0.94729542 0.96118447 0.98180716 0.96826359]\n",
      "\n",
      "confusion matrix:\n",
      "[[511   1]\n",
      " [ 84 404]]\n",
      "\n",
      "              precision    recall  f1-score   support\n",
      "\n",
      "           0       0.86      1.00      0.92       512\n",
      "           1       1.00      0.83      0.90       488\n",
      "\n",
      "   micro avg       0.92      0.92      0.92      1000\n",
      "   macro avg       0.93      0.91      0.91      1000\n",
      "weighted avg       0.93      0.92      0.91      1000\n",
      "\n",
      "CPU times: user 64.2 ms, sys: 3.86 ms, total: 68.1 ms\n",
      "Wall time: 66.3 ms\n"
     ]
    }
   ],
   "source": [
    "%%time\n",
    "## Model Evaluation\n",
    "print(\"accuracy score:\\n\" + str(bnb.score(x_test, y_test))+'\\n')\n",
    "\n",
    "print(\"cross validation:\\n\" + str(cross_val_score(bnb, x_test, y_test, cv=5))+'\\n')\n",
    "\n",
    "print(\"cross validation with AUC:\\n\" + str(cross_val_score(bnb, x_test, y_test, cv=5, scoring='roc_auc'))+'\\n')\n",
    "\n",
    "print(\"confusion matrix:\\n\" + str(confusion_matrix(y_test, bnb.predict(x_test)))+'\\n')\n",
    "\n",
    "print(classification_report(y_test, bnb.predict(x_test)))"
   ]
  },
  {
   "cell_type": "code",
   "execution_count": 14,
   "metadata": {
    "scrolled": true
   },
   "outputs": [
    {
     "name": "stdout",
     "output_type": "stream",
     "text": [
      "CPU times: user 3.77 ms, sys: 1.56 ms, total: 5.33 ms\n",
      "Wall time: 3.71 ms\n"
     ]
    }
   ],
   "source": [
    "%%time\n",
    "## train and fit model\n",
    "k_bnb = BernoulliNB().fit(kx_train, ky_train)\n"
   ]
  },
  {
   "cell_type": "code",
   "execution_count": 15,
   "metadata": {},
   "outputs": [
    {
     "name": "stdout",
     "output_type": "stream",
     "text": [
      "accuracy score:\n",
      "0.904\n",
      "\n",
      "cross validation:\n",
      "[0.89054726 0.895      0.9        0.92       0.91959799]\n",
      "\n",
      "cross validation with AUC:\n",
      "[0.97460317 0.96544471 0.96574519 0.96484375 0.96295547]\n",
      "\n",
      "confusion matrix:\n",
      "[[476   3]\n",
      " [ 93 428]]\n",
      "\n",
      "              precision    recall  f1-score   support\n",
      "\n",
      "           0       0.84      0.99      0.91       479\n",
      "           1       0.99      0.82      0.90       521\n",
      "\n",
      "   micro avg       0.90      0.90      0.90      1000\n",
      "   macro avg       0.91      0.91      0.90      1000\n",
      "weighted avg       0.92      0.90      0.90      1000\n",
      "\n",
      "CPU times: user 41.3 ms, sys: 3.36 ms, total: 44.6 ms\n",
      "Wall time: 42.2 ms\n"
     ]
    }
   ],
   "source": [
    "%%time\n",
    "## Model Evaluation\n",
    "print(\"accuracy score:\\n\" + str(k_bnb.score(kx_test, ky_test))+'\\n')\n",
    "\n",
    "print(\"cross validation:\\n\" + str(cross_val_score(k_bnb, kx_test, ky_test, cv=5))+'\\n')\n",
    "\n",
    "print(\"cross validation with AUC:\\n\" + str(cross_val_score(k_bnb, kx_test, ky_test, cv=5, scoring='roc_auc'))+'\\n')\n",
    "\n",
    "print(\"confusion matrix:\\n\" + str(confusion_matrix(ky_test, k_bnb.predict(kx_test)))+'\\n')\n",
    "\n",
    "print(classification_report(ky_test, k_bnb.predict(kx_test)))"
   ]
  },
  {
   "cell_type": "markdown",
   "metadata": {},
   "source": [
    "Naive Bayes had relatively low accuracy compared to most of the other models.\n",
    "For both versions of this model, the number of false negatives was greater.\n",
    "The cross validation showed, that overfitting was not greatly present with this model. \n",
    "Using K features resulted in lower accuracy and AUC scores.\n",
    "Since the scores of the naive bayes models didn't show signs of overfitting, the loss in accuracy from using only 20 features."
   ]
  },
  {
   "cell_type": "markdown",
   "metadata": {},
   "source": [
    "### K Nearest Neighbors "
   ]
  },
  {
   "cell_type": "code",
   "execution_count": 16,
   "metadata": {},
   "outputs": [
    {
     "name": "stdout",
     "output_type": "stream",
     "text": [
      "CPU times: user 5.72 ms, sys: 1.49 ms, total: 7.21 ms\n",
      "Wall time: 5.8 ms\n"
     ]
    }
   ],
   "source": [
    "%%time\n",
    "## train and fit model\n",
    "knn = neighbors.KNeighborsClassifier(n_neighbors=10).fit(x_train, y_train)\n"
   ]
  },
  {
   "cell_type": "code",
   "execution_count": 17,
   "metadata": {},
   "outputs": [
    {
     "name": "stdout",
     "output_type": "stream",
     "text": [
      "accuracy score:\n",
      "0.783\n",
      "\n",
      "cross validation:\n",
      "[0.70646766 0.67164179 0.655      0.71859296 0.70351759]\n",
      "\n",
      "cross validation with AUC:\n",
      "[0.81365167 0.70289281 0.70678271 0.75085911 0.7672832 ]\n",
      "\n",
      "confusion matrix:\n",
      "[[377 135]\n",
      " [ 82 406]]\n",
      "\n",
      "              precision    recall  f1-score   support\n",
      "\n",
      "           0       0.82      0.74      0.78       512\n",
      "           1       0.75      0.83      0.79       488\n",
      "\n",
      "   micro avg       0.78      0.78      0.78      1000\n",
      "   macro avg       0.79      0.78      0.78      1000\n",
      "weighted avg       0.79      0.78      0.78      1000\n",
      "\n",
      "CPU times: user 204 ms, sys: 3.26 ms, total: 207 ms\n",
      "Wall time: 205 ms\n"
     ]
    }
   ],
   "source": [
    "%%time\n",
    "## Model Evaluation\n",
    "print(\"accuracy score:\\n\" + str(knn.score(x_test, y_test))+'\\n')\n",
    "\n",
    "print(\"cross validation:\\n\" + str(cross_val_score(knn, x_test, y_test, cv=5))+'\\n')\n",
    "\n",
    "print(\"cross validation with AUC:\\n\" + str(cross_val_score(knn, x_test, y_test, cv=5, scoring='roc_auc'))+'\\n')\n",
    "\n",
    "print(\"confusion matrix:\\n\" + str(confusion_matrix(y_test, knn.predict(x_test)))+'\\n')\n",
    "\n",
    "print(classification_report(y_test, knn.predict(x_test)))"
   ]
  },
  {
   "cell_type": "code",
   "execution_count": 18,
   "metadata": {},
   "outputs": [
    {
     "name": "stdout",
     "output_type": "stream",
     "text": [
      "CPU times: user 5.36 ms, sys: 214 µs, total: 5.57 ms\n",
      "Wall time: 5.74 ms\n"
     ]
    }
   ],
   "source": [
    "%%time\n",
    "## train and fit model\n",
    "k_knn = neighbors.KNeighborsClassifier(n_neighbors=10).fit(kx_train, ky_train)\n"
   ]
  },
  {
   "cell_type": "code",
   "execution_count": 19,
   "metadata": {
    "scrolled": false
   },
   "outputs": [
    {
     "name": "stdout",
     "output_type": "stream",
     "text": [
      "accuracy score:\n",
      "0.774\n",
      "\n",
      "cross validation:\n",
      "[0.66666667 0.695      0.645      0.65       0.6281407 ]\n",
      "\n",
      "cross validation with AUC:\n",
      "[0.72574405 0.779998   0.69621394 0.70382612 0.69266194]\n",
      "\n",
      "confusion matrix:\n",
      "[[337 142]\n",
      " [ 84 437]]\n",
      "\n",
      "              precision    recall  f1-score   support\n",
      "\n",
      "           0       0.80      0.70      0.75       479\n",
      "           1       0.75      0.84      0.79       521\n",
      "\n",
      "   micro avg       0.77      0.77      0.77      1000\n",
      "   macro avg       0.78      0.77      0.77      1000\n",
      "weighted avg       0.78      0.77      0.77      1000\n",
      "\n",
      "CPU times: user 174 ms, sys: 2.7 ms, total: 176 ms\n",
      "Wall time: 174 ms\n"
     ]
    }
   ],
   "source": [
    "%%time\n",
    "## Model Evaluation\n",
    "print(\"accuracy score:\\n\" + str(k_knn.score(kx_test, ky_test))+'\\n')\n",
    "\n",
    "print(\"cross validation:\\n\" + str(cross_val_score(k_knn, kx_test, ky_test, cv=5))+'\\n')\n",
    "\n",
    "print(\"cross validation with AUC:\\n\" + str(cross_val_score(k_knn, kx_test, ky_test, cv=5, scoring='roc_auc'))+'\\n')\n",
    "\n",
    "print(\"confusion matrix:\\n\" + str(confusion_matrix(ky_test, k_knn.predict(kx_test)))+'\\n')\n",
    "\n",
    "print(classification_report(ky_test, k_knn.predict(kx_test)))"
   ]
  },
  {
   "cell_type": "markdown",
   "metadata": {},
   "source": [
    "KNN had the lowest out of all of the models in general.\n",
    "For both versions of this model, the number of false positives was greater.\n",
    "The cross validation showed that overfitting had a strong presence with this model. \n",
    "Using K features resulted in lower accuracy and AUC scores.\n",
    "It's likely that the nature of this data doesn't lend itself to KNN models because there may be fraudulent and non- fraudulent transactions with similar feature ranges or classes."
   ]
  },
  {
   "cell_type": "markdown",
   "metadata": {},
   "source": [
    "### Decision Tree"
   ]
  },
  {
   "cell_type": "code",
   "execution_count": 20,
   "metadata": {},
   "outputs": [
    {
     "name": "stdout",
     "output_type": "stream",
     "text": [
      "CPU times: user 19.9 ms, sys: 1.61 ms, total: 21.5 ms\n",
      "Wall time: 19.9 ms\n"
     ]
    }
   ],
   "source": [
    "%%time\n",
    "## train and fit model\n",
    "decision_tree = tree.DecisionTreeClassifier(\n",
    "    criterion='entropy',\n",
    "    max_features=6,\n",
    "    max_depth=25,\n",
    "    ).fit(x_train, y_train)\n"
   ]
  },
  {
   "cell_type": "code",
   "execution_count": 21,
   "metadata": {
    "scrolled": false
   },
   "outputs": [
    {
     "name": "stdout",
     "output_type": "stream",
     "text": [
      "accuracy score:\n",
      "0.98\n",
      "\n",
      "cross validation:\n",
      "[0.93532338 0.91044776 0.96       0.95477387 0.96482412]\n",
      "\n",
      "cross validation with AUC:\n",
      "[0.96017436 0.91524668 0.94077631 0.93036184 0.9396604 ]\n",
      "\n",
      "confusion matrix:\n",
      "[[492  20]\n",
      " [  0 488]]\n",
      "\n",
      "              precision    recall  f1-score   support\n",
      "\n",
      "           0       1.00      0.96      0.98       512\n",
      "           1       0.96      1.00      0.98       488\n",
      "\n",
      "   micro avg       0.98      0.98      0.98      1000\n",
      "   macro avg       0.98      0.98      0.98      1000\n",
      "weighted avg       0.98      0.98      0.98      1000\n",
      "\n",
      "CPU times: user 81.3 ms, sys: 2.31 ms, total: 83.6 ms\n",
      "Wall time: 82 ms\n"
     ]
    }
   ],
   "source": [
    "%%time\n",
    "## Model Evaluation\n",
    "print(\"accuracy score:\\n\" + str(decision_tree.score(x_test, y_test))+'\\n')\n",
    "\n",
    "print(\"cross validation:\\n\" + str(cross_val_score(decision_tree, x_test, y_test, cv=5))+'\\n')\n",
    "\n",
    "print(\"cross validation with AUC:\\n\" + str(cross_val_score(decision_tree, x_test, y_test, cv=5, scoring='roc_auc'))+'\\n')\n",
    "\n",
    "print(\"confusion matrix:\\n\" + str(confusion_matrix(y_test, decision_tree.predict(x_test)))+'\\n')\n",
    "\n",
    "print(classification_report(y_test, decision_tree.predict(x_test)))\n"
   ]
  },
  {
   "cell_type": "code",
   "execution_count": 22,
   "metadata": {},
   "outputs": [
    {
     "name": "stdout",
     "output_type": "stream",
     "text": [
      "CPU times: user 21 ms, sys: 1.78 ms, total: 22.8 ms\n",
      "Wall time: 21 ms\n"
     ]
    }
   ],
   "source": [
    "%%time\n",
    "## train and fit model\n",
    "k_decision_tree = tree.DecisionTreeClassifier(\n",
    "    criterion='entropy',\n",
    "    max_features=6,\n",
    "    max_depth=25,\n",
    "    ).fit(kx_train, ky_train)\n"
   ]
  },
  {
   "cell_type": "code",
   "execution_count": 23,
   "metadata": {
    "scrolled": false
   },
   "outputs": [
    {
     "name": "stdout",
     "output_type": "stream",
     "text": [
      "accuracy score:\n",
      "0.981\n",
      "\n",
      "cross validation:\n",
      "[0.95024876 0.97       0.895      0.945      0.90954774]\n",
      "\n",
      "cross validation with AUC:\n",
      "[0.93318452 0.9599359  0.91826923 0.89302885 0.91761134]\n",
      "\n",
      "confusion matrix:\n",
      "[[466  13]\n",
      " [  6 515]]\n",
      "\n",
      "              precision    recall  f1-score   support\n",
      "\n",
      "           0       0.99      0.97      0.98       479\n",
      "           1       0.98      0.99      0.98       521\n",
      "\n",
      "   micro avg       0.98      0.98      0.98      1000\n",
      "   macro avg       0.98      0.98      0.98      1000\n",
      "weighted avg       0.98      0.98      0.98      1000\n",
      "\n",
      "CPU times: user 63.5 ms, sys: 3.27 ms, total: 66.8 ms\n",
      "Wall time: 64.7 ms\n"
     ]
    }
   ],
   "source": [
    "%%time\n",
    "## Model Evaluation\n",
    "print(\"accuracy score:\\n\" + str(k_decision_tree.score(kx_test, ky_test))+'\\n')\n",
    "\n",
    "print(\"cross validation:\\n\" + str(cross_val_score(k_decision_tree, kx_test, ky_test, cv=5))+'\\n')\n",
    "\n",
    "print(\"cross validation with AUC:\\n\" + str(cross_val_score(k_decision_tree, kx_test, ky_test, cv=5, scoring='roc_auc'))+'\\n')\n",
    "\n",
    "print(\"confusion matrix:\\n\" + str(confusion_matrix(ky_test, k_decision_tree.predict(kx_test)))+'\\n')\n",
    "\n",
    "print(classification_report(ky_test, k_decision_tree.predict(kx_test)))\n"
   ]
  },
  {
   "cell_type": "markdown",
   "metadata": {},
   "source": [
    "The decision tree had very high performance.\n",
    "For both versions of this model, the number of false positives was greater.\n",
    "However, the version of the decision tree with all of the features had no false negatives.\n",
    "The cross validation showed that some signs of overfitting with this model. \n",
    "Using K features resulted in greater accuracy and AUC scores.\n",
    "Despite the fact that using the 20 best features resulted in better performance, the model that used all of the features would still be preferable because minimizing false negatives falls more inline with the business objective."
   ]
  },
  {
   "cell_type": "markdown",
   "metadata": {},
   "source": [
    "### Random Forest"
   ]
  },
  {
   "cell_type": "code",
   "execution_count": 24,
   "metadata": {
    "scrolled": true
   },
   "outputs": [
    {
     "name": "stdout",
     "output_type": "stream",
     "text": [
      "{'criterion': 'entropy', 'max_depth': 20, 'max_features': 'log2', 'min_samples_leaf': 3, 'min_samples_split': 5}\n",
      "CPU times: user 1min 42s, sys: 531 ms, total: 1min 42s\n",
      "Wall time: 1min 44s\n"
     ]
    }
   ],
   "source": [
    "%%time\n",
    "## train and fit model\n",
    "rf = ensemble.RandomForestClassifier()\n",
    "\n",
    "parameters = { \n",
    "              'max_features': ['log2', 'sqrt','auto'], \n",
    "              'criterion': ['entropy'],\n",
    "              'max_depth': list(np.arange(5, 31, 5)), \n",
    "              'min_samples_split': list(np.arange(3, 12, 2)),\n",
    "              'min_samples_leaf': list(np.arange(3, 12, 2))\n",
    "             }\n",
    "\n",
    "acc_scorer = make_scorer(accuracy_score)\n",
    "\n",
    "rfc = GridSearchCV(rf, parameters, scoring=acc_scorer).fit(x_train,  y_train)\n",
    "\n",
    "## Show Best Parameters\n",
    "print(rfc.best_params_)\n"
   ]
  },
  {
   "cell_type": "code",
   "execution_count": 25,
   "metadata": {},
   "outputs": [
    {
     "name": "stdout",
     "output_type": "stream",
     "text": [
      "accuracy score:\n",
      "0.992\n",
      "\n",
      "cross validation:\n",
      "[0.9800995  0.92537313 0.945      0.9798995  0.95979899]\n",
      "\n",
      "cross validation with AUC:\n",
      "[0.99385774 0.98023578 0.98289316 0.99595715 0.9906509 ]\n",
      "\n",
      "confusion matrix:\n",
      "[[508   4]\n",
      " [  4 484]]\n",
      "\n",
      "              precision    recall  f1-score   support\n",
      "\n",
      "           0       0.99      0.99      0.99       512\n",
      "           1       0.99      0.99      0.99       488\n",
      "\n",
      "   micro avg       0.99      0.99      0.99      1000\n",
      "   macro avg       0.99      0.99      0.99      1000\n",
      "weighted avg       0.99      0.99      0.99      1000\n",
      "\n",
      "CPU times: user 4min 58s, sys: 1.41 s, total: 4min 59s\n",
      "Wall time: 5min 4s\n"
     ]
    }
   ],
   "source": [
    "%%time\n",
    "## Model Evaluation\n",
    "print(\"accuracy score:\\n\" + str(rfc.score(x_test, y_test))+'\\n')\n",
    "\n",
    "print(\"cross validation:\\n\" + str(cross_val_score(rfc, x_test, y_test, cv=5))+'\\n')\n",
    "\n",
    "print(\"cross validation with AUC:\\n\" + str(cross_val_score(rfc, x_test, y_test, cv=5, scoring='roc_auc'))+'\\n')\n",
    "\n",
    "print(\"confusion matrix:\\n\" + str(confusion_matrix(y_test, rfc.predict(x_test)))+'\\n')\n",
    "\n",
    "print(classification_report(y_test, rfc.predict(x_test)))\n"
   ]
  },
  {
   "cell_type": "code",
   "execution_count": 26,
   "metadata": {},
   "outputs": [
    {
     "name": "stdout",
     "output_type": "stream",
     "text": [
      "{'criterion': 'entropy', 'max_depth': 20, 'max_features': 'log2', 'min_samples_leaf': 3, 'min_samples_split': 3}\n",
      "CPU times: user 1min 26s, sys: 403 ms, total: 1min 27s\n",
      "Wall time: 1min 28s\n"
     ]
    }
   ],
   "source": [
    "%%time\n",
    "## train and fit model\n",
    "k_rfc = GridSearchCV(rf, parameters, scoring=acc_scorer).fit(kx_train,  ky_train)\n",
    "\n",
    "## Show Best Parameters\n",
    "print(k_rfc.best_params_)\n"
   ]
  },
  {
   "cell_type": "code",
   "execution_count": 27,
   "metadata": {},
   "outputs": [
    {
     "name": "stdout",
     "output_type": "stream",
     "text": [
      "accuracy score:\n",
      "0.984\n",
      "\n",
      "cross validation:\n",
      "[0.96517413 0.985      0.95       0.95       0.94472362]\n",
      "\n",
      "cross validation with AUC:\n",
      "[0.99325397 0.98888221 0.98222155 0.97450921 0.98628543]\n",
      "\n",
      "confusion matrix:\n",
      "[[473   6]\n",
      " [ 10 511]]\n",
      "\n",
      "              precision    recall  f1-score   support\n",
      "\n",
      "           0       0.98      0.99      0.98       479\n",
      "           1       0.99      0.98      0.98       521\n",
      "\n",
      "   micro avg       0.98      0.98      0.98      1000\n",
      "   macro avg       0.98      0.98      0.98      1000\n",
      "weighted avg       0.98      0.98      0.98      1000\n",
      "\n",
      "CPU times: user 4min 14s, sys: 1.54 s, total: 4min 16s\n",
      "Wall time: 4min 19s\n"
     ]
    }
   ],
   "source": [
    "%%time\n",
    "## Model Evaluation\n",
    "print(\"accuracy score:\\n\" + str(k_rfc.score(kx_test, ky_test))+'\\n')\n",
    "\n",
    "print(\"cross validation:\\n\" + str(cross_val_score(k_rfc, kx_test, ky_test, cv=5))+'\\n')\n",
    "\n",
    "print(\"cross validation with AUC:\\n\" + str(cross_val_score(k_rfc, kx_test, ky_test, cv=5, scoring='roc_auc'))+'\\n')\n",
    "\n",
    "print(\"confusion matrix:\\n\" + str(confusion_matrix(ky_test, k_rfc.predict(kx_test)))+'\\n')\n",
    "\n",
    "print(classification_report(ky_test, k_rfc.predict(kx_test)))\n"
   ]
  },
  {
   "cell_type": "markdown",
   "metadata": {},
   "source": [
    "The random forest almost had the highest performance out of all of the models.\n",
    "The version of the decision tree with the 20 best features had more false negatives.\n",
    "The cross validation showed that few signs of overfitting with this model. \n",
    "Using K features resulted in stronger cross validated accuracy and AUC scores.\n",
    "Despite the fact that using the 20 best features resulted in better performance, the model that used all of the features would still be preferable because minimizing false negatives falls more inline with the business objective."
   ]
  },
  {
   "cell_type": "markdown",
   "metadata": {},
   "source": [
    "### Logistic Regression"
   ]
  },
  {
   "cell_type": "code",
   "execution_count": 28,
   "metadata": {},
   "outputs": [
    {
     "name": "stdout",
     "output_type": "stream",
     "text": [
      "CPU times: user 67.2 ms, sys: 7.91 ms, total: 75.1 ms\n",
      "Wall time: 78.2 ms\n"
     ]
    }
   ],
   "source": [
    "%%time\n",
    "## train and fit model\n",
    "lr = LogisticRegression(penalty='l1' ).fit(x_train, y_train)\n"
   ]
  },
  {
   "cell_type": "code",
   "execution_count": 29,
   "metadata": {},
   "outputs": [
    {
     "name": "stdout",
     "output_type": "stream",
     "text": [
      "accuracy score:\n",
      "0.947\n",
      "\n",
      "cross validation:\n",
      "[0.9800995  0.90547264 0.93       0.94472362 0.95477387]\n",
      "\n",
      "cross validation with AUC:\n",
      "[0.99128195 0.97136913 0.9794918  0.99181322 0.9855468 ]\n",
      "\n",
      "confusion matrix:\n",
      "[[494  18]\n",
      " [ 35 453]]\n",
      "\n",
      "              precision    recall  f1-score   support\n",
      "\n",
      "           0       0.93      0.96      0.95       512\n",
      "           1       0.96      0.93      0.94       488\n",
      "\n",
      "   micro avg       0.95      0.95      0.95      1000\n",
      "   macro avg       0.95      0.95      0.95      1000\n",
      "weighted avg       0.95      0.95      0.95      1000\n",
      "\n",
      "CPU times: user 426 ms, sys: 92 ms, total: 518 ms\n",
      "Wall time: 141 ms\n"
     ]
    }
   ],
   "source": [
    "%%time\n",
    "## Model Evaluation\n",
    "print(\"accuracy score:\\n\" + str(lr.score(x_test, y_test))+'\\n')\n",
    "\n",
    "print(\"cross validation:\\n\" + str(cross_val_score(lr, x_test, y_test, cv=5))+'\\n')\n",
    "\n",
    "print(\"cross validation with AUC:\\n\" + str(cross_val_score(lr, x_test, y_test, cv=5, scoring='roc_auc'))+'\\n')\n",
    "\n",
    "print(\"confusion matrix:\\n\" + str(confusion_matrix(y_test, lr.predict(x_test)))+'\\n')\n",
    "\n",
    "print(classification_report(y_test, lr.predict(x_test)))\n"
   ]
  },
  {
   "cell_type": "code",
   "execution_count": 30,
   "metadata": {},
   "outputs": [
    {
     "name": "stdout",
     "output_type": "stream",
     "text": [
      "CPU times: user 29.9 ms, sys: 3.1 ms, total: 32.9 ms\n",
      "Wall time: 32.7 ms\n"
     ]
    }
   ],
   "source": [
    "%%time\n",
    "## train and fit model\n",
    "k_lr = LogisticRegression(penalty='l1' ).fit(kx_train, ky_train)\n"
   ]
  },
  {
   "cell_type": "code",
   "execution_count": 31,
   "metadata": {
    "scrolled": false
   },
   "outputs": [
    {
     "name": "stdout",
     "output_type": "stream",
     "text": [
      "accuracy score:\n",
      "0.942\n",
      "\n",
      "cross validation:\n",
      "[0.95522388 0.94       0.94       0.95       0.93467337]\n",
      "\n",
      "cross validation with AUC:\n",
      "[0.97797619 0.96694712 0.98086939 0.98006811 0.9638664 ]\n",
      "\n",
      "confusion matrix:\n",
      "[[471   8]\n",
      " [ 50 471]]\n",
      "\n",
      "              precision    recall  f1-score   support\n",
      "\n",
      "           0       0.90      0.98      0.94       479\n",
      "           1       0.98      0.90      0.94       521\n",
      "\n",
      "   micro avg       0.94      0.94      0.94      1000\n",
      "   macro avg       0.94      0.94      0.94      1000\n",
      "weighted avg       0.95      0.94      0.94      1000\n",
      "\n",
      "CPU times: user 251 ms, sys: 55.9 ms, total: 307 ms\n",
      "Wall time: 78.1 ms\n"
     ]
    }
   ],
   "source": [
    "%%time\n",
    "## Model Evaluation\n",
    "print(\"accuracy score:\\n\" + str(k_lr.score(kx_test, ky_test))+'\\n')\n",
    "\n",
    "print(\"cross validation:\\n\" + str(cross_val_score(k_lr, kx_test, ky_test, cv=5))+'\\n')\n",
    "\n",
    "print(\"cross validation with AUC:\\n\" + str(cross_val_score(k_lr, kx_test, ky_test, cv=5, scoring='roc_auc'))+'\\n')\n",
    "\n",
    "print(\"confusion matrix:\\n\" + str(confusion_matrix(ky_test, k_lr.predict(kx_test)))+'\\n')\n",
    "\n",
    "print(classification_report(ky_test, k_lr.predict(kx_test)))\n"
   ]
  },
  {
   "cell_type": "markdown",
   "metadata": {},
   "source": [
    "The logistic regression classifier had middling performance compared to the rest of the other models.\n",
    "For both versions of this model, the number of false negatives was significantly greater.\n",
    "The cross validation showed that some signs of overfitting with this model. \n",
    "Using K features resulted in lower accuracy and AUC scores.\n",
    "The model that used all of the features would be preferable due to its overall better performance."
   ]
  },
  {
   "cell_type": "markdown",
   "metadata": {},
   "source": [
    "### Support Vector "
   ]
  },
  {
   "cell_type": "code",
   "execution_count": 32,
   "metadata": {},
   "outputs": [
    {
     "name": "stdout",
     "output_type": "stream",
     "text": [
      "CPU times: user 555 ms, sys: 37.8 ms, total: 592 ms\n",
      "Wall time: 602 ms\n"
     ]
    }
   ],
   "source": [
    "%%time\n",
    "## train and fit model\n",
    "svc = SVC().fit(x_train, y_train)\n"
   ]
  },
  {
   "cell_type": "code",
   "execution_count": 33,
   "metadata": {},
   "outputs": [
    {
     "name": "stdout",
     "output_type": "stream",
     "text": [
      "accuracy score:\n",
      "0.994\n",
      "\n",
      "cross validation:\n",
      "[0.84577114 0.79104478 0.815      0.8040201  0.8040201 ]\n",
      "\n",
      "cross validation with AUC:\n",
      "[0.88091936 0.82355855 0.82963185 0.82757227 0.84652315]\n",
      "\n",
      "confusion matrix:\n",
      "[[512   0]\n",
      " [  6 482]]\n",
      "\n",
      "              precision    recall  f1-score   support\n",
      "\n",
      "           0       0.99      1.00      0.99       512\n",
      "           1       1.00      0.99      0.99       488\n",
      "\n",
      "   micro avg       0.99      0.99      0.99      1000\n",
      "   macro avg       0.99      0.99      0.99      1000\n",
      "weighted avg       0.99      0.99      0.99      1000\n",
      "\n",
      "CPU times: user 599 ms, sys: 4.03 ms, total: 603 ms\n",
      "Wall time: 601 ms\n"
     ]
    }
   ],
   "source": [
    "%%time\n",
    "## Model Evaluation\n",
    "print(\"accuracy score:\\n\" + str(svc.score(x_test, y_test))+'\\n')\n",
    "\n",
    "print(\"cross validation:\\n\" + str(cross_val_score(svc, x_test, y_test, cv=5))+'\\n')\n",
    "\n",
    "print(\"cross validation with AUC:\\n\" + str(cross_val_score(svc, x_test, y_test, cv=5, scoring='roc_auc'))+'\\n')\n",
    "\n",
    "print(\"confusion matrix:\\n\" + str(confusion_matrix(y_test, svc.predict(x_test)))+'\\n')\n",
    "\n",
    "print(classification_report(y_test, svc.predict(x_test)))\n"
   ]
  },
  {
   "cell_type": "code",
   "execution_count": 34,
   "metadata": {},
   "outputs": [
    {
     "name": "stdout",
     "output_type": "stream",
     "text": [
      "CPU times: user 454 ms, sys: 16.7 ms, total: 471 ms\n",
      "Wall time: 470 ms\n"
     ]
    }
   ],
   "source": [
    "%%time\n",
    "## train and fit model\n",
    "k_svc = SVC().fit(kx_train, ky_train)\n"
   ]
  },
  {
   "cell_type": "code",
   "execution_count": 35,
   "metadata": {
    "scrolled": false
   },
   "outputs": [
    {
     "name": "stdout",
     "output_type": "stream",
     "text": [
      "accuracy score:\n",
      "0.99\n",
      "\n",
      "cross validation:\n",
      "[0.77114428 0.825      0.795      0.81       0.79396985]\n",
      "\n",
      "cross validation with AUC:\n",
      "[0.82594246 0.86197917 0.8447516  0.84214744 0.84949393]\n",
      "\n",
      "confusion matrix:\n",
      "[[479   0]\n",
      " [ 10 511]]\n",
      "\n",
      "              precision    recall  f1-score   support\n",
      "\n",
      "           0       0.98      1.00      0.99       479\n",
      "           1       1.00      0.98      0.99       521\n",
      "\n",
      "   micro avg       0.99      0.99      0.99      1000\n",
      "   macro avg       0.99      0.99      0.99      1000\n",
      "weighted avg       0.99      0.99      0.99      1000\n",
      "\n",
      "CPU times: user 436 ms, sys: 5.49 ms, total: 441 ms\n",
      "Wall time: 439 ms\n"
     ]
    }
   ],
   "source": [
    "%%time\n",
    "## Model Evaluation\n",
    "print(\"accuracy score:\\n\" + str(k_svc.score(kx_test, ky_test))+'\\n')\n",
    "\n",
    "print(\"cross validation:\\n\" + str(cross_val_score(k_svc, kx_test, ky_test, cv=5))+'\\n')\n",
    "\n",
    "print(\"cross validation with AUC:\\n\" + str(cross_val_score(k_svc, kx_test, ky_test, cv=5, scoring='roc_auc'))+'\\n')\n",
    "\n",
    "print(\"confusion matrix:\\n\" + str(confusion_matrix(ky_test, k_svc.predict(kx_test)))+'\\n')\n",
    "\n",
    "print(classification_report(ky_test, k_svc.predict(kx_test)))\n"
   ]
  },
  {
   "cell_type": "markdown",
   "metadata": {},
   "source": [
    "The support vector classifier had relatively low performance out of all of the models.\n",
    "The accuracy was high but crossvalided AUC scores were low which could be a sign of overfitting.\n",
    "Both versions of the support vector classifier had more false negatives than false positives.\n",
    "Using K features resulted in similar cross validated accuracy and AUC scores.\n",
    "Using support vector classifiers for this data may result in lower performance due to a lack of discrete classes relative to the types of data that may come from the transformed features."
   ]
  },
  {
   "cell_type": "markdown",
   "metadata": {},
   "source": [
    "### Gradient Boost "
   ]
  },
  {
   "cell_type": "code",
   "execution_count": 36,
   "metadata": {},
   "outputs": [
    {
     "name": "stdout",
     "output_type": "stream",
     "text": [
      "{'loss': 'exponential', 'max_depth': 4, 'n_estimators': 750}\n",
      "CPU times: user 13min 56s, sys: 3.37 s, total: 13min 59s\n",
      "Wall time: 14min 6s\n"
     ]
    }
   ],
   "source": [
    "%%time\n",
    "## train and fit model\n",
    "cl = ensemble.GradientBoostingClassifier()\n",
    "\n",
    "parameters = { \n",
    "              'n_estimators': list(np.arange(200, 801, 50)),\n",
    "              'max_depth': list(range(1,5)),\n",
    "              'loss': ['deviance', 'exponential']\n",
    "             }\n",
    "\n",
    "acc_scorer = make_scorer(accuracy_score)\n",
    "\n",
    "clf = GridSearchCV(cl, parameters, scoring=acc_scorer).fit(x_train,  y_train)\n",
    "\n",
    "## Show Best Parameters\n",
    "print(clf.best_params_)"
   ]
  },
  {
   "cell_type": "code",
   "execution_count": 37,
   "metadata": {},
   "outputs": [
    {
     "name": "stdout",
     "output_type": "stream",
     "text": [
      "accuracy score:\n",
      "0.997\n",
      "\n",
      "cross validation:\n",
      "[0.9800995  0.93532338 0.96       0.97487437 0.95979899]\n",
      "\n",
      "cross validation with AUC:\n",
      "[0.99663166 0.99098474 0.99489796 0.99747322 0.99211643]\n",
      "\n",
      "confusion matrix:\n",
      "[[509   3]\n",
      " [  0 488]]\n",
      "\n",
      "              precision    recall  f1-score   support\n",
      "\n",
      "           0       1.00      0.99      1.00       512\n",
      "           1       0.99      1.00      1.00       488\n",
      "\n",
      "   micro avg       1.00      1.00      1.00      1000\n",
      "   macro avg       1.00      1.00      1.00      1000\n",
      "weighted avg       1.00      1.00      1.00      1000\n",
      "\n",
      "CPU times: user 28min 59s, sys: 7.67 s, total: 29min 7s\n",
      "Wall time: 29min 19s\n"
     ]
    }
   ],
   "source": [
    "%%time\n",
    "## Model Evaluation\n",
    "print(\"accuracy score:\\n\" + str(clf.score(x_test, y_test))+'\\n')\n",
    "\n",
    "print(\"cross validation:\\n\" + str(cross_val_score(clf, x_test, y_test, cv=5))+'\\n')\n",
    "\n",
    "print(\"cross validation with AUC:\\n\" + str(cross_val_score(clf, x_test, y_test, cv=5, scoring='roc_auc'))+'\\n')\n",
    "\n",
    "print(\"confusion matrix:\\n\" + str(confusion_matrix(y_test, clf.predict(x_test)))+'\\n')\n",
    "\n",
    "print(classification_report(y_test, clf.predict(x_test)))\n"
   ]
  },
  {
   "cell_type": "code",
   "execution_count": 38,
   "metadata": {},
   "outputs": [
    {
     "name": "stdout",
     "output_type": "stream",
     "text": [
      "CPU times: user 10min 6s, sys: 2.47 s, total: 10min 9s\n",
      "Wall time: 10min 12s\n"
     ]
    }
   ],
   "source": [
    "%%time\n",
    "## train and fit model\n",
    "k_clf = GridSearchCV(cl, parameters, scoring=acc_scorer).fit(kx_train,  ky_train)"
   ]
  },
  {
   "cell_type": "code",
   "execution_count": 39,
   "metadata": {
    "scrolled": false
   },
   "outputs": [
    {
     "name": "stdout",
     "output_type": "stream",
     "text": [
      "accuracy score:\n",
      "0.988\n",
      "\n",
      "cross validation:\n",
      "[0.97512438 0.985      0.945      0.95       0.95477387]\n",
      "\n",
      "cross validation with AUC:\n",
      "[0.99742063 0.99589343 0.98477564 0.97175481 0.98431174]\n",
      "\n",
      "confusion matrix:\n",
      "[[473   6]\n",
      " [  6 515]]\n",
      "\n",
      "              precision    recall  f1-score   support\n",
      "\n",
      "           0       0.99      0.99      0.99       479\n",
      "           1       0.99      0.99      0.99       521\n",
      "\n",
      "   micro avg       0.99      0.99      0.99      1000\n",
      "   macro avg       0.99      0.99      0.99      1000\n",
      "weighted avg       0.99      0.99      0.99      1000\n",
      "\n",
      "CPU times: user 22min 55s, sys: 4.34 s, total: 23min\n",
      "Wall time: 23min 6s\n"
     ]
    }
   ],
   "source": [
    "%%time\n",
    "## Model Evaluation\n",
    "print(\"accuracy score:\\n\" + str(k_clf.score(kx_test, ky_test))+'\\n')\n",
    "\n",
    "print(\"cross validation:\\n\" + str(cross_val_score(k_clf, kx_test, ky_test, cv=5))+'\\n')\n",
    "\n",
    "print(\"cross validation with AUC:\\n\" + str(cross_val_score(k_clf, kx_test, ky_test, cv=5, scoring='roc_auc'))+'\\n')\n",
    "\n",
    "print(\"confusion matrix:\\n\" + str(confusion_matrix(ky_test, k_clf.predict(kx_test)))+'\\n')\n",
    "\n",
    "print(classification_report(ky_test, k_clf.predict(kx_test)))"
   ]
  },
  {
   "cell_type": "markdown",
   "metadata": {},
   "source": [
    "The gradient boost classifier had the highest performance out of all of the models.\n",
    "The version of the decision tree with the 20 best features had more false negatives.\n",
    "The cross validation showed almost no signs of overfitting with this model. \n",
    "Using all of the features resulted in stronger cross validated accuracy and AUC scores.\n",
    "The model that used all of the features is preferable since it minimizes false negatives an has better overall performance."
   ]
  },
  {
   "cell_type": "markdown",
   "metadata": {},
   "source": [
    "## Analysis and Conclusion\n",
    "\n",
    "The gradient boost model that used all of the features turned out the best performer when it came to detecting credit card fraud. \n",
    "It had high performance, minimized false negatives, and didn't show a tendency to overfit.\n",
    "This result was to be expected since the gradient boost builds on another strong model, the decision tree, to lower potential error.\n",
    "This study gives much more insight into methods and best practices for using supervised learning techniques to detect and, further down the line, combat credit card fraud.\n"
   ]
  },
  {
   "cell_type": "code",
   "execution_count": null,
   "metadata": {},
   "outputs": [],
   "source": []
  }
 ],
 "metadata": {
  "kernelspec": {
   "display_name": "Python 3",
   "language": "python",
   "name": "python3"
  },
  "language_info": {
   "codemirror_mode": {
    "name": "ipython",
    "version": 3
   },
   "file_extension": ".py",
   "mimetype": "text/x-python",
   "name": "python",
   "nbconvert_exporter": "python",
   "pygments_lexer": "ipython3",
   "version": "3.7.3"
  }
 },
 "nbformat": 4,
 "nbformat_minor": 2
}
