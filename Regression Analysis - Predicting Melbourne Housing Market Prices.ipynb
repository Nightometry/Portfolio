{
 "cells": [
  {
   "cell_type": "markdown",
   "metadata": {},
   "source": [
    "# Regression Analysis: Predicting Melbourne Housing Market Prices\n",
    "\n",
    "<br>\n",
    "\n",
    "Housing prices have steadily increased over the course of the past three decades with the exception of severe economic downturns such as the economic recession of 2008. \n",
    "The housing market is not only a very strong economic indicator but it has a financial impact on anyone looking to own a home themselves. \n",
    "To better understand the effects that individual factors have on the housing prices, I am interested in using supervised learning techniques to model housing prices.\n",
    "By using machine learning techniques to do this the process can be automated to include a large amount of data points and different trends can be detected that may not be readily apparent to humans.\n",
    "\n",
    "\n",
    "In this study, several types of supervised learning classification models were used to predict housing prices in Melbourne, Australia. Models focused on utilizing multiple housing price indicators, including factors related to the size and location of the living spaces. The different models were compared to better understand their ability to utilize the data to accurately predict the housing market using multiple forms of statistical evaluation. The process used to undertake this study is as follows:\n",
    "\n",
    "<br>\n",
    "\n",
    "\n",
    "Data Exploration and Analysis\n",
    "* Viewing the Distribution of the Datapoints\n",
    "* Checking the Range of the Classes\n",
    "* Interpreting Descriptive Statistics\n",
    "\n",
    "Preparing The Data For Modeling\n",
    "* Imputing Outliers\n",
    "* Normalization Linear Transformations\n",
    "* Feature Selection\n",
    "\n",
    "Modeling the Data \n",
    "1. Using All Available Features\n",
    "2. Using PCA Components\n",
    "3. Using Selectkbest Function\n"
   ]
  },
  {
   "cell_type": "code",
   "execution_count": 1,
   "metadata": {},
   "outputs": [
    {
     "name": "stdout",
     "output_type": "stream",
     "text": [
      "CPU times: user 1.6 s, sys: 461 ms, total: 2.06 s\n",
      "Wall time: 1.6 s\n"
     ]
    }
   ],
   "source": [
    "%%time\n",
    "\n",
    "import math\n",
    "import re\n",
    "import warnings\n",
    "\n",
    "from IPython.display import display\n",
    "from matplotlib import pyplot as plt\n",
    "import numpy as np\n",
    "import pandas as pd\n",
    "import seaborn as sns\n",
    "import statsmodels.formula.api as smf\n",
    "from matplotlib.mlab import PCA as mlabPCA\n",
    "from sklearn.naive_bayes import BernoulliNB\n",
    "from sklearn import linear_model\n",
    "from sklearn.preprocessing import StandardScaler\n",
    "from sklearn.decomposition import PCA \n",
    "from sklearn.model_selection import train_test_split\n",
    "from sklearn.model_selection import cross_val_score\n",
    "from sklearn.metrics import mean_squared_error\n",
    "from sklearn import neighbors\n",
    "from sklearn.utils import resample\n",
    "from sklearn import tree\n",
    "from sklearn.metrics import confusion_matrix\n",
    "from sklearn.metrics import classification_report\n",
    "from sklearn.feature_selection import SelectKBest, chi2, f_classif\n",
    "from sklearn.ensemble import RandomForestClassifier\n",
    "from sklearn.metrics import make_scorer, accuracy_score, r2_score\n",
    "from sklearn.model_selection import GridSearchCV\n",
    "from sklearn import ensemble\n",
    "from sklearn.linear_model import LogisticRegression\n",
    "from sklearn.svm import SVC, SVR, NuSVR\n",
    "from sklearn.feature_extraction.text import TfidfVectorizer\n",
    "from sklearn.decomposition import TruncatedSVD\n",
    "from sklearn.decomposition import KernelPCA\n",
    "from sklearn.pipeline import make_pipeline\n",
    "from sklearn.preprocessing import Normalizer\n",
    "from sklearn.metrics import mean_squared_error\n",
    "\n",
    "from datetime import datetime\n",
    "from dateutil.parser import parse\n",
    "from nltk.stem.porter import PorterStemmer\n",
    "\n",
    "\n",
    "# Display preferences.\n",
    "%matplotlib inline\n",
    "pd.options.display.float_format = '{:.3f}'.format\n",
    "\n",
    "# Suppress annoying harmless error.\n",
    "warnings.filterwarnings(\n",
    "    action=\"ignore\",\n",
    "    module=\"sklearn\"  \n",
    "    )\n",
    "\n",
    "\n",
    "# Set Plot Style\n",
    "sns.set_style('darkgrid')\n",
    "\n",
    "# Set Float Format\n",
    "#pd.options.display.float_format = '{:,.0f}'.format"
   ]
  },
  {
   "cell_type": "code",
   "execution_count": 2,
   "metadata": {},
   "outputs": [
    {
     "name": "stdout",
     "output_type": "stream",
     "text": [
      "CPU times: user 5 µs, sys: 1 µs, total: 6 µs\n",
      "Wall time: 10.3 µs\n"
     ]
    }
   ],
   "source": [
    "%%time\n",
    "\n",
    "## Define Functions\n",
    "\n",
    "# Converting to datetime\n",
    "def alt_to_datetime(x):\n",
    "    return  pd.to_datetime(x, format='%d/%m/%Y', errors='coerce')\n",
    "\n",
    "# Definine RMSE function for Model Evaluation\n",
    "def rmse(predictions, targets):\n",
    "    return np.sqrt(((predictions - targets) ** 2).mean())\n"
   ]
  },
  {
   "cell_type": "code",
   "execution_count": 3,
   "metadata": {
    "scrolled": false
   },
   "outputs": [
    {
     "name": "stdout",
     "output_type": "stream",
     "text": [
      "CPU times: user 235 ms, sys: 50.4 ms, total: 285 ms\n",
      "Wall time: 287 ms\n"
     ]
    }
   ],
   "source": [
    "%%time\n",
    "\n",
    "## Import Files\n",
    "\n",
    "df1 = pd.read_csv('MELBOURNE_HOUSE_PRICES_LESS.csv')\n",
    "df2 = pd.read_csv('Melbourne_housing_FULL.csv')\n"
   ]
  },
  {
   "cell_type": "code",
   "execution_count": 4,
   "metadata": {
    "scrolled": false
   },
   "outputs": [],
   "source": [
    "## View Data for Cleaning\n",
    "\n",
    "#df1.head(7)\n",
    "#df1.dtypes\n",
    "#df1.describe()\n",
    "#df1.isnull().sum(axis = 0)\n",
    "#len(df1)\n",
    "\n",
    "#df2.head(7)\n",
    "#df2.dtypes\n",
    "#df2.describe()\n",
    "#df2.isnull().sum(axis = 0)\n",
    "#len(df2)\n"
   ]
  },
  {
   "cell_type": "code",
   "execution_count": 5,
   "metadata": {
    "scrolled": true
   },
   "outputs": [
    {
     "name": "stdout",
     "output_type": "stream",
     "text": [
      "CPU times: user 215 ms, sys: 13.8 ms, total: 229 ms\n",
      "Wall time: 228 ms\n"
     ]
    }
   ],
   "source": [
    "%%time\n",
    "\n",
    "## Reorder Columns in df2 \n",
    "\n",
    "df2 = df2[['Suburb',\n",
    "        'Address',\n",
    "        'Rooms',\n",
    "        'Type',\n",
    "        'Price',\n",
    "        'Method',\n",
    "        'SellerG',\n",
    "        'Date',\n",
    "        'Postcode',\n",
    "        'Regionname',\n",
    "        'Propertycount',\n",
    "        'Distance',\n",
    "        'CouncilArea',\n",
    "        'Bedroom2',\n",
    "        'Bathroom',\n",
    "        'BuildingArea']]\n",
    "\n",
    "## Make Postcodes in df2 Match Format of Postcodes in df1\n",
    "\n",
    "#df2.query('Postcode.isnull()')\n",
    "df2.loc[df2['Suburb'] == 'Fawkner Lot', 'Postcode'] = 3060\n",
    "#df2.loc[df2['Suburb'] == 'Fawkner Lot']\n",
    "df2.Postcode = df2.Postcode.apply(int)\n",
    "\n",
    "## Impute Null Price Values  in both DataFrames With Mean Price of Houses of the Relevant Number of Rooms\n",
    "\n",
    "for x in list(df1.Rooms.unique()):\n",
    "    df1.loc[df1['Rooms'] == x, 'Price'] = df1.loc[df1['Rooms'] == x].Price.fillna(df1.loc[df1['Rooms'] == x].Price.mean())\n",
    "    \n",
    "for x in list(df2.Rooms.unique()):\n",
    "    df2.loc[df2['Rooms'] == x, 'Price'] = df2.loc[df2['Rooms'] == x].Price.fillna(df2.loc[df2['Rooms'] == x].Price.mean())  \n",
    "    "
   ]
  },
  {
   "cell_type": "code",
   "execution_count": 6,
   "metadata": {},
   "outputs": [],
   "source": [
    "### Imputing Null Values in df2\n",
    "\n",
    "## Drop Unnecessary Values\n",
    "\n",
    "df2 = df2.drop(df2.index[29483])\n",
    "df2 = df2.drop('Bedroom2', axis=1)\n",
    "\n",
    "## Imputing Regionname Values\n",
    "\n",
    "df2.iloc[18523, 9] = list(df2.loc[df2['Suburb'] == 'Footscray', 'Regionname'].mode())\n",
    "df2.iloc[26888, 9] = list(df2.loc[df2['Suburb'] == 'Camberwell', 'Regionname'].mode())\n",
    "\n",
    "\n",
    "## Imputing Regionname Values\n",
    "\n",
    "df2.iloc[18523, 10] = list(df2.loc[df2['Suburb'] == 'Footscray', 'Propertycount'].mode())\n",
    "df2.iloc[26888, 10] = list(df2.loc[df2['Suburb'] == 'Camberwell', 'Propertycount'].mode())\n",
    "\n",
    "## Imputing CouncilArea Values\n",
    "\n",
    "df2.iloc[18523, 12] = list(df2.loc[df2['Suburb'] == 'Footscray', 'CouncilArea'].mode())\n",
    "df2.iloc[26888, 12] = list(df2.loc[df2['Suburb'] == 'Camberwell', 'CouncilArea'].mode())\n"
   ]
  },
  {
   "cell_type": "code",
   "execution_count": 7,
   "metadata": {
    "scrolled": false
   },
   "outputs": [
    {
     "name": "stdout",
     "output_type": "stream",
     "text": [
      "CPU times: user 50.6 ms, sys: 13.8 ms, total: 64.4 ms\n",
      "Wall time: 63.6 ms\n"
     ]
    },
    {
     "name": "stderr",
     "output_type": "stream",
     "text": [
      "/usr/local/lib/python3.7/site-packages/ipykernel_launcher.py:4: FutureWarning: Sorting because non-concatenation axis is not aligned. A future version\n",
      "of pandas will change to not sort by default.\n",
      "\n",
      "To accept the future behavior, pass 'sort=False'.\n",
      "\n",
      "To retain the current behavior and silence the warning, pass 'sort=True'.\n",
      "\n",
      "  after removing the cwd from sys.path.\n"
     ]
    }
   ],
   "source": [
    "%%time\n",
    "\n",
    "## Merge the two DataFrames\n",
    "\n",
    "df = pd.concat([df1, df2])\n",
    "\n",
    "## Reset Index\n",
    "\n",
    "df.reset_index(inplace=True)\n",
    "df.drop(\"index\",axis=1,inplace=True)\n"
   ]
  },
  {
   "cell_type": "code",
   "execution_count": 8,
   "metadata": {},
   "outputs": [],
   "source": [
    "### Impute Null Values in Combined DataFrame\n",
    "\n",
    "## Drop Unnecessary Values\n",
    "\n",
    "df = df.drop(df[df.Rooms > 8].index)\n",
    "df = df.drop(df.index[7452])\n",
    "\n",
    "## Impute Null Bathroom Count Values\n",
    "\n",
    "for x in list(df.Rooms.unique()):\n",
    "    df.loc[df['Rooms'] == x, 'Bathroom'] = df.loc[df['Rooms'] == x].Bathroom.fillna(df.loc[df['Rooms'] == x].Bathroom.mean())\n",
    "\n",
    "## Impute Null BuildingArea Values\n",
    "\n",
    "for x in list(df.Rooms.unique()):\n",
    "    df.loc[df['Rooms'] == x, 'BuildingArea'] = df.loc[df['Rooms'] == x].BuildingArea.fillna(df.loc[df['Rooms'] == x].BuildingArea.mean())\n",
    "    \n"
   ]
  },
  {
   "cell_type": "code",
   "execution_count": 9,
   "metadata": {},
   "outputs": [],
   "source": [
    "## Convert Date to Datetime\n",
    "\n",
    "df['Date'] = df.Date.apply(alt_to_datetime)\n",
    "\n",
    "## Convert Datetime to Float\n",
    "\n",
    "df['Date'] = df.Date.apply(lambda x: datetime.toordinal(x))\n",
    "\n",
    "## Make Postcodes Categorical\n",
    "\n",
    "df.Postcode = df.Postcode.apply(str)\n",
    "\n",
    "## Shorten Council Area Names For Readability\n",
    "\n",
    "df.CouncilArea = df.CouncilArea.apply(lambda x: str(x).replace(' City Council',''))\n"
   ]
  },
  {
   "cell_type": "markdown",
   "metadata": {},
   "source": [
    "## Data Exploration and Analysis\n",
    "\n",
    "Dataset used for this study includes information about home purchases in Melbourne pertaining to the homes and the circumstances in which they were sold. Such information includes: the location of the homes, the number of rooms in the homes, the type of home, the method in which the home was sold, and the seller of the home."
   ]
  },
  {
   "cell_type": "code",
   "execution_count": 10,
   "metadata": {
    "scrolled": false
   },
   "outputs": [
    {
     "name": "stdout",
     "output_type": "stream",
     "text": [
      "CPU times: user 863 µs, sys: 126 µs, total: 989 µs\n",
      "Wall time: 895 µs\n"
     ]
    },
    {
     "data": {
      "text/html": [
       "<div>\n",
       "<style scoped>\n",
       "    .dataframe tbody tr th:only-of-type {\n",
       "        vertical-align: middle;\n",
       "    }\n",
       "\n",
       "    .dataframe tbody tr th {\n",
       "        vertical-align: top;\n",
       "    }\n",
       "\n",
       "    .dataframe thead th {\n",
       "        text-align: right;\n",
       "    }\n",
       "</style>\n",
       "<table border=\"1\" class=\"dataframe\">\n",
       "  <thead>\n",
       "    <tr style=\"text-align: right;\">\n",
       "      <th></th>\n",
       "      <th>Address</th>\n",
       "      <th>Bathroom</th>\n",
       "      <th>BuildingArea</th>\n",
       "      <th>CouncilArea</th>\n",
       "      <th>Date</th>\n",
       "      <th>Distance</th>\n",
       "      <th>Method</th>\n",
       "      <th>Postcode</th>\n",
       "      <th>Price</th>\n",
       "      <th>Propertycount</th>\n",
       "      <th>Regionname</th>\n",
       "      <th>Rooms</th>\n",
       "      <th>SellerG</th>\n",
       "      <th>Suburb</th>\n",
       "      <th>Type</th>\n",
       "    </tr>\n",
       "  </thead>\n",
       "  <tbody>\n",
       "    <tr>\n",
       "      <th>0</th>\n",
       "      <td>49 Lithgow St</td>\n",
       "      <td>1.493</td>\n",
       "      <td>140.406</td>\n",
       "      <td>Yarra</td>\n",
       "      <td>736420</td>\n",
       "      <td>3.000</td>\n",
       "      <td>S</td>\n",
       "      <td>3067</td>\n",
       "      <td>1490000.000</td>\n",
       "      <td>4019.000</td>\n",
       "      <td>Northern Metropolitan</td>\n",
       "      <td>3</td>\n",
       "      <td>Jellis</td>\n",
       "      <td>Abbotsford</td>\n",
       "      <td>h</td>\n",
       "    </tr>\n",
       "    <tr>\n",
       "      <th>1</th>\n",
       "      <td>59A Turner St</td>\n",
       "      <td>1.493</td>\n",
       "      <td>140.406</td>\n",
       "      <td>Yarra</td>\n",
       "      <td>736420</td>\n",
       "      <td>3.000</td>\n",
       "      <td>S</td>\n",
       "      <td>3067</td>\n",
       "      <td>1220000.000</td>\n",
       "      <td>4019.000</td>\n",
       "      <td>Northern Metropolitan</td>\n",
       "      <td>3</td>\n",
       "      <td>Marshall</td>\n",
       "      <td>Abbotsford</td>\n",
       "      <td>h</td>\n",
       "    </tr>\n",
       "    <tr>\n",
       "      <th>2</th>\n",
       "      <td>119B Yarra St</td>\n",
       "      <td>1.493</td>\n",
       "      <td>140.406</td>\n",
       "      <td>Yarra</td>\n",
       "      <td>736420</td>\n",
       "      <td>3.000</td>\n",
       "      <td>S</td>\n",
       "      <td>3067</td>\n",
       "      <td>1420000.000</td>\n",
       "      <td>4019.000</td>\n",
       "      <td>Northern Metropolitan</td>\n",
       "      <td>3</td>\n",
       "      <td>Nelson</td>\n",
       "      <td>Abbotsford</td>\n",
       "      <td>h</td>\n",
       "    </tr>\n",
       "    <tr>\n",
       "      <th>3</th>\n",
       "      <td>68 Vida St</td>\n",
       "      <td>1.493</td>\n",
       "      <td>140.406</td>\n",
       "      <td>Moonee Valley</td>\n",
       "      <td>736420</td>\n",
       "      <td>7.500</td>\n",
       "      <td>S</td>\n",
       "      <td>3040</td>\n",
       "      <td>1515000.000</td>\n",
       "      <td>1543.000</td>\n",
       "      <td>Western Metropolitan</td>\n",
       "      <td>3</td>\n",
       "      <td>Barry</td>\n",
       "      <td>Aberfeldie</td>\n",
       "      <td>h</td>\n",
       "    </tr>\n",
       "    <tr>\n",
       "      <th>4</th>\n",
       "      <td>92 Clydesdale Rd</td>\n",
       "      <td>1.141</td>\n",
       "      <td>93.104</td>\n",
       "      <td>Moonee Valley</td>\n",
       "      <td>736420</td>\n",
       "      <td>10.400</td>\n",
       "      <td>S</td>\n",
       "      <td>3042</td>\n",
       "      <td>670000.000</td>\n",
       "      <td>3464.000</td>\n",
       "      <td>Western Metropolitan</td>\n",
       "      <td>2</td>\n",
       "      <td>Nelson</td>\n",
       "      <td>Airport West</td>\n",
       "      <td>h</td>\n",
       "    </tr>\n",
       "    <tr>\n",
       "      <th>5</th>\n",
       "      <td>4/32 Earl St</td>\n",
       "      <td>1.141</td>\n",
       "      <td>93.104</td>\n",
       "      <td>Moonee Valley</td>\n",
       "      <td>736420</td>\n",
       "      <td>10.400</td>\n",
       "      <td>S</td>\n",
       "      <td>3042</td>\n",
       "      <td>530000.000</td>\n",
       "      <td>3464.000</td>\n",
       "      <td>Western Metropolitan</td>\n",
       "      <td>2</td>\n",
       "      <td>Jellis</td>\n",
       "      <td>Airport West</td>\n",
       "      <td>t</td>\n",
       "    </tr>\n",
       "    <tr>\n",
       "      <th>6</th>\n",
       "      <td>3/74 Hawker St</td>\n",
       "      <td>1.141</td>\n",
       "      <td>93.104</td>\n",
       "      <td>Moonee Valley</td>\n",
       "      <td>736420</td>\n",
       "      <td>10.400</td>\n",
       "      <td>S</td>\n",
       "      <td>3042</td>\n",
       "      <td>540000.000</td>\n",
       "      <td>3464.000</td>\n",
       "      <td>Western Metropolitan</td>\n",
       "      <td>2</td>\n",
       "      <td>Barry</td>\n",
       "      <td>Airport West</td>\n",
       "      <td>u</td>\n",
       "    </tr>\n",
       "  </tbody>\n",
       "</table>\n",
       "</div>"
      ],
      "text/plain": [
       "            Address  Bathroom  BuildingArea    CouncilArea    Date  Distance  \\\n",
       "0     49 Lithgow St     1.493       140.406          Yarra  736420     3.000   \n",
       "1     59A Turner St     1.493       140.406          Yarra  736420     3.000   \n",
       "2     119B Yarra St     1.493       140.406          Yarra  736420     3.000   \n",
       "3        68 Vida St     1.493       140.406  Moonee Valley  736420     7.500   \n",
       "4  92 Clydesdale Rd     1.141        93.104  Moonee Valley  736420    10.400   \n",
       "5      4/32 Earl St     1.141        93.104  Moonee Valley  736420    10.400   \n",
       "6    3/74 Hawker St     1.141        93.104  Moonee Valley  736420    10.400   \n",
       "\n",
       "  Method Postcode       Price  Propertycount             Regionname  Rooms  \\\n",
       "0      S     3067 1490000.000       4019.000  Northern Metropolitan      3   \n",
       "1      S     3067 1220000.000       4019.000  Northern Metropolitan      3   \n",
       "2      S     3067 1420000.000       4019.000  Northern Metropolitan      3   \n",
       "3      S     3040 1515000.000       1543.000   Western Metropolitan      3   \n",
       "4      S     3042  670000.000       3464.000   Western Metropolitan      2   \n",
       "5      S     3042  530000.000       3464.000   Western Metropolitan      2   \n",
       "6      S     3042  540000.000       3464.000   Western Metropolitan      2   \n",
       "\n",
       "    SellerG        Suburb Type  \n",
       "0    Jellis    Abbotsford    h  \n",
       "1  Marshall    Abbotsford    h  \n",
       "2    Nelson    Abbotsford    h  \n",
       "3     Barry    Aberfeldie    h  \n",
       "4    Nelson  Airport West    h  \n",
       "5    Jellis  Airport West    t  \n",
       "6     Barry  Airport West    u  "
      ]
     },
     "execution_count": 10,
     "metadata": {},
     "output_type": "execute_result"
    }
   ],
   "source": [
    "%%time\n",
    "\n",
    "df.head(7)"
   ]
  },
  {
   "cell_type": "code",
   "execution_count": 11,
   "metadata": {
    "scrolled": false
   },
   "outputs": [
    {
     "data": {
      "image/png": "[encoded data removed]",
      "text/plain": [
       "<Figure size 1008x864 with 3 Axes>"
      ]
     },
     "metadata": {
      "needs_background": "light"
     },
     "output_type": "display_data"
    },
    {
     "name": "stdout",
     "output_type": "stream",
     "text": [
      "CPU times: user 2.04 s, sys: 297 ms, total: 2.34 s\n",
      "Wall time: 1.25 s\n"
     ]
    }
   ],
   "source": [
    "%%time\n",
    "\n",
    "## Barplot of Specific Suburbs\n",
    "\n",
    "fig = plt.figure(figsize=(14, 12))\n",
    "fig.subplots_adjust(hspace=1)\n",
    "\n",
    "plt.subplot(3, 1, 1)\n",
    "ax = df.Suburb.value_counts().head(25).plot(kind='bar',\n",
    "                                    \n",
    "                                    title=\"Suburbs with the Most Homes Sold\")\n",
    "ax.set_xlabel(\"Suburbs\")\n",
    "ax.set_ylabel(\"Frequency\")\n",
    "\n",
    "## Barplot of Specific Council Areas\n",
    "\n",
    "plt.subplot(3, 1, 2)\n",
    "ax = df.CouncilArea.value_counts().head(25).plot(kind='bar',\n",
    "                                    \n",
    "                                    title=\"Council Areas with the Most Homes Sold\")\n",
    "ax.set_xlabel(\"Council Areas\")\n",
    "ax.set_ylabel(\"Frequency\")\n",
    "\n",
    "## Barplot of Specific Postcodes\n",
    "\n",
    "plt.subplot(3, 1, 3)\n",
    "ax = df.Postcode.value_counts().head(25).plot(kind='bar',\n",
    "                                    \n",
    "                                    title=\"Postcodes with the Most Homes Sold\")\n",
    "ax.set_xlabel(\"Post Codes\")\n",
    "ax.set_ylabel(\"Frequency\")\n",
    "\n",
    "plt.show()"
   ]
  },
  {
   "cell_type": "markdown",
   "metadata": {},
   "source": [
    "With the exception of the top selling areas, there is a similar amount of homes sold among the Post Codes and Suburbs with the most homes sold. There apprars to be a sharper disparity in the council areas with the homes sold which is more reflective of greater difference in size of these areas. Each of these variables result in a large number of classes with fewer datapoints in each, which may not be as useful for modeling."
   ]
  },
  {
   "cell_type": "code",
   "execution_count": 12,
   "metadata": {
    "scrolled": true
   },
   "outputs": [
    {
     "name": "stdout",
     "output_type": "stream",
     "text": [
      "CPU times: user 69.7 ms, sys: 3.43 ms, total: 73.1 ms\n",
      "Wall time: 71.4 ms\n"
     ]
    },
    {
     "data": {
      "image/png": "[encoded data removed]",
      "text/plain": [
       "<Figure size 1008x864 with 1 Axes>"
      ]
     },
     "metadata": {
      "needs_background": "light"
     },
     "output_type": "display_data"
    }
   ],
   "source": [
    "%%time\n",
    "\n",
    "## Barplot of Specific Suburbs\n",
    "\n",
    "fig = plt.figure(figsize=(14, 12))\n",
    "fig.subplots_adjust(hspace=.5)\n",
    "\n",
    "plt.subplot(3, 1, 1)\n",
    "ax = df.SellerG.value_counts().head(25).plot(kind='bar',\n",
    "                                    \n",
    "                                    title=\"Top Sellers v. Number of Homes Sold\")\n",
    "ax.set_xlabel(\"Suburbs\")\n",
    "ax.set_ylabel(\"Sellers\")\n",
    "\n"
   ]
  },
  {
   "cell_type": "markdown",
   "metadata": {},
   "source": [
    "Aside from a few top selling real estate agents, there's a large number of agents (over 400) that sold less than two thousand homes."
   ]
  },
  {
   "cell_type": "code",
   "execution_count": 13,
   "metadata": {},
   "outputs": [
    {
     "data": {
      "text/plain": [
       "S     53789\n",
       "PI    14635\n",
       "SP    14005\n",
       "VB     9060\n",
       "SN     3989\n",
       "PN      959\n",
       "W       657\n",
       "SA      642\n",
       "SS      109\n",
       "Name: Method, dtype: int64"
      ]
     },
     "execution_count": 13,
     "metadata": {},
     "output_type": "execute_result"
    }
   ],
   "source": [
    "df.Method.value_counts()"
   ]
  },
  {
   "cell_type": "markdown",
   "metadata": {},
   "source": [
    "The vast majority of the transactions involved the homes being sold outright. Property being passed on or sold via auction make a minority of the transactions."
   ]
  },
  {
   "cell_type": "code",
   "execution_count": 14,
   "metadata": {
    "scrolled": true
   },
   "outputs": [
    {
     "data": {
      "text/plain": [
       "h    69000\n",
       "u    18952\n",
       "t     9893\n",
       "Name: Type, dtype: int64"
      ]
     },
     "execution_count": 14,
     "metadata": {},
     "output_type": "execute_result"
    }
   ],
   "source": [
    "df.Type.value_counts()"
   ]
  },
  {
   "cell_type": "markdown",
   "metadata": {},
   "source": [
    "Most of the homes included in this data were houses, which outnember units and townhouses combined."
   ]
  },
  {
   "cell_type": "code",
   "execution_count": 15,
   "metadata": {
    "scrolled": false
   },
   "outputs": [
    {
     "data": {
      "text/plain": [
       "Southern Metropolitan         29385\n",
       "Northern Metropolitan         26329\n",
       "Western Metropolitan          18517\n",
       "Eastern Metropolitan          14766\n",
       "South-Eastern Metropolitan     6946\n",
       "Eastern Victoria                792\n",
       "Northern Victoria               759\n",
       "Western Victoria                351\n",
       "Name: Regionname, dtype: int64"
      ]
     },
     "execution_count": 15,
     "metadata": {},
     "output_type": "execute_result"
    }
   ],
   "source": [
    "df.Regionname.value_counts()"
   ]
  },
  {
   "cell_type": "markdown",
   "metadata": {},
   "source": [
    "By using the region name, the data falls into fewer, larger classes than with post codes, council areas or suburbs."
   ]
  },
  {
   "cell_type": "code",
   "execution_count": 16,
   "metadata": {
    "scrolled": true
   },
   "outputs": [
    {
     "data": {
      "image/png": "[encoded data removed]",
      "text/plain": [
       "<Figure size 1008x360 with 2 Axes>"
      ]
     },
     "metadata": {
      "needs_background": "light"
     },
     "output_type": "display_data"
    }
   ],
   "source": [
    "## Plotting Histograms of Property Counts and Prices\n",
    "plt.figure(figsize=(14, 5))\n",
    "\n",
    "plt.subplot(1,2,1)\n",
    "plt.hist(df.Propertycount)\n",
    "plt.title(\"Distribution of Property Counts\")\n",
    "plt.xlabel(\"Property Counts\")\n",
    "plt.ylabel(\"Frequency\")\n",
    "\n",
    "plt.subplot(1,2,2)\n",
    "plt.hist(df.Price)\n",
    "plt.title(\"Distribution of Prices\")\n",
    "plt.xlabel(\"Price\")\n",
    "plt.ylabel(\"Frequency\")\n",
    "plt.show()"
   ]
  },
  {
   "cell_type": "markdown",
   "metadata": {},
   "source": [
    "The frequency of property counts show has a distribution where there are thousands of observations for most ranges and there is little prescence of outliers. These qualities make property count likely to be a useful feature when interpreting the data.\n",
    "\n",
    "The price variable, the outcome that I predicted on the other hand, showed signs of existing outliers. These outliers would be further explored and corrected prior to modeling."
   ]
  },
  {
   "cell_type": "code",
   "execution_count": 17,
   "metadata": {
    "scrolled": true
   },
   "outputs": [
    {
     "name": "stdout",
     "output_type": "stream",
     "text": [
      "CPU times: user 105 ms, sys: 24 ms, total: 129 ms\n",
      "Wall time: 75.3 ms\n"
     ]
    },
    {
     "data": {
      "text/html": [
       "<div>\n",
       "<style scoped>\n",
       "    .dataframe tbody tr th:only-of-type {\n",
       "        vertical-align: middle;\n",
       "    }\n",
       "\n",
       "    .dataframe tbody tr th {\n",
       "        vertical-align: top;\n",
       "    }\n",
       "\n",
       "    .dataframe thead th {\n",
       "        text-align: right;\n",
       "    }\n",
       "</style>\n",
       "<table border=\"1\" class=\"dataframe\">\n",
       "  <thead>\n",
       "    <tr style=\"text-align: right;\">\n",
       "      <th></th>\n",
       "      <th>Bathroom</th>\n",
       "      <th>BuildingArea</th>\n",
       "      <th>Date</th>\n",
       "      <th>Distance</th>\n",
       "      <th>Price</th>\n",
       "      <th>Propertycount</th>\n",
       "      <th>Rooms</th>\n",
       "    </tr>\n",
       "  </thead>\n",
       "  <tbody>\n",
       "    <tr>\n",
       "      <th>count</th>\n",
       "      <td>97845.000</td>\n",
       "      <td>97845.000</td>\n",
       "      <td>97845.000</td>\n",
       "      <td>97845.000</td>\n",
       "      <td>97845.000</td>\n",
       "      <td>97845.000</td>\n",
       "      <td>97845.000</td>\n",
       "    </tr>\n",
       "    <tr>\n",
       "      <th>mean</th>\n",
       "      <td>1.615</td>\n",
       "      <td>155.333</td>\n",
       "      <td>736519.522</td>\n",
       "      <td>12.151</td>\n",
       "      <td>1027307.202</td>\n",
       "      <td>7602.077</td>\n",
       "      <td>3.080</td>\n",
       "    </tr>\n",
       "    <tr>\n",
       "      <th>std</th>\n",
       "      <td>0.536</td>\n",
       "      <td>161.045</td>\n",
       "      <td>242.807</td>\n",
       "      <td>7.351</td>\n",
       "      <td>554515.464</td>\n",
       "      <td>4426.052</td>\n",
       "      <td>0.949</td>\n",
       "    </tr>\n",
       "    <tr>\n",
       "      <th>min</th>\n",
       "      <td>0.000</td>\n",
       "      <td>0.000</td>\n",
       "      <td>735991.000</td>\n",
       "      <td>0.000</td>\n",
       "      <td>85000.000</td>\n",
       "      <td>39.000</td>\n",
       "      <td>1.000</td>\n",
       "    </tr>\n",
       "    <tr>\n",
       "      <th>25%</th>\n",
       "      <td>1.141</td>\n",
       "      <td>93.104</td>\n",
       "      <td>736295.000</td>\n",
       "      <td>6.700</td>\n",
       "      <td>675000.000</td>\n",
       "      <td>4380.000</td>\n",
       "      <td>2.000</td>\n",
       "    </tr>\n",
       "    <tr>\n",
       "      <th>50%</th>\n",
       "      <td>1.493</td>\n",
       "      <td>140.406</td>\n",
       "      <td>736553.000</td>\n",
       "      <td>11.000</td>\n",
       "      <td>940000.000</td>\n",
       "      <td>6786.000</td>\n",
       "      <td>3.000</td>\n",
       "    </tr>\n",
       "    <tr>\n",
       "      <th>75%</th>\n",
       "      <td>2.000</td>\n",
       "      <td>210.576</td>\n",
       "      <td>736700.000</td>\n",
       "      <td>16.000</td>\n",
       "      <td>1236714.827</td>\n",
       "      <td>10412.000</td>\n",
       "      <td>4.000</td>\n",
       "    </tr>\n",
       "    <tr>\n",
       "      <th>max</th>\n",
       "      <td>12.000</td>\n",
       "      <td>44515.000</td>\n",
       "      <td>736980.000</td>\n",
       "      <td>64.100</td>\n",
       "      <td>11200000.000</td>\n",
       "      <td>21650.000</td>\n",
       "      <td>8.000</td>\n",
       "    </tr>\n",
       "  </tbody>\n",
       "</table>\n",
       "</div>"
      ],
      "text/plain": [
       "       Bathroom  BuildingArea       Date  Distance        Price  \\\n",
       "count 97845.000     97845.000  97845.000 97845.000    97845.000   \n",
       "mean      1.615       155.333 736519.522    12.151  1027307.202   \n",
       "std       0.536       161.045    242.807     7.351   554515.464   \n",
       "min       0.000         0.000 735991.000     0.000    85000.000   \n",
       "25%       1.141        93.104 736295.000     6.700   675000.000   \n",
       "50%       1.493       140.406 736553.000    11.000   940000.000   \n",
       "75%       2.000       210.576 736700.000    16.000  1236714.827   \n",
       "max      12.000     44515.000 736980.000    64.100 11200000.000   \n",
       "\n",
       "       Propertycount     Rooms  \n",
       "count      97845.000 97845.000  \n",
       "mean        7602.077     3.080  \n",
       "std         4426.052     0.949  \n",
       "min           39.000     1.000  \n",
       "25%         4380.000     2.000  \n",
       "50%         6786.000     3.000  \n",
       "75%        10412.000     4.000  \n",
       "max        21650.000     8.000  "
      ]
     },
     "execution_count": 17,
     "metadata": {},
     "output_type": "execute_result"
    }
   ],
   "source": [
    "%%time\n",
    "\n",
    "df.describe()"
   ]
  },
  {
   "cell_type": "markdown",
   "metadata": {},
   "source": [
    "Extreme values could be found in the building area and property count variables. Data denoting the number of rooms and bathrooms on the other hand has much smaller ranges."
   ]
  },
  {
   "cell_type": "markdown",
   "metadata": {},
   "source": [
    "## Preparing The Data For Modeling"
   ]
  },
  {
   "cell_type": "code",
   "execution_count": 18,
   "metadata": {
    "scrolled": true
   },
   "outputs": [
    {
     "name": "stdout",
     "output_type": "stream",
     "text": [
      "CPU times: user 10.2 ms, sys: 2.87 ms, total: 13 ms\n",
      "Wall time: 11.3 ms\n"
     ]
    }
   ],
   "source": [
    "%%time\n",
    "\n",
    "## Establish Columns to Be Used based on Categorical Value Counts\n",
    "\n",
    "df = df[['Rooms', 'Distance', 'Propertycount', 'Type', 'Method', 'Regionname', 'CouncilArea', 'Price']]"
   ]
  },
  {
   "cell_type": "markdown",
   "metadata": {},
   "source": [
    "Categorical variables that didn't have a very large number of classes were kept for the model to prevent its performance from being hampered."
   ]
  },
  {
   "cell_type": "code",
   "execution_count": 19,
   "metadata": {},
   "outputs": [
    {
     "name": "stdout",
     "output_type": "stream",
     "text": [
      "CPU times: user 106 ms, sys: 10.8 ms, total: 117 ms\n",
      "Wall time: 122 ms\n"
     ]
    }
   ],
   "source": [
    "%%time\n",
    "\n",
    "## Replace extreme values \n",
    "\n",
    "up_quantiles = df.quantile(0.95)\n",
    "outliers_high = (df > df.quantile(0.95))\n",
    "df[outliers_high] = np.nan\n",
    "df.fillna(up_quantiles, inplace=True)"
   ]
  },
  {
   "cell_type": "code",
   "execution_count": 20,
   "metadata": {},
   "outputs": [],
   "source": [
    "## Normalization and Linear Transformations\n",
    "\n",
    "df.Rooms = (df.Rooms - df.Rooms.min())/(df.Rooms.max() - df.Rooms.min())\n",
    "df.Distance = (df.Distance - df.Distance.min())/(df.Distance.max() - df.Distance.min())\n",
    "df.Propertycount = (df.Propertycount - df.Propertycount.min())/(df.Propertycount.max() - df.Propertycount.min())\n",
    "\n",
    "df.Price = df.Price.apply(math.log)"
   ]
  },
  {
   "cell_type": "code",
   "execution_count": 21,
   "metadata": {},
   "outputs": [
    {
     "name": "stdout",
     "output_type": "stream",
     "text": [
      "Number of Features: 58\n",
      "CPU times: user 52.2 ms, sys: 9.17 ms, total: 61.3 ms\n",
      "Wall time: 59.3 ms\n"
     ]
    }
   ],
   "source": [
    "%%time\n",
    "\n",
    "## Get Dummies so Categorical Variables Can be Used in Regression\n",
    "\n",
    "df = pd.get_dummies(df)\n",
    "\n",
    "## Display New Number of Features\n",
    "\n",
    "print('Number of Features: '+ str(len(df.columns)))\n"
   ]
  },
  {
   "cell_type": "code",
   "execution_count": 22,
   "metadata": {
    "scrolled": true
   },
   "outputs": [
    {
     "name": "stdout",
     "output_type": "stream",
     "text": [
      "CPU times: user 10.6 ms, sys: 4.32 ms, total: 14.9 ms\n",
      "Wall time: 13 ms\n"
     ]
    }
   ],
   "source": [
    "%%time\n",
    "\n",
    "## Establish variables based on original features to be used for modeling\n",
    "\n",
    "x = df.drop(['Price'], axis=1)\n",
    "y = df.Price\n"
   ]
  },
  {
   "cell_type": "code",
   "execution_count": 23,
   "metadata": {},
   "outputs": [
    {
     "name": "stdout",
     "output_type": "stream",
     "text": [
      "The percentage of total variance in the dataset explained by each component from Sklearn PCA.\n",
      " [0.05736541 0.04283042 0.04098472 0.03671223 0.03423057 0.03286944\n",
      " 0.0317343  0.02830331 0.02809266 0.02464089 0.02322692 0.02104111\n",
      " 0.02003836 0.01940198 0.01888658 0.01858406 0.01850232 0.01828263\n",
      " 0.01822392 0.0181573 ]\n",
      "CPU times: user 3.18 s, sys: 1.12 s, total: 4.3 s\n",
      "Wall time: 933 ms\n"
     ]
    }
   ],
   "source": [
    "%%time\n",
    "\n",
    "## PCA\n",
    "\n",
    "# Normalize the data for PCA\n",
    "\n",
    "X = StandardScaler().fit_transform(x)\n",
    "\n",
    "# Perform PCA\n",
    "\n",
    "sklearn_pca = PCA(n_components=20)\n",
    "Y_sklearn = sklearn_pca.fit_transform(X)\n",
    "\n",
    "# Turn PCA Result into Dataframe\n",
    "\n",
    "pca_components = pd.DataFrame(data=Y_sklearn)\n",
    "\n",
    "print(\n",
    "    'The percentage of total variance in the dataset explained by each',\n",
    "    'component from Sklearn PCA.\\n',\n",
    "    sklearn_pca.explained_variance_ratio_\n",
    ")\n"
   ]
  },
  {
   "cell_type": "code",
   "execution_count": 24,
   "metadata": {
    "scrolled": true
   },
   "outputs": [
    {
     "name": "stdout",
     "output_type": "stream",
     "text": [
      "CPU times: user 1.09 s, sys: 91.3 ms, total: 1.19 s\n",
      "Wall time: 1.2 s\n"
     ]
    }
   ],
   "source": [
    "%%time\n",
    "\n",
    "## Establish variables based on select K best to be used for modeling\n",
    "\n",
    "selector = SelectKBest(f_classif, k=25)\n",
    "k_predictors = selector.fit_transform(x,y)"
   ]
  },
  {
   "cell_type": "code",
   "execution_count": 25,
   "metadata": {},
   "outputs": [
    {
     "name": "stdout",
     "output_type": "stream",
     "text": [
      "CPU times: user 83.3 ms, sys: 25.1 ms, total: 108 ms\n",
      "Wall time: 107 ms\n"
     ]
    }
   ],
   "source": [
    "%%time\n",
    "\n",
    "## Train Test Split Original Variables And K Selected Variables for Modeling\n",
    "\n",
    "x_train, x_test, y_train, y_test = train_test_split(x, y, test_size=0.2, random_state=20)\n",
    "\n",
    "kx_train, kx_test, ky_train, ky_test = train_test_split(k_predictors, y, test_size=0.2, random_state=21)\n",
    "\n",
    "px_train, px_test, py_train, py_test = train_test_split(pca_components, y, test_size=0.2, random_state=21)\n"
   ]
  },
  {
   "cell_type": "markdown",
   "metadata": {},
   "source": [
    "## Modeling the Data using all available Features"
   ]
  },
  {
   "cell_type": "markdown",
   "metadata": {},
   "source": [
    "### Linear Regression"
   ]
  },
  {
   "cell_type": "code",
   "execution_count": 26,
   "metadata": {},
   "outputs": [
    {
     "name": "stdout",
     "output_type": "stream",
     "text": [
      "CPU times: user 365 ms, sys: 37.7 ms, total: 402 ms\n",
      "Wall time: 154 ms\n"
     ]
    }
   ],
   "source": [
    "%%time\n",
    "\n",
    "## train and fit model\n",
    "\n",
    "regr = linear_model.LinearRegression().fit(x_train, y_train)"
   ]
  },
  {
   "cell_type": "code",
   "execution_count": 27,
   "metadata": {
    "scrolled": false
   },
   "outputs": [
    {
     "name": "stdout",
     "output_type": "stream",
     "text": [
      "accuracy score:\n",
      "0.6554818379673324\n",
      "\n",
      "cross validation:\n",
      "[0.65020109 0.64819587 0.6672538  0.66042741 0.64593618]\n",
      "\n",
      "RMSE: 0.25591297063312535\n",
      "CPU times: user 933 ms, sys: 222 ms, total: 1.15 s\n",
      "Wall time: 184 ms\n"
     ]
    }
   ],
   "source": [
    "%%time\n",
    "\n",
    "## Model Evaluation\n",
    "\n",
    "print(\"accuracy score:\\n\" + str(regr.score(x_test, y_test))+'\\n')\n",
    "\n",
    "print(\"cross validation:\\n\" + str(cross_val_score(regr, x_test, y_test, cv=5))+'\\n')\n",
    "\n",
    "print('RMSE: ' + str(rmse(regr.predict(x_test), y_test)))"
   ]
  },
  {
   "cell_type": "markdown",
   "metadata": {},
   "source": [
    "### K Nearest Neighbors "
   ]
  },
  {
   "cell_type": "code",
   "execution_count": 28,
   "metadata": {},
   "outputs": [
    {
     "name": "stdout",
     "output_type": "stream",
     "text": [
      "CPU times: user 5.49 s, sys: 55.9 ms, total: 5.55 s\n",
      "Wall time: 5.6 s\n"
     ]
    }
   ],
   "source": [
    "%%time\n",
    "\n",
    "## train and fit model\n",
    "\n",
    "knn = neighbors.KNeighborsRegressor(n_neighbors=10).fit(x_train, y_train)"
   ]
  },
  {
   "cell_type": "code",
   "execution_count": 29,
   "metadata": {},
   "outputs": [
    {
     "name": "stdout",
     "output_type": "stream",
     "text": [
      "accuracy score:\n",
      "0.7377193118403025\n",
      "\n",
      "cross validation:\n",
      "[0.68162125 0.66202621 0.69920477 0.69558934 0.6870499 ]\n",
      "\n",
      "RMSE: 0.22329006212615407\n",
      "CPU times: user 47.8 s, sys: 278 ms, total: 48.1 s\n",
      "Wall time: 48.5 s\n"
     ]
    }
   ],
   "source": [
    "%%time\n",
    "\n",
    "## Model Evaluation\n",
    "\n",
    "print(\"accuracy score:\\n\" + str(knn.score(x_test, y_test))+'\\n')\n",
    "\n",
    "print(\"cross validation:\\n\" + str(cross_val_score(knn, x_test, y_test, cv=5))+'\\n')\n",
    "\n",
    "print('RMSE: ' + str(rmse(knn.predict(x_test), y_test)))\n"
   ]
  },
  {
   "cell_type": "markdown",
   "metadata": {},
   "source": [
    "### Decision Tree"
   ]
  },
  {
   "cell_type": "code",
   "execution_count": 30,
   "metadata": {},
   "outputs": [
    {
     "name": "stdout",
     "output_type": "stream",
     "text": [
      "CPU times: user 140 ms, sys: 27.7 ms, total: 168 ms\n",
      "Wall time: 166 ms\n"
     ]
    }
   ],
   "source": [
    "%%time\n",
    "\n",
    "## train and fit model\n",
    "\n",
    "decision_tree = tree.DecisionTreeRegressor(\n",
    "    max_features=10,\n",
    "    max_depth=100,\n",
    "    ).fit(x_train, y_train)\n"
   ]
  },
  {
   "cell_type": "code",
   "execution_count": 31,
   "metadata": {},
   "outputs": [
    {
     "name": "stdout",
     "output_type": "stream",
     "text": [
      "accuracy score:\n",
      "0.7479054604916736\n",
      "\n",
      "cross validation:\n",
      "[0.63769201 0.64628347 0.67084755 0.63400314 0.66111049]\n",
      "\n",
      "RMSE: 0.21891118741869403\n",
      "CPU times: user 209 ms, sys: 35 ms, total: 244 ms\n",
      "Wall time: 244 ms\n"
     ]
    }
   ],
   "source": [
    "%%time\n",
    "\n",
    "## Model Evaluation\n",
    "\n",
    "print(\"accuracy score:\\n\" + str(decision_tree.score(x_test, y_test))+'\\n')\n",
    "\n",
    "print(\"cross validation:\\n\" + str(cross_val_score(decision_tree, x_test, y_test, cv=5))+'\\n')\n",
    "\n",
    "print('RMSE: ' + str(rmse(decision_tree.predict(x_test), y_test)))\n"
   ]
  },
  {
   "cell_type": "markdown",
   "metadata": {},
   "source": [
    "### Random Forest"
   ]
  },
  {
   "cell_type": "code",
   "execution_count": 32,
   "metadata": {},
   "outputs": [
    {
     "name": "stdout",
     "output_type": "stream",
     "text": [
      "CPU times: user 829 ms, sys: 38.3 ms, total: 867 ms\n",
      "Wall time: 881 ms\n"
     ]
    }
   ],
   "source": [
    "%%time\n",
    "\n",
    "## Fit and Train Model\n",
    "\n",
    "rfr = ensemble.RandomForestRegressor(\n",
    "    max_features=10,\n",
    "    max_depth=100,\n",
    "    ).fit(x_train, y_train)\n"
   ]
  },
  {
   "cell_type": "code",
   "execution_count": 33,
   "metadata": {},
   "outputs": [
    {
     "name": "stdout",
     "output_type": "stream",
     "text": [
      "accuracy score:\n",
      "0.7587281677852276\n",
      "\n",
      "cross validation:\n",
      "[0.7001267  0.70259043 0.72497107 0.71053659 0.71227038]\n",
      "\n",
      "RMSE: 0.21416058694023726\n",
      "CPU times: user 1.08 s, sys: 65.2 ms, total: 1.14 s\n",
      "Wall time: 1.15 s\n"
     ]
    }
   ],
   "source": [
    "%%time\n",
    "\n",
    "## Model Evaluation\n",
    "\n",
    "print(\"accuracy score:\\n\" + str(rfr.score(x_test, y_test))+'\\n')\n",
    "\n",
    "print(\"cross validation:\\n\" + str(cross_val_score(rfr, x_test, y_test, cv=5))+'\\n')\n",
    "\n",
    "print('RMSE: ' + str(rmse(rfr.predict(x_test), y_test)))\n"
   ]
  },
  {
   "cell_type": "markdown",
   "metadata": {},
   "source": [
    "### Gradient Boost "
   ]
  },
  {
   "cell_type": "code",
   "execution_count": 34,
   "metadata": {},
   "outputs": [
    {
     "name": "stdout",
     "output_type": "stream",
     "text": [
      "{'max_depth': 4, 'n_estimators': 400}\n",
      "CPU times: user 14min 42s, sys: 8.49 s, total: 14min 50s\n",
      "Wall time: 15min 3s\n"
     ]
    }
   ],
   "source": [
    "%%time\n",
    "\n",
    "## train and fit model\n",
    "\n",
    "re = ensemble.GradientBoostingRegressor()\n",
    "\n",
    "parameters = { \n",
    "              'n_estimators': list(np.arange(200, 401, 50)),\n",
    "              'max_depth': list(range(1,5)),\n",
    "             }\n",
    "\n",
    "r2_scorer = make_scorer(r2_score)\n",
    "\n",
    "reg = GridSearchCV(re, parameters, scoring=r2_scorer).fit(x_train,  y_train)\n",
    "\n",
    "## Show Best Parameters\n",
    "print(reg.best_params_)\n"
   ]
  },
  {
   "cell_type": "code",
   "execution_count": 36,
   "metadata": {
    "scrolled": true
   },
   "outputs": [
    {
     "name": "stdout",
     "output_type": "stream",
     "text": [
      "accuracy score:\n",
      "0.7589473319543428\n",
      "\n",
      "cross validation:\n",
      "[0.74373468 0.73823348 0.76311434 0.76003719 0.74564779]\n",
      "\n",
      "RMSE: 0.214063296281816\n",
      "CPU times: user 13min 46s, sys: 6.24 s, total: 13min 52s\n",
      "Wall time: 18min 56s\n"
     ]
    }
   ],
   "source": [
    "%%time\n",
    "\n",
    "## Model Evaluation\n",
    "\n",
    "print(\"accuracy score:\\n\" + str(reg.score(x_test, y_test))+'\\n')\n",
    "\n",
    "print(\"cross validation:\\n\" + str(cross_val_score(reg, x_test, y_test, cv=5))+'\\n')\n",
    "\n",
    "print('RMSE: ' + str(rmse(reg.predict(x_test), y_test)))\n"
   ]
  },
  {
   "cell_type": "markdown",
   "metadata": {},
   "source": [
    "The gradient boost model had the best performance out of all of the models run with all of the dataset's useful features. Cross vadidation showed few signs of overfitting with this model. The strength of this model when it comes to making predictions using this data comes from its ability to reduce error over multiple iterations, resulting in higher accuracy scores after a high number of iterations. Using all of the available features in the dataset could leave a model vulnerable to weak features (which could hurt accuracy), but the model overcomes that through its ability to directly focus reducing error. The random forest and knn models also had similar accuracy scores to the gradient boost model, but their cross validation scores were lower.\n"
   ]
  },
  {
   "cell_type": "markdown",
   "metadata": {},
   "source": [
    "## Modeling the Data using PCA Components"
   ]
  },
  {
   "cell_type": "markdown",
   "metadata": {},
   "source": [
    "### Linear Regression"
   ]
  },
  {
   "cell_type": "code",
   "execution_count": 37,
   "metadata": {},
   "outputs": [
    {
     "name": "stdout",
     "output_type": "stream",
     "text": [
      "CPU times: user 79.3 ms, sys: 79.1 ms, total: 158 ms\n",
      "Wall time: 170 ms\n"
     ]
    }
   ],
   "source": [
    "%%time\n",
    "\n",
    "## train and fit model\n",
    "\n",
    "p_regr = linear_model.LinearRegression().fit(px_train, py_train)\n"
   ]
  },
  {
   "cell_type": "code",
   "execution_count": 38,
   "metadata": {},
   "outputs": [
    {
     "name": "stdout",
     "output_type": "stream",
     "text": [
      "accuracy score:\n",
      "0.5030878678329703\n",
      "\n",
      "cross validation:\n",
      "[0.50806286 0.49279613 0.49611531 0.51229806 0.50048328]\n",
      "\n",
      "RMSE: 0.30806022598109145\n",
      "CPU times: user 402 ms, sys: 137 ms, total: 540 ms\n",
      "Wall time: 89.9 ms\n"
     ]
    }
   ],
   "source": [
    "%%time\n",
    "\n",
    "## Model Evaluation\n",
    "\n",
    "print(\"accuracy score:\\n\" + str(p_regr.score(px_test, py_test))+'\\n')\n",
    "\n",
    "print(\"cross validation:\\n\" + str(cross_val_score(p_regr, px_test, py_test, cv=5))+'\\n')\n",
    "\n",
    "print('RMSE: ' + str(rmse(p_regr.predict(px_test), py_test)))\n"
   ]
  },
  {
   "cell_type": "markdown",
   "metadata": {},
   "source": [
    "### K Nearest Neighbors "
   ]
  },
  {
   "cell_type": "code",
   "execution_count": 39,
   "metadata": {},
   "outputs": [
    {
     "name": "stdout",
     "output_type": "stream",
     "text": [
      "CPU times: user 120 ms, sys: 24.6 ms, total: 145 ms\n",
      "Wall time: 157 ms\n"
     ]
    }
   ],
   "source": [
    "%%time\n",
    "\n",
    "## train and fit model\n",
    "\n",
    "p_knn = neighbors.KNeighborsRegressor(n_neighbors=10).fit(px_train, py_train)"
   ]
  },
  {
   "cell_type": "code",
   "execution_count": 40,
   "metadata": {},
   "outputs": [
    {
     "name": "stdout",
     "output_type": "stream",
     "text": [
      "accuracy score:\n",
      "0.7325633961116327\n",
      "\n",
      "cross validation:\n",
      "[0.6825508  0.66356092 0.6704457  0.67694743 0.66932064]\n",
      "\n",
      "RMSE: 0.22599886281472986\n",
      "CPU times: user 2 s, sys: 36.9 ms, total: 2.04 s\n",
      "Wall time: 2.07 s\n"
     ]
    }
   ],
   "source": [
    "%%time\n",
    "\n",
    "## Model Evaluation\n",
    "\n",
    "print(\"accuracy score:\\n\" + str(p_knn.score(px_test, py_test))+'\\n')\n",
    "\n",
    "print(\"cross validation:\\n\" + str(cross_val_score(p_knn, px_test, py_test, cv=5))+'\\n')\n",
    "\n",
    "print('RMSE: ' + str(rmse(p_knn.predict(px_test), py_test)))\n"
   ]
  },
  {
   "cell_type": "markdown",
   "metadata": {},
   "source": [
    "### Decision Tree"
   ]
  },
  {
   "cell_type": "code",
   "execution_count": 41,
   "metadata": {},
   "outputs": [
    {
     "name": "stdout",
     "output_type": "stream",
     "text": [
      "CPU times: user 489 ms, sys: 6.56 ms, total: 496 ms\n",
      "Wall time: 499 ms\n"
     ]
    }
   ],
   "source": [
    "%%time\n",
    "\n",
    "## train and fit model\n",
    "\n",
    "p_decision_tree = tree.DecisionTreeRegressor(\n",
    "    max_features=10,\n",
    "    max_depth=100,\n",
    "    ).fit(px_train, py_train)\n"
   ]
  },
  {
   "cell_type": "code",
   "execution_count": 42,
   "metadata": {},
   "outputs": [
    {
     "name": "stdout",
     "output_type": "stream",
     "text": [
      "accuracy score:\n",
      "0.7481527829844821\n",
      "\n",
      "cross validation:\n",
      "[0.66116194 0.62890079 0.6206433  0.61572942 0.63935557]\n",
      "\n",
      "RMSE: 0.21931301612750023\n",
      "CPU times: user 654 ms, sys: 6.78 ms, total: 661 ms\n",
      "Wall time: 664 ms\n"
     ]
    }
   ],
   "source": [
    "%%time\n",
    "\n",
    "## Model Evaluation\n",
    "\n",
    "print(\"accuracy score:\\n\" + str(p_decision_tree.score(px_test, py_test))+'\\n')\n",
    "\n",
    "print(\"cross validation:\\n\" + str(cross_val_score(decision_tree, px_test, py_test, cv=5))+'\\n')\n",
    "\n",
    "print('RMSE: ' + str(rmse(p_decision_tree.predict(px_test), py_test)))\n"
   ]
  },
  {
   "cell_type": "markdown",
   "metadata": {},
   "source": [
    "### Random Forest"
   ]
  },
  {
   "cell_type": "code",
   "execution_count": 43,
   "metadata": {
    "scrolled": false
   },
   "outputs": [
    {
     "name": "stdout",
     "output_type": "stream",
     "text": [
      "CPU times: user 3.43 s, sys: 40.6 ms, total: 3.47 s\n",
      "Wall time: 3.52 s\n"
     ]
    }
   ],
   "source": [
    "%%time\n",
    "\n",
    "## Fit and Train Model\n",
    "\n",
    "p_rfr = ensemble.RandomForestRegressor(\n",
    "    max_features=10,\n",
    "    max_depth=100,\n",
    "    ).fit(px_train, py_train)\n"
   ]
  },
  {
   "cell_type": "code",
   "execution_count": 44,
   "metadata": {},
   "outputs": [
    {
     "name": "stdout",
     "output_type": "stream",
     "text": [
      "accuracy score:\n",
      "0.7557480495570719\n",
      "\n",
      "cross validation:\n",
      "[0.71295825 0.69382045 0.68699159 0.69955297 0.69345797]\n",
      "\n",
      "RMSE: 0.21598065293150928\n",
      "CPU times: user 4.4 s, sys: 54.1 ms, total: 4.46 s\n",
      "Wall time: 4.52 s\n"
     ]
    }
   ],
   "source": [
    "%%time\n",
    "\n",
    "## Model Evaluation\n",
    "\n",
    "print(\"accuracy score:\\n\" + str(p_rfr.score(px_test, py_test))+'\\n')\n",
    "\n",
    "print(\"cross validation:\\n\" + str(cross_val_score(p_rfr, px_test, py_test, cv=5))+'\\n')\n",
    "\n",
    "print('RMSE: ' + str(rmse(p_rfr.predict(px_test), py_test)))\n"
   ]
  },
  {
   "cell_type": "markdown",
   "metadata": {},
   "source": [
    "### Gradient Boost "
   ]
  },
  {
   "cell_type": "code",
   "execution_count": 45,
   "metadata": {},
   "outputs": [
    {
     "name": "stdout",
     "output_type": "stream",
     "text": [
      "{'max_depth': 4, 'n_estimators': 400}\n",
      "CPU times: user 18min 21s, sys: 6.32 s, total: 18min 28s\n",
      "Wall time: 18min 40s\n"
     ]
    }
   ],
   "source": [
    "%%time\n",
    "\n",
    "## train and fit model\n",
    "\n",
    "p_re = ensemble.GradientBoostingRegressor()\n",
    "\n",
    "parameters = { \n",
    "              'n_estimators': list(np.arange(200, 401, 50)),\n",
    "              'max_depth': list(range(1,5))\n",
    "             }\n",
    "\n",
    "acc_scorer = make_scorer(r2_score)\n",
    "\n",
    "p_reg = GridSearchCV(p_re, parameters, scoring=acc_scorer).fit(px_train, py_train)\n",
    "\n",
    "## Show Best Parameters\n",
    "print(p_reg.best_params_)\n"
   ]
  },
  {
   "cell_type": "code",
   "execution_count": 46,
   "metadata": {
    "scrolled": true
   },
   "outputs": [
    {
     "name": "stdout",
     "output_type": "stream",
     "text": [
      "accuracy score:\n",
      "0.7407961774045213\n",
      "\n",
      "cross validation:\n",
      "[0.72648411 0.70852419 0.71188499 0.72554533 0.71467114]\n",
      "\n",
      "RMSE: 0.22249309151772126\n",
      "CPU times: user 18min 45s, sys: 8.5 s, total: 18min 53s\n",
      "Wall time: 19min 10s\n"
     ]
    }
   ],
   "source": [
    "%%time\n",
    "\n",
    "## Model Evaluation\n",
    "\n",
    "print(\"accuracy score:\\n\" + str(p_reg.score(px_test, py_test))+'\\n')\n",
    "\n",
    "print(\"cross validation:\\n\" + str(cross_val_score(p_reg, px_test, py_test, cv=5))+'\\n')\n",
    "\n",
    "print('RMSE: ' + str(rmse(p_reg.predict(px_test), py_test)))\n"
   ]
  },
  {
   "cell_type": "markdown",
   "metadata": {},
   "source": [
    "\n",
    "The gradient boost model had the best performance out of all of the models run with 20 of the dataset's PCA components. While cross vadidation did showed few signs of overfitting with this model, the scores were significantly lower than the accuracy score. This is a noticable difference from the gradient boost model that used all of the available features. Using a limited number of PCA components from the dataset likely removed some variance that was important to the predictive accuracy of the models. This can be seen in the sharp drop of performance in the naive bayes model. The random forest and knn models also had similar accuracy scores to the gradient boost model, but their cross validation scores were low as well.\n",
    "\n"
   ]
  },
  {
   "cell_type": "markdown",
   "metadata": {},
   "source": [
    "## Modeling the Data using Features Chosen through the SelectKbest Function"
   ]
  },
  {
   "cell_type": "markdown",
   "metadata": {},
   "source": [
    "### Linear Regression"
   ]
  },
  {
   "cell_type": "code",
   "execution_count": 47,
   "metadata": {},
   "outputs": [
    {
     "name": "stdout",
     "output_type": "stream",
     "text": [
      "CPU times: user 106 ms, sys: 70.3 ms, total: 176 ms\n",
      "Wall time: 138 ms\n"
     ]
    }
   ],
   "source": [
    "%%time\n",
    "\n",
    "## train and fit model\n",
    "\n",
    "k_regr = linear_model.LinearRegression().fit(kx_train, ky_train)"
   ]
  },
  {
   "cell_type": "code",
   "execution_count": 48,
   "metadata": {
    "scrolled": false
   },
   "outputs": [
    {
     "name": "stdout",
     "output_type": "stream",
     "text": [
      "accuracy score:\n",
      "0.6423702734460872\n",
      "\n",
      "cross validation:\n",
      "[0.65007419 0.63049271 0.62826453 0.65465068 0.64323639]\n",
      "\n",
      "RMSE: 0.261344060753883\n",
      "CPU times: user 393 ms, sys: 192 ms, total: 585 ms\n",
      "Wall time: 125 ms\n"
     ]
    }
   ],
   "source": [
    "%%time\n",
    "\n",
    "## Model Evaluation\n",
    "\n",
    "print(\"accuracy score:\\n\" + str(k_regr.score(kx_test, ky_test))+'\\n')\n",
    "\n",
    "print(\"cross validation:\\n\" + str(cross_val_score(k_regr, kx_test, ky_test, cv=5))+'\\n')\n",
    "\n",
    "print('RMSE: ' + str(rmse(k_regr.predict(kx_test), ky_test)))\n"
   ]
  },
  {
   "cell_type": "markdown",
   "metadata": {},
   "source": [
    "### K Nearest Neighbors "
   ]
  },
  {
   "cell_type": "code",
   "execution_count": 49,
   "metadata": {
    "scrolled": true
   },
   "outputs": [
    {
     "name": "stdout",
     "output_type": "stream",
     "text": [
      "CPU times: user 3.95 s, sys: 49.2 ms, total: 3.99 s\n",
      "Wall time: 4.12 s\n"
     ]
    }
   ],
   "source": [
    "%%time\n",
    "\n",
    "## train and fit model\n",
    "\n",
    "k_knn = neighbors.KNeighborsRegressor(n_neighbors=10).fit(kx_train, ky_train)\n"
   ]
  },
  {
   "cell_type": "code",
   "execution_count": 50,
   "metadata": {},
   "outputs": [
    {
     "name": "stdout",
     "output_type": "stream",
     "text": [
      "accuracy score:\n",
      "0.7304730679361253\n",
      "\n",
      "cross validation:\n",
      "[0.70513445 0.68780232 0.69425137 0.70833818 0.69695175]\n",
      "\n",
      "RMSE: 0.22688036568655084\n",
      "CPU times: user 18.2 s, sys: 151 ms, total: 18.3 s\n",
      "Wall time: 18.6 s\n"
     ]
    }
   ],
   "source": [
    "%%time\n",
    "\n",
    "## Model Evaluation\n",
    "\n",
    "print(\"accuracy score:\\n\" + str(k_knn.score(kx_test, ky_test))+'\\n')\n",
    "\n",
    "print(\"cross validation:\\n\" + str(cross_val_score(k_knn, kx_test, ky_test, cv=5))+'\\n')\n",
    "\n",
    "print('RMSE: ' + str(rmse(k_knn.predict(kx_test), ky_test)))\n"
   ]
  },
  {
   "cell_type": "markdown",
   "metadata": {},
   "source": [
    "### Decision Tree"
   ]
  },
  {
   "cell_type": "code",
   "execution_count": 51,
   "metadata": {},
   "outputs": [
    {
     "name": "stdout",
     "output_type": "stream",
     "text": [
      "CPU times: user 102 ms, sys: 7.92 ms, total: 110 ms\n",
      "Wall time: 111 ms\n"
     ]
    }
   ],
   "source": [
    "%%time\n",
    "\n",
    "## train and fit model\n",
    "\n",
    "k_decision_tree = tree.DecisionTreeRegressor(\n",
    "    max_features=10,\n",
    "    max_depth=100,\n",
    "    ).fit(kx_train, ky_train)\n"
   ]
  },
  {
   "cell_type": "code",
   "execution_count": 52,
   "metadata": {},
   "outputs": [
    {
     "name": "stdout",
     "output_type": "stream",
     "text": [
      "accuracy score:\n",
      "0.7436031805267569\n",
      "\n",
      "cross validation:\n",
      "[0.68601962 0.67089887 0.66503723 0.68787319 0.67661231]\n",
      "\n",
      "RMSE: 0.22128508685200665\n",
      "CPU times: user 118 ms, sys: 7.66 ms, total: 125 ms\n",
      "Wall time: 129 ms\n"
     ]
    }
   ],
   "source": [
    "%%time\n",
    "\n",
    "## Model Evaluation\n",
    "\n",
    "print(\"accuracy score:\\n\" + str(k_decision_tree.score(kx_test, ky_test))+'\\n')\n",
    "\n",
    "print(\"cross validation:\\n\" + str(cross_val_score(k_decision_tree, kx_test, ky_test, cv=5))+'\\n')\n",
    "\n",
    "print('RMSE: ' + str(rmse(k_decision_tree.predict(kx_test), ky_test)))\n"
   ]
  },
  {
   "cell_type": "markdown",
   "metadata": {},
   "source": [
    "### Random Forest"
   ]
  },
  {
   "cell_type": "code",
   "execution_count": 53,
   "metadata": {},
   "outputs": [
    {
     "name": "stdout",
     "output_type": "stream",
     "text": [
      "CPU times: user 663 ms, sys: 19.2 ms, total: 682 ms\n",
      "Wall time: 693 ms\n"
     ]
    }
   ],
   "source": [
    "%%time\n",
    "\n",
    "## Fit and Train Model\n",
    "\n",
    "k_rfr = ensemble.RandomForestRegressor(\n",
    "    max_features=10,\n",
    "    max_depth=100,\n",
    "    ).fit(kx_train, ky_train)\n"
   ]
  },
  {
   "cell_type": "code",
   "execution_count": 54,
   "metadata": {},
   "outputs": [
    {
     "name": "stdout",
     "output_type": "stream",
     "text": [
      "accuracy score:\n",
      "0.7470835079617548\n",
      "\n",
      "cross validation:\n",
      "[0.70600971 0.69916833 0.69222898 0.7144088  0.7063068 ]\n",
      "\n",
      "RMSE: 0.21977809481277225\n",
      "CPU times: user 771 ms, sys: 31.5 ms, total: 803 ms\n",
      "Wall time: 811 ms\n"
     ]
    }
   ],
   "source": [
    "%%time\n",
    "\n",
    "## Model Evaluation\n",
    "\n",
    "print(\"accuracy score:\\n\" + str(k_rfr.score(kx_test, ky_test))+'\\n')\n",
    "\n",
    "print(\"cross validation:\\n\" + str(cross_val_score(k_rfr, kx_test, ky_test, cv=5))+'\\n')\n",
    "\n",
    "print('RMSE: ' + str(rmse(k_rfr.predict(kx_test), ky_test)))\n"
   ]
  },
  {
   "cell_type": "markdown",
   "metadata": {},
   "source": [
    "### Gradient Boost "
   ]
  },
  {
   "cell_type": "code",
   "execution_count": 55,
   "metadata": {},
   "outputs": [
    {
     "name": "stdout",
     "output_type": "stream",
     "text": [
      "{'max_depth': 4, 'n_estimators': 400}\n",
      "CPU times: user 9min 44s, sys: 3.97 s, total: 9min 48s\n",
      "Wall time: 9min 54s\n"
     ]
    }
   ],
   "source": [
    "%%time\n",
    "\n",
    "## train and fit model\n",
    "\n",
    "k_re = ensemble.GradientBoostingRegressor()\n",
    "\n",
    "parameters = { \n",
    "              'n_estimators': list(np.arange(200, 401, 50)),\n",
    "              'max_depth': list(range(1,5))\n",
    "             }\n",
    "\n",
    "acc_scorer = make_scorer(r2_score)\n",
    "\n",
    "k_reg = GridSearchCV(k_re, parameters, scoring=acc_scorer).fit(kx_train, ky_train)\n",
    "\n",
    "## Show Best Parameters\n",
    "print(k_reg.best_params_)\n"
   ]
  },
  {
   "cell_type": "code",
   "execution_count": 56,
   "metadata": {
    "scrolled": true
   },
   "outputs": [
    {
     "name": "stdout",
     "output_type": "stream",
     "text": [
      "accuracy score:\n",
      "0.7430477466561921\n",
      "\n",
      "cross validation:\n",
      "[0.73820231 0.72724553 0.72525356 0.74116231 0.73649944]\n",
      "\n",
      "RMSE: 0.22152464274783065\n",
      "CPU times: user 8min 4s, sys: 3.71 s, total: 8min 8s\n",
      "Wall time: 8min 15s\n"
     ]
    }
   ],
   "source": [
    "%%time\n",
    "\n",
    "## Model Evaluation\n",
    "\n",
    "print(\"accuracy score:\\n\" + str(k_reg.score(kx_test, ky_test))+'\\n')\n",
    "\n",
    "print(\"cross validation:\\n\" + str(cross_val_score(k_reg, kx_test, ky_test, cv=5))+'\\n')\n",
    "\n",
    "print('RMSE: ' + str(rmse(k_reg.predict(kx_test), ky_test)))\n"
   ]
  },
  {
   "cell_type": "markdown",
   "metadata": {},
   "source": [
    "The gradient boost model had the best performance out of all of the models run with features chosen using the selectkbest function. Cross vadidation showed some signs of overfitting with this model. The cross validation scores with this model were slightly lower than the accuracy score, but the disparity wasn't as great as it was in the gradient boost model that used the PCA components. The gradient boost model using selectkbest still had lower accuracy than the  model that used all of the available features in the dataset, implying that the majority of the dataset's available features had useful variance when it came to the gradient boost. There was no general trend when in model performance when it comes to comparing full featured models and models that used sectkbest; Some models performed better using full features, and others performed better using selectkbest.\n"
   ]
  },
  {
   "cell_type": "markdown",
   "metadata": {},
   "source": [
    "## Analysis and Conclusion\n",
    "\n",
    "The gradient forest using all available features was by far the best model when it came to using information about homes sold to predict housing prices in Melbourne. It is also important to note that random forest and  KNN were the next best performing models. What held those two models back were their cross validation scores. KNN's relative success implies that the clustering of specific classes and ranges in this data have strong predictive value. The success of the full featured models in general show that most of the features used in the model have useful variance.\n",
    "\n",
    "Understanding how to better utilize supervised modeling techniques to predict housing prices will give insight as to which factors have the most effect on the prices of homes. Information about how such trends change over time can also be gained, which will be useful in understanding the real estate market which is a major economic indicator. \n",
    "\n",
    "This study established the best suprvised modeling technique for predicting housing prices. The next step in using this data to gather insights from sales of homes would be to collect housing data from greater time spans (involving similar homes) and use them to train a model that will account for seasonality and change over time. By being able to understand how such supervised learning models can be improved with the added context of time, housing prices can be predicted even more accurately and more information can be gained about the housing market that can provide actionable insights."
   ]
  },
  {
   "cell_type": "code",
   "execution_count": null,
   "metadata": {},
   "outputs": [],
   "source": []
  }
 ],
 "metadata": {
  "kernelspec": {
   "display_name": "Python 3",
   "language": "python",
   "name": "python3"
  },
  "language_info": {
   "codemirror_mode": {
    "name": "ipython",
    "version": 3
   },
   "file_extension": ".py",
   "mimetype": "text/x-python",
   "name": "python",
   "nbconvert_exporter": "python",
   "pygments_lexer": "ipython3",
   "version": "3.7.3"
  }
 },
 "nbformat": 4,
 "nbformat_minor": 2
}
