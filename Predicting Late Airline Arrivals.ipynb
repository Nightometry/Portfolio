{
 "cells": [
  {
   "cell_type": "markdown",
   "metadata": {},
   "source": [
    "# An Analysis of the Ability of Multiple Supervised Learning Classification Models to Predict Late Airline Arrivals\n",
    "\n",
    "<br>\n",
    "\n",
    "Flight delay is a problem that can result in a rippling disruption in airline business processes.\n",
    "To better understand how underlying factors affect the prevalence of flight delay, I am interested in predicting late airline arrivals.\n",
    "There are many possible causes of flight delay.\n",
    "The main causes of airline delays involve weather, air traffic, go-arounds, and mechanical problems.\n",
    "In addition to aforementioned causes, there is arrival delay which is the delay caused by the same airplane arriving late to the previous airport.\n",
    "This can result in systematic delay across an airline.\n",
    "Extremely late airline delays may result in compensation to passengers, negatively affecting an airline's bottom line.\n",
    "Being able to detect potentially late flights would improve the accuracy of demand prediction, which influences many management decisions. \n",
    "Using machine learning techniques allows for another perspective that can be used to model flight delay.\n",
    "\n",
    "\n",
    "In this study, several different types of supervised learning classification models were used on the same labeled airline data to analyze their compared effectiveness when it comes to predicting late arrivals. \n",
    "In addition to this each model type was run three times using different methods to prepare the feature variables. \n",
    "This gave insight as to which types of models and feature engineering methods were best suited to predict late airline arrival based on the data.\n",
    "The process used to undertake this study is as follows: \n",
    "\n",
    "\n",
    "\n",
    "Data Exploration and Analysis\n",
    "* Viewing the Distribution of the Datapoints\n",
    "* Checking the Correlatedness of the Classes\n",
    "\n",
    "Preparing The Data For Modeling\n",
    "* Dealing With Class Imbalance\n",
    "* Principal Component Analysis\n",
    "\n",
    "Modeling the Data \n",
    "* Naive Bayes\n",
    "* K Nearest Neighbors\n",
    "* Decision Trees\n",
    "* Random Forest\n",
    "* Logistic Regression (and Lasso and Ridge)\n",
    "* Support Vector Classifier\n",
    "* Gradient Boost\n",
    "\n",
    " \n",
    "\n"
   ]
  },
  {
   "cell_type": "code",
   "execution_count": 1,
   "metadata": {},
   "outputs": [
    {
     "name": "stdout",
     "output_type": "stream",
     "text": [
      "CPU times: user 1.47 s, sys: 413 ms, total: 1.88 s\n",
      "Wall time: 1.41 s\n"
     ]
    }
   ],
   "source": [
    "%%time\n",
    "\n",
    "import math\n",
    "import warnings\n",
    "\n",
    "from IPython.display import display\n",
    "from matplotlib import pyplot as plt\n",
    "import numpy as np\n",
    "import pandas as pd\n",
    "import seaborn as sns\n",
    "import statsmodels.formula.api as smf\n",
    "from matplotlib.mlab import PCA as mlabPCA\n",
    "from sklearn.naive_bayes import BernoulliNB\n",
    "from sklearn import linear_model\n",
    "from sklearn.preprocessing import StandardScaler\n",
    "from sklearn.decomposition import PCA \n",
    "from sklearn.model_selection import train_test_split\n",
    "from sklearn.model_selection import cross_val_score\n",
    "from sklearn.metrics import mean_squared_error\n",
    "from sklearn import neighbors\n",
    "from sklearn.utils import resample\n",
    "from sklearn import tree\n",
    "from sklearn.metrics import confusion_matrix\n",
    "from sklearn.metrics import classification_report\n",
    "from sklearn.feature_selection import SelectKBest, chi2, f_classif\n",
    "from sklearn.ensemble import RandomForestClassifier\n",
    "from sklearn.metrics import make_scorer, accuracy_score\n",
    "from sklearn.model_selection import GridSearchCV\n",
    "from sklearn import ensemble\n",
    "from sklearn.linear_model import LogisticRegression\n",
    "from sklearn.svm import SVC\n",
    "from datetime import datetime\n",
    "from dateutil.parser import parse\n",
    "\n",
    "# Display preferences.\n",
    "%matplotlib inline\n",
    "pd.options.display.float_format = '{:.3f}'.format\n",
    "\n",
    "# Suppress annoying harmless error.\n",
    "warnings.filterwarnings(\n",
    "    action=\"ignore\",\n",
    "    module=\"sklearn\"  \n",
    "    )\n",
    "\n",
    "# Set Plot Style\n",
    "sns.set_style('white')"
   ]
  },
  {
   "cell_type": "code",
   "execution_count": 2,
   "metadata": {},
   "outputs": [
    {
     "name": "stdout",
     "output_type": "stream",
     "text": [
      "CPU times: user 18.7 s, sys: 6.14 s, total: 24.9 s\n",
      "Wall time: 25.9 s\n"
     ]
    }
   ],
   "source": [
    "%%time\n",
    "\n",
    "## Import Files\n",
    "\n",
    "df = pd.read_csv('2008.csv')\n",
    "\n",
    "## Sample Original Data for Computational Efficiency\n",
    "\n",
    "df = df.sample(n=1000000, random_state=10)"
   ]
  },
  {
   "cell_type": "code",
   "execution_count": 3,
   "metadata": {},
   "outputs": [],
   "source": [
    "## View Data for Cleaning\n",
    "\n",
    "#df.head(7)\n",
    "#df.dtypes\n",
    "#df.describe()\n",
    "#df.isnull().sum(axis = 0)"
   ]
  },
  {
   "cell_type": "code",
   "execution_count": 4,
   "metadata": {},
   "outputs": [
    {
     "name": "stdout",
     "output_type": "stream",
     "text": [
      "CPU times: user 833 ms, sys: 211 ms, total: 1.04 s\n",
      "Wall time: 1.05 s\n"
     ]
    }
   ],
   "source": [
    "%%time\n",
    "\n",
    "## Dealing with Null Values\n",
    "\n",
    "df = df.drop(['CancellationCode', 'CarrierDelay', \n",
    "              'WeatherDelay', 'NASDelay', 'SecurityDelay', 'LateAircraftDelay'], axis=1)\n",
    "df = df.dropna()"
   ]
  },
  {
   "cell_type": "code",
   "execution_count": 5,
   "metadata": {},
   "outputs": [
    {
     "name": "stdout",
     "output_type": "stream",
     "text": [
      "CPU times: user 11min 41s, sys: 8.14 s, total: 11min 49s\n",
      "Wall time: 12min 1s\n"
     ]
    }
   ],
   "source": [
    "%%time\n",
    "\n",
    "## Turning Arrival and Departure Times into DateTime Format\n",
    "\n",
    "df[['Year', 'Month', 'DayofMonth', 'DayOfWeek', 'DepTime', 'CRSDepTime',  'ArrTime', 'CRSArrTime'\n",
    "   ]] = df[['Year', 'Month', 'DayofMonth', 'DayOfWeek', 'DepTime', 'CRSDepTime',  'ArrTime', 'CRSArrTime'\n",
    "           ]].applymap(str)\n",
    "\n",
    "def remove_tens_place(x):\n",
    "    return x[:-2]\n",
    "\n",
    "def add_new_zero(x):   \n",
    "    if len(x) == 3:\n",
    "        x = '0' + x\n",
    "    return x\n",
    "\n",
    "def alt_to_datetime(x):\n",
    "    return pd.to_datetime(x, format='%Y%m%d%H%M', errors='coerce')\n",
    "\n",
    "df.DepTime = df.DepTime.apply(remove_tens_place).apply(add_new_zero)\n",
    "df.CRSDepTime = df.CRSDepTime.apply(add_new_zero)\n",
    "df.ArrTime = df.ArrTime.apply(remove_tens_place).apply(add_new_zero)\n",
    "df.CRSArrTime = df.CRSArrTime.apply(add_new_zero)\n",
    "\n",
    "df.DepTime = df.Year + df.Month + df.DayofMonth + df.DepTime\n",
    "df.CRSDepTime = df.Year + df.Month + df.DayofMonth + df.CRSDepTime\n",
    "df.ArrTime = df.Year + df.Month + df.DayofMonth + df.ArrTime\n",
    "df.CRSArrTime = df.Year + df.Month + df.DayofMonth + df.CRSArrTime\n",
    "\n",
    "df.DepTime = df.DepTime.apply(alt_to_datetime)\n",
    "df.CRSDepTime = df.CRSDepTime.apply(alt_to_datetime)\n",
    "df.ArrTime = df.ArrTime.apply(alt_to_datetime)\n",
    "df.CRSArrTime = df.CRSArrTime.apply(alt_to_datetime)"
   ]
  },
  {
   "cell_type": "code",
   "execution_count": 6,
   "metadata": {
    "scrolled": true
   },
   "outputs": [
    {
     "name": "stdout",
     "output_type": "stream",
     "text": [
      "CPU times: user 10.6 s, sys: 222 ms, total: 10.8 s\n",
      "Wall time: 10.9 s\n"
     ]
    }
   ],
   "source": [
    "%%time\n",
    "\n",
    "## Creating a Late Arrival Class to Serve as Outcome Variable\n",
    "\n",
    "df['LateArr'] = (df.ArrTime - df.CRSArrTime).apply(lambda x: x.total_seconds())\n",
    "df['LateArr'] = df.LateArr.where(df.LateArr >= 30*60, 0)\n",
    "df['LateArr'] = df.LateArr.where(df.LateArr < 30*60, 1)\n"
   ]
  },
  {
   "cell_type": "code",
   "execution_count": 7,
   "metadata": {},
   "outputs": [
    {
     "name": "stdout",
     "output_type": "stream",
     "text": [
      "CPU times: user 3.78 s, sys: 1.14 s, total: 4.92 s\n",
      "Wall time: 5.5 s\n"
     ]
    }
   ],
   "source": [
    "%%time\n",
    "\n",
    "## Handle New Null Values and Drop Unnecessary Columns\n",
    "\n",
    "df = df.dropna()\n",
    "df = df.drop(['Year', 'DepTime', 'CRSDepTime', 'ArrTime', 'CRSArrTime', 'FlightNum'], axis=1)\n",
    "\n",
    "## Return Remaining Time Variables to String\n",
    "\n",
    "df[['Month', 'DayofMonth', 'DayOfWeek']] = df[['Month', 'DayofMonth', 'DayOfWeek']].applymap(int)\n",
    "\n",
    "## Reset Index\n",
    "\n",
    "df.reset_index(inplace=True)\n",
    "df.drop(\"index\",axis=1,inplace=True)"
   ]
  },
  {
   "cell_type": "markdown",
   "metadata": {},
   "source": [
    "## Data Exploration and Analysis\n",
    "\n",
    "Dataset used for this study includes information about each flight that may be consequential to the likelihood of late airline arrivals.\n",
    "Such information includes: the time period of the flights, the airline, the location, associated flight diversions, and information about the length of time of individual parts of the flights.\n",
    "The data being used in this study comes from the Bureau of Transportation Statistics and reflect all flights that data was collected for in the year 2008. \n",
    "\n",
    "\n"
   ]
  },
  {
   "cell_type": "code",
   "execution_count": 8,
   "metadata": {
    "scrolled": false
   },
   "outputs": [
    {
     "name": "stdout",
     "output_type": "stream",
     "text": [
      "CPU times: user 350 µs, sys: 21 µs, total: 371 µs\n",
      "Wall time: 363 µs\n"
     ]
    },
    {
     "data": {
      "text/html": [
       "<div>\n",
       "<style scoped>\n",
       "    .dataframe tbody tr th:only-of-type {\n",
       "        vertical-align: middle;\n",
       "    }\n",
       "\n",
       "    .dataframe tbody tr th {\n",
       "        vertical-align: top;\n",
       "    }\n",
       "\n",
       "    .dataframe thead th {\n",
       "        text-align: right;\n",
       "    }\n",
       "</style>\n",
       "<table border=\"1\" class=\"dataframe\">\n",
       "  <thead>\n",
       "    <tr style=\"text-align: right;\">\n",
       "      <th></th>\n",
       "      <th>Month</th>\n",
       "      <th>DayofMonth</th>\n",
       "      <th>DayOfWeek</th>\n",
       "      <th>UniqueCarrier</th>\n",
       "      <th>TailNum</th>\n",
       "      <th>ActualElapsedTime</th>\n",
       "      <th>CRSElapsedTime</th>\n",
       "      <th>AirTime</th>\n",
       "      <th>ArrDelay</th>\n",
       "      <th>DepDelay</th>\n",
       "      <th>Origin</th>\n",
       "      <th>Dest</th>\n",
       "      <th>Distance</th>\n",
       "      <th>TaxiIn</th>\n",
       "      <th>TaxiOut</th>\n",
       "      <th>Cancelled</th>\n",
       "      <th>Diverted</th>\n",
       "      <th>LateArr</th>\n",
       "    </tr>\n",
       "  </thead>\n",
       "  <tbody>\n",
       "    <tr>\n",
       "      <th>0</th>\n",
       "      <td>4</td>\n",
       "      <td>28</td>\n",
       "      <td>1</td>\n",
       "      <td>WN</td>\n",
       "      <td>N775SW</td>\n",
       "      <td>80.000</td>\n",
       "      <td>80.000</td>\n",
       "      <td>61.000</td>\n",
       "      <td>-1.000</td>\n",
       "      <td>-1.000</td>\n",
       "      <td>SJC</td>\n",
       "      <td>LAS</td>\n",
       "      <td>386</td>\n",
       "      <td>13.000</td>\n",
       "      <td>6.000</td>\n",
       "      <td>0</td>\n",
       "      <td>0</td>\n",
       "      <td>0.000</td>\n",
       "    </tr>\n",
       "    <tr>\n",
       "      <th>1</th>\n",
       "      <td>2</td>\n",
       "      <td>28</td>\n",
       "      <td>4</td>\n",
       "      <td>WN</td>\n",
       "      <td>N506SW</td>\n",
       "      <td>65.000</td>\n",
       "      <td>70.000</td>\n",
       "      <td>52.000</td>\n",
       "      <td>-5.000</td>\n",
       "      <td>0.000</td>\n",
       "      <td>CMH</td>\n",
       "      <td>MDW</td>\n",
       "      <td>284</td>\n",
       "      <td>4.000</td>\n",
       "      <td>9.000</td>\n",
       "      <td>0</td>\n",
       "      <td>0</td>\n",
       "      <td>0.000</td>\n",
       "    </tr>\n",
       "    <tr>\n",
       "      <th>2</th>\n",
       "      <td>8</td>\n",
       "      <td>26</td>\n",
       "      <td>2</td>\n",
       "      <td>OO</td>\n",
       "      <td>N756SK</td>\n",
       "      <td>102.000</td>\n",
       "      <td>89.000</td>\n",
       "      <td>74.000</td>\n",
       "      <td>6.000</td>\n",
       "      <td>-7.000</td>\n",
       "      <td>OKC</td>\n",
       "      <td>DEN</td>\n",
       "      <td>495</td>\n",
       "      <td>20.000</td>\n",
       "      <td>8.000</td>\n",
       "      <td>0</td>\n",
       "      <td>0</td>\n",
       "      <td>0.000</td>\n",
       "    </tr>\n",
       "    <tr>\n",
       "      <th>3</th>\n",
       "      <td>7</td>\n",
       "      <td>15</td>\n",
       "      <td>2</td>\n",
       "      <td>UA</td>\n",
       "      <td>N312UA</td>\n",
       "      <td>88.000</td>\n",
       "      <td>95.000</td>\n",
       "      <td>75.000</td>\n",
       "      <td>132.000</td>\n",
       "      <td>139.000</td>\n",
       "      <td>EUG</td>\n",
       "      <td>SFO</td>\n",
       "      <td>451</td>\n",
       "      <td>4.000</td>\n",
       "      <td>9.000</td>\n",
       "      <td>0</td>\n",
       "      <td>0</td>\n",
       "      <td>1.000</td>\n",
       "    </tr>\n",
       "    <tr>\n",
       "      <th>4</th>\n",
       "      <td>7</td>\n",
       "      <td>14</td>\n",
       "      <td>1</td>\n",
       "      <td>WN</td>\n",
       "      <td>N255WN</td>\n",
       "      <td>57.000</td>\n",
       "      <td>65.000</td>\n",
       "      <td>42.000</td>\n",
       "      <td>-9.000</td>\n",
       "      <td>-1.000</td>\n",
       "      <td>MDW</td>\n",
       "      <td>DTW</td>\n",
       "      <td>229</td>\n",
       "      <td>8.000</td>\n",
       "      <td>7.000</td>\n",
       "      <td>0</td>\n",
       "      <td>0</td>\n",
       "      <td>0.000</td>\n",
       "    </tr>\n",
       "    <tr>\n",
       "      <th>5</th>\n",
       "      <td>11</td>\n",
       "      <td>29</td>\n",
       "      <td>6</td>\n",
       "      <td>OO</td>\n",
       "      <td>N233SW</td>\n",
       "      <td>44.000</td>\n",
       "      <td>44.000</td>\n",
       "      <td>21.000</td>\n",
       "      <td>54.000</td>\n",
       "      <td>54.000</td>\n",
       "      <td>LAX</td>\n",
       "      <td>SBA</td>\n",
       "      <td>89</td>\n",
       "      <td>5.000</td>\n",
       "      <td>18.000</td>\n",
       "      <td>0</td>\n",
       "      <td>0</td>\n",
       "      <td>1.000</td>\n",
       "    </tr>\n",
       "    <tr>\n",
       "      <th>6</th>\n",
       "      <td>8</td>\n",
       "      <td>10</td>\n",
       "      <td>7</td>\n",
       "      <td>DL</td>\n",
       "      <td>N913DN</td>\n",
       "      <td>164.000</td>\n",
       "      <td>157.000</td>\n",
       "      <td>126.000</td>\n",
       "      <td>-3.000</td>\n",
       "      <td>-10.000</td>\n",
       "      <td>SLC</td>\n",
       "      <td>DFW</td>\n",
       "      <td>988</td>\n",
       "      <td>12.000</td>\n",
       "      <td>26.000</td>\n",
       "      <td>0</td>\n",
       "      <td>0</td>\n",
       "      <td>0.000</td>\n",
       "    </tr>\n",
       "  </tbody>\n",
       "</table>\n",
       "</div>"
      ],
      "text/plain": [
       "   Month  DayofMonth  DayOfWeek UniqueCarrier TailNum  ActualElapsedTime  \\\n",
       "0      4          28          1            WN  N775SW             80.000   \n",
       "1      2          28          4            WN  N506SW             65.000   \n",
       "2      8          26          2            OO  N756SK            102.000   \n",
       "3      7          15          2            UA  N312UA             88.000   \n",
       "4      7          14          1            WN  N255WN             57.000   \n",
       "5     11          29          6            OO  N233SW             44.000   \n",
       "6      8          10          7            DL  N913DN            164.000   \n",
       "\n",
       "   CRSElapsedTime  AirTime  ArrDelay  DepDelay Origin Dest  Distance  TaxiIn  \\\n",
       "0          80.000   61.000    -1.000    -1.000    SJC  LAS       386  13.000   \n",
       "1          70.000   52.000    -5.000     0.000    CMH  MDW       284   4.000   \n",
       "2          89.000   74.000     6.000    -7.000    OKC  DEN       495  20.000   \n",
       "3          95.000   75.000   132.000   139.000    EUG  SFO       451   4.000   \n",
       "4          65.000   42.000    -9.000    -1.000    MDW  DTW       229   8.000   \n",
       "5          44.000   21.000    54.000    54.000    LAX  SBA        89   5.000   \n",
       "6         157.000  126.000    -3.000   -10.000    SLC  DFW       988  12.000   \n",
       "\n",
       "   TaxiOut  Cancelled  Diverted  LateArr  \n",
       "0    6.000          0         0    0.000  \n",
       "1    9.000          0         0    0.000  \n",
       "2    8.000          0         0    0.000  \n",
       "3    9.000          0         0    1.000  \n",
       "4    7.000          0         0    0.000  \n",
       "5   18.000          0         0    1.000  \n",
       "6   26.000          0         0    0.000  "
      ]
     },
     "execution_count": 8,
     "metadata": {},
     "output_type": "execute_result"
    }
   ],
   "source": [
    "%%time\n",
    "\n",
    "df.head(7)"
   ]
  },
  {
   "cell_type": "markdown",
   "metadata": {},
   "source": [
    "Above is the first several rows of the dataset after preliminary cleaning was done to remove null values and label the data.\n",
    "The newly engineered outcome variable \"LateArr\" labels a flight as late (1) if it arrived over 30 minutes past its scheculed arrival time and not late (0) otherwise."
   ]
  },
  {
   "cell_type": "code",
   "execution_count": 9,
   "metadata": {
    "scrolled": false
   },
   "outputs": [
    {
     "data": {
      "image/png": "[encoded data removed]",
      "text/plain": [
       "<Figure size 1008x288 with 2 Axes>"
      ]
     },
     "metadata": {
      "needs_background": "light"
     },
     "output_type": "display_data"
    },
    {
     "name": "stdout",
     "output_type": "stream",
     "text": [
      "CPU times: user 1.47 s, sys: 234 ms, total: 1.7 s\n",
      "Wall time: 972 ms\n"
     ]
    }
   ],
   "source": [
    "%%time\n",
    "\n",
    "## Barplot of Specific Airlines\n",
    "\n",
    "fig = plt.figure(figsize=(14, 4))\n",
    "fig.subplots_adjust(hspace=.5)\n",
    "\n",
    "plt.subplot(1, 2, 1)\n",
    "ax = df.UniqueCarrier.value_counts().plot(kind='bar',\n",
    "                                    \n",
    "                                    title=\"Frequency of Flights from Specific Airlines\")\n",
    "ax.set_xlabel(\"Airlines\")\n",
    "ax.set_ylabel(\"Frequency\")\n",
    "\n",
    "## Barplot of Specific Planes\n",
    "\n",
    "plt.subplot(1, 2, 2)\n",
    "ax = df.TailNum.value_counts().head(15).plot(kind='bar',\n",
    "                                    \n",
    "                                    title=\"Frequency of Flights with Specific Planes\")\n",
    "ax.set_xlabel(\"Planes\")\n",
    "ax.set_ylabel(\"Frequency\")\n",
    "\n",
    "plt.show()"
   ]
  },
  {
   "cell_type": "markdown",
   "metadata": {},
   "source": [
    "The graph on the left shows the number of flights that took place with each airline (per million flights).\n",
    "There is a large range in the number of flights that took place with each airline.\n",
    "Southwest Airlines (WN) had a significantly larger number of flights then the second most busy airline, American Airlines (AA).\n",
    "\n",
    "The Graph on the right shows the 15 most used planes.\n",
    "Of these 15, one of the least active airlines in terms of flights, Hawaiian Airlines (HA) accounted for 11.\n",
    "This implies that this smaller airline has relies on fewer planes to conduct a proportionally larger amount of the flights.\n"
   ]
  },
  {
   "cell_type": "code",
   "execution_count": 10,
   "metadata": {
    "scrolled": false
   },
   "outputs": [
    {
     "data": {
      "image/png": "[encoded data removed]",
      "text/plain": [
       "<Figure size 1008x864 with 2 Axes>"
      ]
     },
     "metadata": {
      "needs_background": "light"
     },
     "output_type": "display_data"
    },
    {
     "name": "stdout",
     "output_type": "stream",
     "text": [
      "CPU times: user 1.43 s, sys: 164 ms, total: 1.59 s\n",
      "Wall time: 937 ms\n"
     ]
    }
   ],
   "source": [
    "%%time\n",
    "\n",
    "## Barplot of Specific Airlines\n",
    "\n",
    "fig = plt.figure(figsize=(14, 12))\n",
    "fig.subplots_adjust(hspace=.5)\n",
    "\n",
    "plt.subplot(3, 1, 1)\n",
    "ax = df.Origin.value_counts().head(25).plot(kind='bar',\n",
    "                                    \n",
    "                                    title=\"Frequency of Flights From Specific Origins\")\n",
    "ax.set_xlabel(\"Origin Locations\")\n",
    "ax.set_ylabel(\"Frequency\")\n",
    "\n",
    "## Barplot of Specific Planes\n",
    "\n",
    "plt.subplot(3, 1, 2)\n",
    "ax = df.Dest.value_counts().head(25).plot(kind='bar',\n",
    "                                    \n",
    "                                    title=\"Frequency of Flights to Specific Destinations\")\n",
    "ax.set_xlabel(\"Destinations\")\n",
    "ax.set_ylabel(\"Frequency\")\n",
    "\n",
    "plt.show()"
   ]
  },
  {
   "cell_type": "markdown",
   "metadata": {},
   "source": [
    "The airports with the most air travel in the United States are Atlanta, Chicago and Dallas respectively. \n",
    "The lack of descrepancy between origin and destination locations show that there aren't any outside factors outside of flight affecting the locations of the planes."
   ]
  },
  {
   "cell_type": "code",
   "execution_count": 11,
   "metadata": {
    "scrolled": true
   },
   "outputs": [
    {
     "data": {
      "image/png": "[encoded data removed]",
      "text/plain": [
       "<Figure size 1008x288 with 2 Axes>"
      ]
     },
     "metadata": {
      "needs_background": "light"
     },
     "output_type": "display_data"
    },
    {
     "name": "stdout",
     "output_type": "stream",
     "text": [
      "CPU times: user 754 ms, sys: 115 ms, total: 869 ms\n",
      "Wall time: 410 ms\n"
     ]
    }
   ],
   "source": [
    "%%time\n",
    "\n",
    "## Barplot of Specific Airlines\n",
    "\n",
    "fig = plt.figure(figsize=(14, 4))\n",
    "fig.subplots_adjust(hspace=.5)\n",
    "\n",
    "plt.subplot(1, 2, 1)\n",
    "ax = df.Month.value_counts().sort_index().head(25).plot(kind='bar',\n",
    "                                    \n",
    "                                    title=\"Frequency of Flights in Each Month\")\n",
    "ax.set_xlabel(\"Month\")\n",
    "ax.set_ylabel(\"Frequency\")\n",
    "\n",
    "## Barplot of Specific Days of the Week\n",
    "\n",
    "plt.subplot(1, 2, 2)\n",
    "ax = df.DayOfWeek.value_counts().sort_index().head(25).plot(kind='bar',\n",
    "                                    \n",
    "                                    title=\"Frequency of Flights on Each Day of the Week\")\n",
    "ax.set_xlabel(\"Day of the Week\")\n",
    "ax.set_ylabel(\"Frequency\")\n",
    "\n",
    "plt.show()"
   ]
  },
  {
   "cell_type": "markdown",
   "metadata": {},
   "source": [
    "The graph on the left shows the frequency of flights (per million flights) that took place in a given month with each number corresponding to its respective month ('1' represents January, '2' represents February and so on).\n",
    "The frequency of flights fluctuate each month, which is a sign of seasonal factors affecting the data.\n",
    "\n",
    "The the graph on the right shows the frequency of flights (per million flights) that took place on a given day of the week with each number corresponding to its respective day of the week ('1' represents Monday, '2' represents Tuesday and so on.\n",
    "The relative number of flights was consistent on weekdays and noticeable decreased during weekends."
   ]
  },
  {
   "cell_type": "code",
   "execution_count": 12,
   "metadata": {
    "scrolled": true
   },
   "outputs": [
    {
     "name": "stdout",
     "output_type": "stream",
     "text": [
      "0    963353\n",
      "Name: Cancelled, dtype: int64\n",
      "0    963353\n",
      "Name: Diverted, dtype: int64\n",
      "CPU times: user 19.1 ms, sys: 2.87 ms, total: 21.9 ms\n",
      "Wall time: 19.6 ms\n"
     ]
    }
   ],
   "source": [
    "%%time\n",
    "\n",
    "print(df.Cancelled.value_counts())\n",
    "print(df.Diverted.value_counts())"
   ]
  },
  {
   "cell_type": "markdown",
   "metadata": {},
   "source": [
    "The lack of cancelled and diverted flights in the data shows that a statistically insignificant amount of flights are cancelled or diverted.\n",
    "These features are likely to be dropped by most forms of feature selection."
   ]
  },
  {
   "cell_type": "code",
   "execution_count": 13,
   "metadata": {
    "scrolled": true
   },
   "outputs": [
    {
     "name": "stdout",
     "output_type": "stream",
     "text": [
      "CPU times: user 11.8 ms, sys: 2.39 ms, total: 14.2 ms\n",
      "Wall time: 12.2 ms\n"
     ]
    },
    {
     "data": {
      "text/plain": [
       "0.000    834399\n",
       "1.000    128954\n",
       "Name: LateArr, dtype: int64"
      ]
     },
     "execution_count": 13,
     "metadata": {},
     "output_type": "execute_result"
    }
   ],
   "source": [
    "%%time\n",
    "\n",
    "df.LateArr.value_counts()"
   ]
  },
  {
   "cell_type": "markdown",
   "metadata": {},
   "source": [
    "There is a significant class imbalance on the outcome variable, LateArr with the negative class (not late) being in the majority.\n",
    "This class imbalance will need to be remedied before modeling so that the dominant class isn't predicted by default."
   ]
  },
  {
   "cell_type": "code",
   "execution_count": 14,
   "metadata": {
    "scrolled": false
   },
   "outputs": [
    {
     "data": {
      "image/png": "[encoded data removed]",
      "text/plain": [
       "<Figure size 1620x1620 with 90 Axes>"
      ]
     },
     "metadata": {
      "needs_background": "light"
     },
     "output_type": "display_data"
    },
    {
     "name": "stdout",
     "output_type": "stream",
     "text": [
      "CPU times: user 25.6 s, sys: 3.73 s, total: 29.3 s\n",
      "Wall time: 14.4 s\n"
     ]
    }
   ],
   "source": [
    "%%time\n",
    "\n",
    "### Creating Scatterplot Matrix with Sample of DataFrame\n",
    "\n",
    "## Store samples of DataFrame For Visualization\n",
    "\n",
    "df_sample = df[['ActualElapsedTime', 'CRSElapsedTime', 'AirTime', \n",
    "               'ArrDelay', 'DepDelay', 'Origin', 'Dest', 'Distance', \n",
    "               'TaxiIn', 'TaxiOut', 'LateArr']].sample(100)\n",
    "\n",
    "## Declare Pairgrid\n",
    "g = sns.PairGrid(df_sample.dropna(), diag_sharey=False)\n",
    "\n",
    "## Scatterplot\n",
    "g.map_upper(plt.scatter, alpha=.5)\n",
    "\n",
    "## Fit line \n",
    "g.map_lower(sns.regplot, scatter_kws=dict(alpha=0))\n",
    "\n",
    "## KDE plot\n",
    "g.map_diag(sns.kdeplot, lw=3)\n",
    "plt.show()"
   ]
  },
  {
   "cell_type": "markdown",
   "metadata": {},
   "source": [
    "This scatterplot matrix was made to analyze the relationship between the continuous variables.\n",
    "The topright half of the matrix gives scatterplots of each combination of variables while the bottom left gives the best fit lines corresponding to the relationship between each pair.\n",
    "The diagonals consist of KDE plots which show the shape of the distribution of each variable.\n",
    "\n",
    "The correlation between the scheduled elapsed time (CRSElapsedTime) and actual elapsed time (ActualElapsedTime) is very high but the fact that the scatterplot representing the relationship between the two variables doesn't appear as a straight line shows that there is significant variation between scheduled and actual elapsed time.\n",
    "Airtime only seems to have high correlations with variables that directly affect how long the flights are (e.g. Distance) but not with the other variables (such as TaxiIn, LateArr etc.).\n",
    "The Distance variable displays the same relationships as Airtime.\n"
   ]
  },
  {
   "cell_type": "code",
   "execution_count": 15,
   "metadata": {
    "scrolled": false
   },
   "outputs": [
    {
     "name": "stdout",
     "output_type": "stream",
     "text": [
      "CPU times: user 761 ms, sys: 111 ms, total: 871 ms\n",
      "Wall time: 927 ms\n"
     ]
    },
    {
     "data": {
      "text/html": [
       "<div>\n",
       "<style scoped>\n",
       "    .dataframe tbody tr th:only-of-type {\n",
       "        vertical-align: middle;\n",
       "    }\n",
       "\n",
       "    .dataframe tbody tr th {\n",
       "        vertical-align: top;\n",
       "    }\n",
       "\n",
       "    .dataframe thead th {\n",
       "        text-align: right;\n",
       "    }\n",
       "</style>\n",
       "<table border=\"1\" class=\"dataframe\">\n",
       "  <thead>\n",
       "    <tr style=\"text-align: right;\">\n",
       "      <th></th>\n",
       "      <th>Month</th>\n",
       "      <th>DayofMonth</th>\n",
       "      <th>DayOfWeek</th>\n",
       "      <th>ActualElapsedTime</th>\n",
       "      <th>CRSElapsedTime</th>\n",
       "      <th>AirTime</th>\n",
       "      <th>ArrDelay</th>\n",
       "      <th>DepDelay</th>\n",
       "      <th>Distance</th>\n",
       "      <th>TaxiIn</th>\n",
       "      <th>TaxiOut</th>\n",
       "      <th>Cancelled</th>\n",
       "      <th>Diverted</th>\n",
       "      <th>LateArr</th>\n",
       "    </tr>\n",
       "  </thead>\n",
       "  <tbody>\n",
       "    <tr>\n",
       "      <th>count</th>\n",
       "      <td>963353.000</td>\n",
       "      <td>963353.000</td>\n",
       "      <td>963353.000</td>\n",
       "      <td>963353.000</td>\n",
       "      <td>963353.000</td>\n",
       "      <td>963353.000</td>\n",
       "      <td>963353.000</td>\n",
       "      <td>963353.000</td>\n",
       "      <td>963353.000</td>\n",
       "      <td>963353.000</td>\n",
       "      <td>963353.000</td>\n",
       "      <td>963353.000</td>\n",
       "      <td>963353.000</td>\n",
       "      <td>963353.000</td>\n",
       "    </tr>\n",
       "    <tr>\n",
       "      <th>mean</th>\n",
       "      <td>6.406</td>\n",
       "      <td>15.900</td>\n",
       "      <td>3.925</td>\n",
       "      <td>127.258</td>\n",
       "      <td>129.007</td>\n",
       "      <td>103.949</td>\n",
       "      <td>8.190</td>\n",
       "      <td>9.939</td>\n",
       "      <td>728.208</td>\n",
       "      <td>6.864</td>\n",
       "      <td>16.446</td>\n",
       "      <td>0.000</td>\n",
       "      <td>0.000</td>\n",
       "      <td>0.134</td>\n",
       "    </tr>\n",
       "    <tr>\n",
       "      <th>std</th>\n",
       "      <td>3.394</td>\n",
       "      <td>8.755</td>\n",
       "      <td>1.984</td>\n",
       "      <td>70.180</td>\n",
       "      <td>69.503</td>\n",
       "      <td>67.414</td>\n",
       "      <td>38.604</td>\n",
       "      <td>35.316</td>\n",
       "      <td>563.041</td>\n",
       "      <td>4.939</td>\n",
       "      <td>11.306</td>\n",
       "      <td>0.000</td>\n",
       "      <td>0.000</td>\n",
       "      <td>0.341</td>\n",
       "    </tr>\n",
       "    <tr>\n",
       "      <th>min</th>\n",
       "      <td>1.000</td>\n",
       "      <td>1.000</td>\n",
       "      <td>1.000</td>\n",
       "      <td>15.000</td>\n",
       "      <td>2.000</td>\n",
       "      <td>1.000</td>\n",
       "      <td>-129.000</td>\n",
       "      <td>-71.000</td>\n",
       "      <td>11.000</td>\n",
       "      <td>0.000</td>\n",
       "      <td>0.000</td>\n",
       "      <td>0.000</td>\n",
       "      <td>0.000</td>\n",
       "      <td>0.000</td>\n",
       "    </tr>\n",
       "    <tr>\n",
       "      <th>25%</th>\n",
       "      <td>3.000</td>\n",
       "      <td>8.000</td>\n",
       "      <td>2.000</td>\n",
       "      <td>77.000</td>\n",
       "      <td>80.000</td>\n",
       "      <td>55.000</td>\n",
       "      <td>-10.000</td>\n",
       "      <td>-4.000</td>\n",
       "      <td>326.000</td>\n",
       "      <td>4.000</td>\n",
       "      <td>10.000</td>\n",
       "      <td>0.000</td>\n",
       "      <td>0.000</td>\n",
       "      <td>0.000</td>\n",
       "    </tr>\n",
       "    <tr>\n",
       "      <th>50%</th>\n",
       "      <td>6.000</td>\n",
       "      <td>16.000</td>\n",
       "      <td>4.000</td>\n",
       "      <td>110.000</td>\n",
       "      <td>111.000</td>\n",
       "      <td>86.000</td>\n",
       "      <td>-2.000</td>\n",
       "      <td>-1.000</td>\n",
       "      <td>581.000</td>\n",
       "      <td>6.000</td>\n",
       "      <td>14.000</td>\n",
       "      <td>0.000</td>\n",
       "      <td>0.000</td>\n",
       "      <td>0.000</td>\n",
       "    </tr>\n",
       "    <tr>\n",
       "      <th>75%</th>\n",
       "      <td>9.000</td>\n",
       "      <td>23.000</td>\n",
       "      <td>6.000</td>\n",
       "      <td>157.000</td>\n",
       "      <td>159.000</td>\n",
       "      <td>132.000</td>\n",
       "      <td>12.000</td>\n",
       "      <td>8.000</td>\n",
       "      <td>954.000</td>\n",
       "      <td>8.000</td>\n",
       "      <td>19.000</td>\n",
       "      <td>0.000</td>\n",
       "      <td>0.000</td>\n",
       "      <td>0.000</td>\n",
       "    </tr>\n",
       "    <tr>\n",
       "      <th>max</th>\n",
       "      <td>12.000</td>\n",
       "      <td>31.000</td>\n",
       "      <td>7.000</td>\n",
       "      <td>1114.000</td>\n",
       "      <td>660.000</td>\n",
       "      <td>1091.000</td>\n",
       "      <td>1542.000</td>\n",
       "      <td>1545.000</td>\n",
       "      <td>4962.000</td>\n",
       "      <td>200.000</td>\n",
       "      <td>383.000</td>\n",
       "      <td>0.000</td>\n",
       "      <td>0.000</td>\n",
       "      <td>1.000</td>\n",
       "    </tr>\n",
       "  </tbody>\n",
       "</table>\n",
       "</div>"
      ],
      "text/plain": [
       "           Month  DayofMonth  DayOfWeek  ActualElapsedTime  CRSElapsedTime  \\\n",
       "count 963353.000  963353.000 963353.000         963353.000      963353.000   \n",
       "mean       6.406      15.900      3.925            127.258         129.007   \n",
       "std        3.394       8.755      1.984             70.180          69.503   \n",
       "min        1.000       1.000      1.000             15.000           2.000   \n",
       "25%        3.000       8.000      2.000             77.000          80.000   \n",
       "50%        6.000      16.000      4.000            110.000         111.000   \n",
       "75%        9.000      23.000      6.000            157.000         159.000   \n",
       "max       12.000      31.000      7.000           1114.000         660.000   \n",
       "\n",
       "         AirTime   ArrDelay   DepDelay   Distance     TaxiIn    TaxiOut  \\\n",
       "count 963353.000 963353.000 963353.000 963353.000 963353.000 963353.000   \n",
       "mean     103.949      8.190      9.939    728.208      6.864     16.446   \n",
       "std       67.414     38.604     35.316    563.041      4.939     11.306   \n",
       "min        1.000   -129.000    -71.000     11.000      0.000      0.000   \n",
       "25%       55.000    -10.000     -4.000    326.000      4.000     10.000   \n",
       "50%       86.000     -2.000     -1.000    581.000      6.000     14.000   \n",
       "75%      132.000     12.000      8.000    954.000      8.000     19.000   \n",
       "max     1091.000   1542.000   1545.000   4962.000    200.000    383.000   \n",
       "\n",
       "       Cancelled   Diverted    LateArr  \n",
       "count 963353.000 963353.000 963353.000  \n",
       "mean       0.000      0.000      0.134  \n",
       "std        0.000      0.000      0.341  \n",
       "min        0.000      0.000      0.000  \n",
       "25%        0.000      0.000      0.000  \n",
       "50%        0.000      0.000      0.000  \n",
       "75%        0.000      0.000      0.000  \n",
       "max        0.000      0.000      1.000  "
      ]
     },
     "execution_count": 15,
     "metadata": {},
     "output_type": "execute_result"
    }
   ],
   "source": [
    "%%time\n",
    "\n",
    "df.describe()"
   ]
  },
  {
   "cell_type": "markdown",
   "metadata": {},
   "source": [
    "These descriptive statistics supplement the scatterplot matrix by quantifying the distribution of the variables.\n",
    "While many of the max values differ largely from 75 percent values, the datapoints may continuously cover the range between the 2 values, showing that the max values are not true outliers."
   ]
  },
  {
   "cell_type": "code",
   "execution_count": 16,
   "metadata": {
    "scrolled": false
   },
   "outputs": [
    {
     "data": {
      "image/png": "[encoded data removed]",
      "text/plain": [
       "<Figure size 1008x576 with 4 Axes>"
      ]
     },
     "metadata": {
      "needs_background": "light"
     },
     "output_type": "display_data"
    },
    {
     "name": "stdout",
     "output_type": "stream",
     "text": [
      "CPU times: user 1.21 s, sys: 171 ms, total: 1.38 s\n",
      "Wall time: 735 ms\n"
     ]
    }
   ],
   "source": [
    "%%time\n",
    "\n",
    "## Boxplot of Air Times\n",
    "\n",
    "fig = plt.figure(figsize=(14, 8))\n",
    "fig.subplots_adjust(hspace=.5)\n",
    "\n",
    "plt.subplot(2, 2, 1)\n",
    "ax = df.ArrDelay.sample(50).plot(kind='box',\n",
    "                                    \n",
    "                                    title=\"Frequency of Air Times\")\n",
    "ax.set_xlabel(\"Air Times\")\n",
    "ax.set_ylabel(\"Frequency\")\n",
    "\n",
    "## Boxplot of Departure Delay Times\n",
    "\n",
    "plt.subplot(2, 2, 2)\n",
    "ax = df.DepDelay.sample(50).plot(kind='box',\n",
    "                                    \n",
    "                                    title=\"Frequency of Departure Delay Times\")\n",
    "ax.set_xlabel(\"Departure Delay Times\")\n",
    "ax.set_ylabel(\"Frequency\")\n",
    "\n",
    "## Boxplot of Taxi In Times\n",
    "\n",
    "plt.subplot(2, 2, 3)\n",
    "ax = df.TaxiIn.sample(50).plot(kind='box',\n",
    "                                    \n",
    "                                    title=\"Frequency of Taxi In Times\")\n",
    "ax.set_xlabel(\"Taxi In Times\")\n",
    "ax.set_ylabel(\"Frequency\")\n",
    "\n",
    "## Boxplot of Taxi Out Times\n",
    "\n",
    "plt.subplot(2, 2, 4)\n",
    "ax = df.TaxiOut.sample(50).plot(kind='box',\n",
    "                                    \n",
    "                                    title=\"Frequency of Taxi Out Times\")\n",
    "ax.set_xlabel(\"Taxi Out Times\")\n",
    "ax.set_ylabel(\"Frequency\")\n",
    "\n",
    "plt.show()"
   ]
  },
  {
   "cell_type": "markdown",
   "metadata": {},
   "source": [
    "While the boxplots show that there are significantly higher values than the 75 percentile, it is important to note that these boxplots reflect samples. As the sample sizes increase it can be seen that there are plenty of datapoints leading up to the extreme values shown."
   ]
  },
  {
   "cell_type": "markdown",
   "metadata": {},
   "source": [
    "## Preparing The Data For Modeling\n",
    "\n",
    "To prepare the data for modeling, a new feature was engineered, the data was resampled to address the class imbalance in the outcome, and three forms of feature selection were implemented. This resulted in three sets of variables: One reflecting all of the features of the dataset, one reflecting features chosen by the selectKbest function and one reflecting PCA components.\n"
   ]
  },
  {
   "cell_type": "code",
   "execution_count": 17,
   "metadata": {},
   "outputs": [
    {
     "name": "stdout",
     "output_type": "stream",
     "text": [
      "CPU times: user 5.68 ms, sys: 1.8 ms, total: 7.48 ms\n",
      "Wall time: 4.81 ms\n"
     ]
    }
   ],
   "source": [
    "%%time\n",
    "\n",
    "## Engineering a New Feature to Capture the Differences Between Planned and Actual Elapsed Times\n",
    "\n",
    "df['DiffElapsedTime'] = df['CRSElapsedTime'] - df['ActualElapsedTime']"
   ]
  },
  {
   "cell_type": "markdown",
   "metadata": {},
   "source": [
    "The New feature was created since the model could gain from having a variable to note the differences/interaction between the scheduled and actual elapsed time variables as opposed to just the magnitude of each variable on its own."
   ]
  },
  {
   "cell_type": "code",
   "execution_count": 18,
   "metadata": {
    "scrolled": true
   },
   "outputs": [
    {
     "name": "stdout",
     "output_type": "stream",
     "text": [
      "CPU times: user 225 ms, sys: 75.9 ms, total: 301 ms\n",
      "Wall time: 300 ms\n"
     ]
    }
   ],
   "source": [
    "%%time\n",
    "\n",
    "## Class Balancing and Resampling\n",
    "\n",
    "# Separate majority and minority classes\n",
    "df_majority = df[df.LateArr==0]\n",
    "df_minority = df[df.LateArr==1]\n",
    "\n",
    "# Upsample minority class\n",
    "df_minority_downsampled = resample(df_minority, \n",
    "                                 replace=False,     # sample with replacement\n",
    "                                 n_samples=25000,    # to match majority class\n",
    "                                 random_state=123) # reproducible results\n",
    "\n",
    "# Downsample majority class\n",
    "df_majority_downsampled = resample(df_majority, \n",
    "                                 replace=False,    # sample without replacement\n",
    "                                 n_samples=25000,     # to match minority class\n",
    "                                 random_state=123) # reproducible results\n",
    "\n",
    "# Combine majority class with upsampled minority class\n",
    "df = pd.concat([df_majority_downsampled, df_minority_downsampled])\n",
    "\n",
    "df.LateArr.value_counts()"
   ]
  },
  {
   "cell_type": "markdown",
   "metadata": {},
   "source": [
    "Class balancing was done by downsampling both classes to reduce computational complexity and runtimes."
   ]
  },
  {
   "cell_type": "code",
   "execution_count": 19,
   "metadata": {},
   "outputs": [
    {
     "name": "stdout",
     "output_type": "stream",
     "text": [
      "CPU times: user 2.97 s, sys: 287 ms, total: 3.26 s\n",
      "Wall time: 3.26 s\n"
     ]
    }
   ],
   "source": [
    "%%time\n",
    "\n",
    "## Get Dummies so Categorical Variables Can be Used in Regression\n",
    "\n",
    "df = pd.get_dummies(df)\n",
    "\n",
    "## Display New Number of Features\n",
    "\n",
    "len(df.columns)"
   ]
  },
  {
   "cell_type": "code",
   "execution_count": 20,
   "metadata": {
    "scrolled": true
   },
   "outputs": [
    {
     "name": "stdout",
     "output_type": "stream",
     "text": [
      "CPU times: user 525 ms, sys: 474 ms, total: 998 ms\n",
      "Wall time: 998 ms\n"
     ]
    }
   ],
   "source": [
    "%%time\n",
    "\n",
    "## Establish variables based on original components to be used for modeling\n",
    "\n",
    "x = df.drop(['LateArr'], axis=1)\n",
    "y = df.LateArr"
   ]
  },
  {
   "cell_type": "code",
   "execution_count": 21,
   "metadata": {},
   "outputs": [
    {
     "name": "stdout",
     "output_type": "stream",
     "text": [
      "CPU times: user 12.2 s, sys: 8.65 s, total: 20.8 s\n",
      "Wall time: 22.8 s\n"
     ]
    }
   ],
   "source": [
    "%%time\n",
    "\n",
    "## Establish variables based on select K best to be used for modeling\n",
    "\n",
    "selector = SelectKBest(f_classif, k=200)\n",
    "k_predictors = selector.fit_transform(x,y)"
   ]
  },
  {
   "cell_type": "code",
   "execution_count": 22,
   "metadata": {},
   "outputs": [
    {
     "name": "stdout",
     "output_type": "stream",
     "text": [
      "The percentage of total variance in the dataset explained by each component from Sklearn PCA.\n",
      " [0.00093721 0.00062412 0.00059003 0.00054842 0.00054644 0.00052425\n",
      " 0.00051578 0.0005104  0.00049054 0.00046681 0.00045311 0.00043361\n",
      " 0.00042076 0.00041315 0.00040744 0.0004027  0.00039191 0.00038125\n",
      " 0.00037791 0.00035883 0.00035804 0.00034526 0.00033974 0.00033681\n",
      " 0.00033229 0.0003277  0.00032257 0.00032039 0.0003173  0.00031508\n",
      " 0.00031068 0.00030826 0.00030507 0.00030188 0.00029732 0.00029596\n",
      " 0.00029277 0.00029024 0.00028981 0.00028723 0.00028607 0.00028367\n",
      " 0.00027847 0.00027756 0.00027596 0.00027334 0.00027042 0.00027031\n",
      " 0.0002692  0.00026673 0.00026634 0.00026447 0.00026356 0.00026262\n",
      " 0.0002617  0.00025925 0.00025831 0.0002579  0.00025743 0.00025703\n",
      " 0.00025549 0.00025481 0.00025388 0.00025357 0.00025271 0.00025241\n",
      " 0.00025104 0.00025044 0.00024969 0.00024887 0.00024822 0.00024774\n",
      " 0.00024665 0.00024629 0.00024595 0.00024547 0.00024493 0.00024402\n",
      " 0.00024385 0.00024333 0.00024295 0.00024265 0.00024244 0.00024181\n",
      " 0.00024127 0.00024049 0.00024046 0.00024026 0.0002401  0.00023977\n",
      " 0.00023936 0.00023907 0.00023888 0.00023841 0.00023834 0.0002378\n",
      " 0.00023765 0.00023704 0.0002369  0.00023647 0.00023623 0.00023584\n",
      " 0.00023567 0.00023547 0.0002348  0.00023437 0.00023418 0.0002341\n",
      " 0.00023373 0.00023359 0.00023295 0.0002327  0.00023247 0.00023215\n",
      " 0.00023197 0.00023176 0.00023148 0.00023125 0.00023097 0.00023065\n",
      " 0.00023044 0.00023008 0.00022986 0.00022964 0.00022934 0.0002292\n",
      " 0.00022898 0.00022896 0.00022848 0.00022796 0.00022766 0.00022736\n",
      " 0.000227   0.00022687 0.00022644 0.00022624 0.00022596 0.00022584\n",
      " 0.00022563 0.00022528 0.0002247  0.0002246  0.00022406 0.00022395\n",
      " 0.00022371 0.00022338 0.00022317 0.000223   0.00022272 0.0002225\n",
      " 0.00022229 0.00022202 0.00022174 0.00022142 0.00022139 0.00022098\n",
      " 0.00022076 0.00022052 0.00022018 0.00021993 0.00021952 0.00021946\n",
      " 0.00021933 0.00021904 0.00021857 0.00021848 0.00021827 0.00021794\n",
      " 0.00021776 0.00021715 0.00021698 0.00021673 0.00021636 0.00021616\n",
      " 0.0002157  0.00021564 0.00021482 0.00021457 0.00021437 0.00021432\n",
      " 0.00021351 0.00021322 0.00021303 0.00021257 0.00021213 0.00021183\n",
      " 0.00021161 0.00021147 0.00021098 0.00021068 0.00021011 0.00020979\n",
      " 0.00020953 0.00020926 0.00020885 0.00020872 0.00020832 0.00020787\n",
      " 0.00020755 0.00020705]\n",
      "CPU times: user 2min 30s, sys: 15 s, total: 2min 45s\n",
      "Wall time: 58.9 s\n"
     ]
    }
   ],
   "source": [
    "%%time\n",
    "\n",
    "## PCA\n",
    "\n",
    "# Normalize the data for PCA\n",
    "\n",
    "X = StandardScaler().fit_transform(x)\n",
    "\n",
    "# Perform PCA\n",
    "\n",
    "sklearn_pca = PCA(n_components=200)\n",
    "Y_sklearn = sklearn_pca.fit_transform(X)\n",
    "\n",
    "# Turn PCA Result into Dataframe\n",
    "\n",
    "pca_components = pd.DataFrame(data=Y_sklearn)\n",
    "\n",
    "print(\n",
    "    'The percentage of total variance in the dataset explained by each',\n",
    "    'component from Sklearn PCA.\\n',\n",
    "    sklearn_pca.explained_variance_ratio_\n",
    ")\n"
   ]
  },
  {
   "cell_type": "code",
   "execution_count": 23,
   "metadata": {},
   "outputs": [
    {
     "name": "stdout",
     "output_type": "stream",
     "text": [
      "CPU times: user 997 ms, sys: 269 ms, total: 1.27 s\n",
      "Wall time: 1.29 s\n"
     ]
    }
   ],
   "source": [
    "%%time\n",
    "\n",
    "## Train Test Split Original Variables And K Selected Variables for Modeling\n",
    "\n",
    "x_train, x_test, y_train, y_test = train_test_split(x, y, test_size=0.2, random_state=20)\n",
    "\n",
    "kx_train, kx_test, ky_train, ky_test = train_test_split(k_predictors, y, test_size=0.2, random_state=21)\n",
    "\n",
    "px_train, px_test, py_train, py_test = train_test_split(pca_components, y, test_size=0.2, random_state=21)"
   ]
  },
  {
   "cell_type": "markdown",
   "metadata": {},
   "source": [
    "The x and y variables represent the variables to be used for modeling that reflect the full features of the data. The kx and ky variables represent the variables to be used for modeling that reflect features chosen by selectKbest. The px and py variables represent the variables to be used for modeling that reflect PCA components of the initial features. "
   ]
  },
  {
   "cell_type": "markdown",
   "metadata": {},
   "source": [
    "## Modeling the Data\n",
    "\n",
    "The three sets of variables were modeled using the following techniques: \n",
    "Naive Bayes,\n",
    "K Nearest Neighbors,\n",
    "Decision Trees,\n",
    "Random Forest,\n",
    "Logistic Regression (and Lasso and Ridge),\n",
    "Support Vector Classifier,\n",
    "Gradient Boost,\n",
    "Each model was evaluated using accuracy score, cross validation, cross validated AUC, a confusion matrix, and a classification report."
   ]
  },
  {
   "cell_type": "markdown",
   "metadata": {},
   "source": [
    "### Naive Bayes\n",
    "\n"
   ]
  },
  {
   "cell_type": "code",
   "execution_count": 24,
   "metadata": {},
   "outputs": [
    {
     "name": "stdout",
     "output_type": "stream",
     "text": [
      "CPU times: user 13.6 s, sys: 1.97 s, total: 15.5 s\n",
      "Wall time: 14.7 s\n"
     ]
    }
   ],
   "source": [
    "%%time\n",
    "\n",
    "## train and fit model\n",
    "\n",
    "bnb = BernoulliNB().fit(x_train, y_train)\n"
   ]
  },
  {
   "cell_type": "code",
   "execution_count": 25,
   "metadata": {},
   "outputs": [
    {
     "name": "stdout",
     "output_type": "stream",
     "text": [
      "accuracy score:\n",
      "0.8351\n",
      "\n",
      "cross validation:\n",
      "[0.82208896 0.83658171 0.851      0.84342171 0.83191596]\n",
      "\n",
      "cross validation with AUC:\n",
      "[0.87421727 0.8841865  0.89342929 0.89295481 0.88108871]\n",
      "\n",
      "confusion matrix:\n",
      "[[3750 1228]\n",
      " [ 421 4601]]\n",
      "\n",
      "              precision    recall  f1-score   support\n",
      "\n",
      "         0.0       0.90      0.75      0.82      4978\n",
      "         1.0       0.79      0.92      0.85      5022\n",
      "\n",
      "   micro avg       0.84      0.84      0.84     10000\n",
      "   macro avg       0.84      0.83      0.83     10000\n",
      "weighted avg       0.84      0.84      0.83     10000\n",
      "\n",
      "CPU times: user 43 s, sys: 8.54 s, total: 51.6 s\n",
      "Wall time: 42.4 s\n"
     ]
    }
   ],
   "source": [
    "%%time\n",
    "\n",
    "## Model Evaluation\n",
    "\n",
    "print(\"accuracy score:\\n\" + str(bnb.score(x_test, y_test))+'\\n')\n",
    "\n",
    "print(\"cross validation:\\n\" + str(cross_val_score(bnb, x_test, y_test, cv=5))+'\\n')\n",
    "\n",
    "print(\"cross validation with AUC:\\n\" + str(cross_val_score(bnb, x_test, y_test, cv=5, scoring='roc_auc'))+'\\n')\n",
    "\n",
    "print(\"confusion matrix:\\n\" + str(confusion_matrix(y_test, bnb.predict(x_test)))+'\\n')\n",
    "\n",
    "print(classification_report(y_test, bnb.predict(x_test)))\n"
   ]
  },
  {
   "cell_type": "code",
   "execution_count": 26,
   "metadata": {},
   "outputs": [
    {
     "name": "stdout",
     "output_type": "stream",
     "text": [
      "CPU times: user 126 ms, sys: 53.2 ms, total: 179 ms\n",
      "Wall time: 119 ms\n"
     ]
    }
   ],
   "source": [
    "%%time\n",
    "\n",
    "## train and fit model\n",
    "\n",
    "k_bnb = BernoulliNB().fit(kx_train, ky_train)\n"
   ]
  },
  {
   "cell_type": "code",
   "execution_count": 27,
   "metadata": {},
   "outputs": [
    {
     "name": "stdout",
     "output_type": "stream",
     "text": [
      "accuracy score:\n",
      "0.849\n",
      "\n",
      "cross validation:\n",
      "[0.857  0.8465 0.85   0.8325 0.844 ]\n",
      "\n",
      "cross validation with AUC:\n",
      "[0.9002974  0.8993524  0.8952779  0.88871789 0.9002769 ]\n",
      "\n",
      "confusion matrix:\n",
      "[[3826 1169]\n",
      " [ 341 4664]]\n",
      "\n",
      "              precision    recall  f1-score   support\n",
      "\n",
      "         0.0       0.92      0.77      0.84      4995\n",
      "         1.0       0.80      0.93      0.86      5005\n",
      "\n",
      "   micro avg       0.85      0.85      0.85     10000\n",
      "   macro avg       0.86      0.85      0.85     10000\n",
      "weighted avg       0.86      0.85      0.85     10000\n",
      "\n",
      "CPU times: user 991 ms, sys: 245 ms, total: 1.24 s\n",
      "Wall time: 333 ms\n"
     ]
    }
   ],
   "source": [
    "%%time\n",
    "\n",
    "## Model Evaluation\n",
    "\n",
    "print(\"accuracy score:\\n\" + str(k_bnb.score(kx_test, ky_test))+'\\n')\n",
    "\n",
    "print(\"cross validation:\\n\" + str(cross_val_score(k_bnb, kx_test, ky_test, cv=5))+'\\n')\n",
    "\n",
    "print(\"cross validation with AUC:\\n\" + str(cross_val_score(k_bnb, kx_test, ky_test, cv=5, scoring='roc_auc'))+'\\n')\n",
    "\n",
    "print(\"confusion matrix:\\n\" + str(confusion_matrix(ky_test, k_bnb.predict(kx_test)))+'\\n')\n",
    "\n",
    "print(classification_report(ky_test, k_bnb.predict(kx_test)))\n"
   ]
  },
  {
   "cell_type": "code",
   "execution_count": 28,
   "metadata": {},
   "outputs": [
    {
     "name": "stdout",
     "output_type": "stream",
     "text": [
      "CPU times: user 209 ms, sys: 37.4 ms, total: 247 ms\n",
      "Wall time: 217 ms\n"
     ]
    }
   ],
   "source": [
    "%%time\n",
    "\n",
    "## train and fit model\n",
    "\n",
    "p_bnb = BernoulliNB().fit(px_train, py_train)\n"
   ]
  },
  {
   "cell_type": "code",
   "execution_count": 29,
   "metadata": {
    "scrolled": false
   },
   "outputs": [
    {
     "name": "stdout",
     "output_type": "stream",
     "text": [
      "accuracy score:\n",
      "0.7512\n",
      "\n",
      "cross validation:\n",
      "[0.774  0.7515 0.744  0.735  0.7505]\n",
      "\n",
      "cross validation with AUC:\n",
      "[0.84849885 0.82750383 0.82579183 0.81910082 0.83048483]\n",
      "\n",
      "confusion matrix:\n",
      "[[3861 1134]\n",
      " [1354 3651]]\n",
      "\n",
      "              precision    recall  f1-score   support\n",
      "\n",
      "         0.0       0.74      0.77      0.76      4995\n",
      "         1.0       0.76      0.73      0.75      5005\n",
      "\n",
      "   micro avg       0.75      0.75      0.75     10000\n",
      "   macro avg       0.75      0.75      0.75     10000\n",
      "weighted avg       0.75      0.75      0.75     10000\n",
      "\n",
      "CPU times: user 2.15 s, sys: 470 ms, total: 2.62 s\n",
      "Wall time: 704 ms\n"
     ]
    }
   ],
   "source": [
    "%%time\n",
    "## Model Evaluation\n",
    "\n",
    "print(\"accuracy score:\\n\" + str(p_bnb.score(px_test, py_test))+'\\n')\n",
    "\n",
    "print(\"cross validation:\\n\" + str(cross_val_score(p_bnb, px_test, py_test, cv=5))+'\\n')\n",
    "\n",
    "print(\"cross validation with AUC:\\n\" + str(cross_val_score(p_bnb, px_test, py_test, cv=5, scoring='roc_auc'))+'\\n')\n",
    "\n",
    "print(\"confusion matrix:\\n\" + str(confusion_matrix(py_test, p_bnb.predict(px_test)))+'\\n')\n",
    "\n",
    "print(classification_report(py_test, p_bnb.predict(px_test)))\n"
   ]
  },
  {
   "cell_type": "markdown",
   "metadata": {},
   "source": [
    "Naive Bayes had relatively low accuracy compared to most of the other models.\n",
    "The model that used the selectKbest variables had the best performance of the naive bayes models.\n",
    "The cross validation showed, that overfitting was not greatly present with this model. \n",
    "The model was better at predicting the negative class (not late).\n",
    "The model likely had more trouble getting accurate predictions from the data because it assumes that the variables are independent from eachother (which isn't true when it comes to this data). \n",
    "However, the naive bayes model that used PCA components had worse performance. \n",
    "Despite the fact that PCA components are inherently independent, the lack of predictive value of the independent components compared to the 200 best features likely attributed to this drop in performance.\n"
   ]
  },
  {
   "cell_type": "markdown",
   "metadata": {},
   "source": [
    "### K Nearest Neighbors \n",
    "\n"
   ]
  },
  {
   "cell_type": "code",
   "execution_count": 30,
   "metadata": {},
   "outputs": [
    {
     "name": "stdout",
     "output_type": "stream",
     "text": [
      "CPU times: user 37.5 s, sys: 2.75 s, total: 40.3 s\n",
      "Wall time: 41.5 s\n"
     ]
    }
   ],
   "source": [
    "%%time\n",
    "\n",
    "## train and fit model\n",
    "\n",
    "knn = neighbors.KNeighborsClassifier(n_neighbors=10).fit(x_train, y_train)\n"
   ]
  },
  {
   "cell_type": "code",
   "execution_count": 31,
   "metadata": {},
   "outputs": [
    {
     "name": "stdout",
     "output_type": "stream",
     "text": [
      "accuracy score:\n",
      "0.9461\n",
      "\n",
      "cross validation:\n",
      "[0.92603698 0.94352824 0.939      0.93996998 0.94147074]\n",
      "\n",
      "cross validation with AUC:\n",
      "[0.967343   0.97845312 0.97541111 0.97350498 0.97453953]\n",
      "\n",
      "confusion matrix:\n",
      "[[4791  187]\n",
      " [ 352 4670]]\n",
      "\n",
      "              precision    recall  f1-score   support\n",
      "\n",
      "         0.0       0.93      0.96      0.95      4978\n",
      "         1.0       0.96      0.93      0.95      5022\n",
      "\n",
      "   micro avg       0.95      0.95      0.95     10000\n",
      "   macro avg       0.95      0.95      0.95     10000\n",
      "weighted avg       0.95      0.95      0.95     10000\n",
      "\n",
      "CPU times: user 5min 23s, sys: 9.38 s, total: 5min 32s\n",
      "Wall time: 5min 37s\n"
     ]
    }
   ],
   "source": [
    "%%time\n",
    "\n",
    "## Model Evaluation\n",
    "\n",
    "print(\"accuracy score:\\n\" + str(knn.score(x_test, y_test))+'\\n')\n",
    "\n",
    "print(\"cross validation:\\n\" + str(cross_val_score(knn, x_test, y_test, cv=5))+'\\n')\n",
    "\n",
    "print(\"cross validation with AUC:\\n\" + str(cross_val_score(knn, x_test, y_test, cv=5, scoring='roc_auc'))+'\\n')\n",
    "\n",
    "print(\"confusion matrix:\\n\" + str(confusion_matrix(y_test, knn.predict(x_test)))+'\\n')\n",
    "\n",
    "print(classification_report(y_test, knn.predict(x_test)))\n"
   ]
  },
  {
   "cell_type": "code",
   "execution_count": 32,
   "metadata": {},
   "outputs": [
    {
     "name": "stdout",
     "output_type": "stream",
     "text": [
      "CPU times: user 660 ms, sys: 89.2 ms, total: 749 ms\n",
      "Wall time: 804 ms\n"
     ]
    }
   ],
   "source": [
    "%%time\n",
    "\n",
    "## train and fit model\n",
    "\n",
    "k_knn = neighbors.KNeighborsClassifier(n_neighbors=10).fit(kx_train, ky_train)\n"
   ]
  },
  {
   "cell_type": "code",
   "execution_count": 33,
   "metadata": {},
   "outputs": [
    {
     "name": "stdout",
     "output_type": "stream",
     "text": [
      "accuracy score:\n",
      "0.9451\n",
      "\n",
      "cross validation:\n",
      "[0.941  0.9395 0.9375 0.9365 0.936 ]\n",
      "\n",
      "cross validation with AUC:\n",
      "[0.97285947 0.97167847 0.97256847 0.96865197 0.97905148]\n",
      "\n",
      "confusion matrix:\n",
      "[[4786  209]\n",
      " [ 340 4665]]\n",
      "\n",
      "              precision    recall  f1-score   support\n",
      "\n",
      "         0.0       0.93      0.96      0.95      4995\n",
      "         1.0       0.96      0.93      0.94      5005\n",
      "\n",
      "   micro avg       0.95      0.95      0.95     10000\n",
      "   macro avg       0.95      0.95      0.95     10000\n",
      "weighted avg       0.95      0.95      0.95     10000\n",
      "\n",
      "CPU times: user 13.2 s, sys: 126 ms, total: 13.3 s\n",
      "Wall time: 13.4 s\n"
     ]
    }
   ],
   "source": [
    "%%time\n",
    "\n",
    "## Model Evaluation\n",
    "\n",
    "print(\"accuracy score:\\n\" + str(k_knn.score(kx_test, ky_test))+'\\n')\n",
    "\n",
    "print(\"cross validation:\\n\" + str(cross_val_score(k_knn, kx_test, ky_test, cv=5))+'\\n')\n",
    "\n",
    "print(\"cross validation with AUC:\\n\" + str(cross_val_score(k_knn, kx_test, ky_test, cv=5, scoring='roc_auc'))+'\\n')\n",
    "\n",
    "print(\"confusion matrix:\\n\" + str(confusion_matrix(ky_test, k_knn.predict(kx_test)))+'\\n')\n",
    "\n",
    "print(classification_report(ky_test, k_knn.predict(kx_test)))\n"
   ]
  },
  {
   "cell_type": "code",
   "execution_count": 34,
   "metadata": {
    "scrolled": true
   },
   "outputs": [
    {
     "name": "stdout",
     "output_type": "stream",
     "text": [
      "CPU times: user 782 ms, sys: 187 ms, total: 968 ms\n",
      "Wall time: 1.09 s\n"
     ]
    }
   ],
   "source": [
    "%%time\n",
    "\n",
    "## train and fit model\n",
    "\n",
    "p_knn = neighbors.KNeighborsClassifier(n_neighbors=10).fit(px_train, py_train)\n"
   ]
  },
  {
   "cell_type": "code",
   "execution_count": 35,
   "metadata": {
    "scrolled": false
   },
   "outputs": [
    {
     "name": "stdout",
     "output_type": "stream",
     "text": [
      "accuracy score:\n",
      "0.5941\n",
      "\n",
      "cross validation:\n",
      "[0.6165 0.611  0.6125 0.6205 0.6065]\n",
      "\n",
      "cross validation with AUC:\n",
      "[0.65741416 0.64748815 0.65490165 0.65802816 0.65480465]\n",
      "\n",
      "confusion matrix:\n",
      "[[3570 1425]\n",
      " [2634 2371]]\n",
      "\n",
      "              precision    recall  f1-score   support\n",
      "\n",
      "         0.0       0.58      0.71      0.64      4995\n",
      "         1.0       0.62      0.47      0.54      5005\n",
      "\n",
      "   micro avg       0.59      0.59      0.59     10000\n",
      "   macro avg       0.60      0.59      0.59     10000\n",
      "weighted avg       0.60      0.59      0.59     10000\n",
      "\n",
      "CPU times: user 8min 52s, sys: 3.07 s, total: 8min 56s\n",
      "Wall time: 9min\n"
     ]
    }
   ],
   "source": [
    "%%time\n",
    "\n",
    "## Model Evaluation\n",
    "\n",
    "print(\"accuracy score:\\n\" + str(p_knn.score(px_test, py_test))+'\\n')\n",
    "\n",
    "print(\"cross validation:\\n\" + str(cross_val_score(p_knn, px_test, py_test, cv=5))+'\\n')\n",
    "\n",
    "print(\"cross validation with AUC:\\n\" + str(cross_val_score(p_knn, px_test, py_test, cv=5, scoring='roc_auc'))+'\\n')\n",
    "\n",
    "print(\"confusion matrix:\\n\" + str(confusion_matrix(py_test, p_knn.predict(px_test)))+'\\n')\n",
    "\n",
    "print(classification_report(py_test, p_knn.predict(px_test)))\n"
   ]
  },
  {
   "cell_type": "markdown",
   "metadata": {},
   "source": [
    "KNN had relatively high performance in this study.\n",
    "For all versions of this model, the number of false negatives was greater.\n",
    "The model that used the selectKbest variables had the best performance of the knn models. \n",
    "The cross validation showed that overfitting was not greatly present with this model. \n",
    "The model was better at predicting the positive class. \n",
    "The model benefits from being able to rely on data where the outcome class can be linked to clustering of datapoints (e.g. at a certain range of delay values the likelihood of LateArr being 1 could significantly increase)\n",
    "The knn model that used PCA components had significantly low performance. This was likely due to the lack of individual predictive value of the individual PCA components.\n"
   ]
  },
  {
   "cell_type": "markdown",
   "metadata": {},
   "source": [
    "### Decision Tree\n",
    "\n"
   ]
  },
  {
   "cell_type": "code",
   "execution_count": 36,
   "metadata": {},
   "outputs": [
    {
     "name": "stdout",
     "output_type": "stream",
     "text": [
      "CPU times: user 1.61 s, sys: 2.43 s, total: 4.03 s\n",
      "Wall time: 4.84 s\n"
     ]
    }
   ],
   "source": [
    "%%time\n",
    "\n",
    "## train and fit model\n",
    "\n",
    "decision_tree = tree.DecisionTreeClassifier(\n",
    "    criterion='entropy',\n",
    "    max_features=6,\n",
    "    max_depth=25,\n",
    "    ).fit(x_train, y_train)\n",
    "\n"
   ]
  },
  {
   "cell_type": "code",
   "execution_count": 37,
   "metadata": {},
   "outputs": [
    {
     "name": "stdout",
     "output_type": "stream",
     "text": [
      "accuracy score:\n",
      "0.506\n",
      "\n",
      "cross validation:\n",
      "[0.50374813 0.56121939 0.5045     0.50275138 0.52676338]\n",
      "\n",
      "cross validation with AUC:\n",
      "[0.5043917  0.5038752  0.5065186  0.50050652 0.4980425 ]\n",
      "\n",
      "confusion matrix:\n",
      "[[4711  267]\n",
      " [4673  349]]\n",
      "\n",
      "              precision    recall  f1-score   support\n",
      "\n",
      "         0.0       0.50      0.95      0.66      4978\n",
      "         1.0       0.57      0.07      0.12      5022\n",
      "\n",
      "   micro avg       0.51      0.51      0.51     10000\n",
      "   macro avg       0.53      0.51      0.39     10000\n",
      "weighted avg       0.53      0.51      0.39     10000\n",
      "\n",
      "CPU times: user 5.63 s, sys: 4.31 s, total: 9.94 s\n",
      "Wall time: 10.4 s\n"
     ]
    }
   ],
   "source": [
    "%%time\n",
    "\n",
    "## Model Evaluation\n",
    "\n",
    "print(\"accuracy score:\\n\" + str(decision_tree.score(x_test, y_test))+'\\n')\n",
    "\n",
    "print(\"cross validation:\\n\" + str(cross_val_score(decision_tree, x_test, y_test, cv=5))+'\\n')\n",
    "\n",
    "print(\"cross validation with AUC:\\n\" + str(cross_val_score(decision_tree, x_test, y_test, cv=5, scoring='roc_auc'))+'\\n')\n",
    "\n",
    "print(\"confusion matrix:\\n\" + str(confusion_matrix(y_test, decision_tree.predict(x_test)))+'\\n')\n",
    "\n",
    "print(classification_report(y_test, decision_tree.predict(x_test)))\n"
   ]
  },
  {
   "cell_type": "code",
   "execution_count": 38,
   "metadata": {},
   "outputs": [
    {
     "name": "stdout",
     "output_type": "stream",
     "text": [
      "CPU times: user 140 ms, sys: 69.1 ms, total: 209 ms\n",
      "Wall time: 209 ms\n"
     ]
    }
   ],
   "source": [
    "%%time\n",
    "\n",
    "## train and fit model\n",
    "\n",
    "k_decision_tree = tree.DecisionTreeClassifier(\n",
    "    criterion='entropy',\n",
    "    max_features=6,\n",
    "    max_depth=25,\n",
    "    ).fit(kx_train, ky_train)\n"
   ]
  },
  {
   "cell_type": "code",
   "execution_count": 39,
   "metadata": {
    "scrolled": false
   },
   "outputs": [
    {
     "name": "stdout",
     "output_type": "stream",
     "text": [
      "accuracy score:\n",
      "0.7412\n",
      "\n",
      "cross validation:\n",
      "[0.9035 0.9135 0.754  0.7625 0.951 ]\n",
      "\n",
      "cross validation with AUC:\n",
      "[0.95167245 0.90576591 0.85443735 0.9003174  0.88612139]\n",
      "\n",
      "confusion matrix:\n",
      "[[4051  944]\n",
      " [1644 3361]]\n",
      "\n",
      "              precision    recall  f1-score   support\n",
      "\n",
      "         0.0       0.71      0.81      0.76      4995\n",
      "         1.0       0.78      0.67      0.72      5005\n",
      "\n",
      "   micro avg       0.74      0.74      0.74     10000\n",
      "   macro avg       0.75      0.74      0.74     10000\n",
      "weighted avg       0.75      0.74      0.74     10000\n",
      "\n",
      "CPU times: user 258 ms, sys: 43.6 ms, total: 301 ms\n",
      "Wall time: 305 ms\n"
     ]
    }
   ],
   "source": [
    "%%time\n",
    "\n",
    "## Model Evaluation\n",
    "\n",
    "print(\"accuracy score:\\n\" + str(k_decision_tree.score(kx_test, ky_test))+'\\n')\n",
    "\n",
    "print(\"cross validation:\\n\" + str(cross_val_score(k_decision_tree, kx_test, ky_test, cv=5))+'\\n')\n",
    "\n",
    "print(\"cross validation with AUC:\\n\" + str(cross_val_score(k_decision_tree, kx_test, ky_test, cv=5, scoring='roc_auc'))+'\\n')\n",
    "\n",
    "print(\"confusion matrix:\\n\" + str(confusion_matrix(ky_test, k_decision_tree.predict(kx_test)))+'\\n')\n",
    "\n",
    "print(classification_report(ky_test, k_decision_tree.predict(kx_test)))\n"
   ]
  },
  {
   "cell_type": "code",
   "execution_count": 40,
   "metadata": {},
   "outputs": [
    {
     "name": "stdout",
     "output_type": "stream",
     "text": [
      "CPU times: user 718 ms, sys: 74.7 ms, total: 793 ms\n",
      "Wall time: 798 ms\n"
     ]
    }
   ],
   "source": [
    "%%time\n",
    "\n",
    "## train and fit model\n",
    "\n",
    "p_decision_tree = tree.DecisionTreeClassifier(\n",
    "    criterion='entropy',\n",
    "    max_features=6,\n",
    "    max_depth=25,\n",
    "    ).fit(px_train, py_train)\n"
   ]
  },
  {
   "cell_type": "code",
   "execution_count": 41,
   "metadata": {
    "scrolled": false
   },
   "outputs": [
    {
     "name": "stdout",
     "output_type": "stream",
     "text": [
      "accuracy score:\n",
      "0.6864\n",
      "\n",
      "cross validation:\n",
      "[0.6205 0.617  0.6245 0.661  0.648 ]\n",
      "\n",
      "cross validation with AUC:\n",
      "[0.62540763 0.62782463 0.62216862 0.60964811 0.61280911]\n",
      "\n",
      "confusion matrix:\n",
      "[[3433 1562]\n",
      " [1574 3431]]\n",
      "\n",
      "              precision    recall  f1-score   support\n",
      "\n",
      "         0.0       0.69      0.69      0.69      4995\n",
      "         1.0       0.69      0.69      0.69      5005\n",
      "\n",
      "   micro avg       0.69      0.69      0.69     10000\n",
      "   macro avg       0.69      0.69      0.69     10000\n",
      "weighted avg       0.69      0.69      0.69     10000\n",
      "\n",
      "CPU times: user 1.23 s, sys: 32.8 ms, total: 1.26 s\n",
      "Wall time: 1.27 s\n"
     ]
    }
   ],
   "source": [
    "%%time\n",
    "\n",
    "## Model Evaluation\n",
    "\n",
    "print(\"accuracy score:\\n\" + str(p_decision_tree.score(px_test, py_test))+'\\n')\n",
    "\n",
    "print(\"cross validation:\\n\" + str(cross_val_score(p_decision_tree, px_test, py_test, cv=5))+'\\n')\n",
    "\n",
    "print(\"cross validation with AUC:\\n\" + str(cross_val_score(p_decision_tree, px_test, py_test, cv=5, scoring='roc_auc'))+'\\n')\n",
    "\n",
    "print(\"confusion matrix:\\n\" + str(confusion_matrix(py_test, p_decision_tree.predict(px_test)))+'\\n')\n",
    "\n",
    "print(classification_report(py_test, p_decision_tree.predict(px_test)))\n",
    "\n"
   ]
  },
  {
   "cell_type": "markdown",
   "metadata": {},
   "source": [
    "The decision tree had the worst performance out of all of the model types in this study.\n",
    "The model that used the selectKbest variables had the best performance of the decision tree models. \n",
    "Even with this model there were strong signs of overfitting. \n",
    "The model was better at predicting the positive class. \n",
    "The model's reliance on binary divisions likely hurt its ability to capture nuance within the data.\n",
    "This was likely to be especially true for the model that used PCA components since the lack of variation in the best PCA components compared to the features chosen by selectKbest likely resulted in more uneven splitting of the datapoints at each node. \n"
   ]
  },
  {
   "cell_type": "markdown",
   "metadata": {},
   "source": [
    "### Random Forest\n",
    "\n"
   ]
  },
  {
   "cell_type": "code",
   "execution_count": 42,
   "metadata": {
    "scrolled": false
   },
   "outputs": [
    {
     "name": "stdout",
     "output_type": "stream",
     "text": [
      "CPU times: user 4.5 s, sys: 1.99 s, total: 6.49 s\n",
      "Wall time: 7.06 s\n"
     ]
    }
   ],
   "source": [
    "%%time\n",
    "\n",
    "## Fit and Train Model\n",
    "\n",
    "rfc = ensemble.RandomForestClassifier(\n",
    "    criterion='entropy',\n",
    "    max_features=15,\n",
    "    max_depth=100,\n",
    "    ).fit(x_train, y_train)\n",
    "\n"
   ]
  },
  {
   "cell_type": "code",
   "execution_count": 43,
   "metadata": {},
   "outputs": [
    {
     "name": "stdout",
     "output_type": "stream",
     "text": [
      "accuracy score:\n",
      "0.9227\n",
      "\n",
      "cross validation:\n",
      "[0.90554723 0.91904048 0.942      0.91345673 0.90245123]\n",
      "\n",
      "cross validation with AUC:\n",
      "[0.95003247 0.97185958 0.96811499 0.96109482 0.97142886]\n",
      "\n",
      "confusion matrix:\n",
      "[[4704  274]\n",
      " [ 499 4523]]\n",
      "\n",
      "              precision    recall  f1-score   support\n",
      "\n",
      "         0.0       0.90      0.94      0.92      4978\n",
      "         1.0       0.94      0.90      0.92      5022\n",
      "\n",
      "   micro avg       0.92      0.92      0.92     10000\n",
      "   macro avg       0.92      0.92      0.92     10000\n",
      "weighted avg       0.92      0.92      0.92     10000\n",
      "\n",
      "CPU times: user 9.56 s, sys: 3.85 s, total: 13.4 s\n",
      "Wall time: 13.5 s\n"
     ]
    }
   ],
   "source": [
    "%%time\n",
    "\n",
    "## Model Evaluation\n",
    "\n",
    "print(\"accuracy score:\\n\" + str(rfc.score(x_test, y_test))+'\\n')\n",
    "\n",
    "print(\"cross validation:\\n\" + str(cross_val_score(rfc, x_test, y_test, cv=5))+'\\n')\n",
    "\n",
    "print(\"cross validation with AUC:\\n\" + str(cross_val_score(rfc, x_test, y_test, cv=5, scoring='roc_auc'))+'\\n')\n",
    "\n",
    "print(\"confusion matrix:\\n\" + str(confusion_matrix(y_test, rfc.predict(x_test)))+'\\n')\n",
    "\n",
    "print(classification_report(y_test, rfc.predict(x_test)))\n"
   ]
  },
  {
   "cell_type": "code",
   "execution_count": 44,
   "metadata": {},
   "outputs": [
    {
     "name": "stdout",
     "output_type": "stream",
     "text": [
      "CPU times: user 968 ms, sys: 19.5 ms, total: 987 ms\n",
      "Wall time: 990 ms\n"
     ]
    }
   ],
   "source": [
    "%%time\n",
    "\n",
    "## Fit and Train Model\n",
    "\n",
    "k_rfc = ensemble.RandomForestClassifier(\n",
    "    criterion='entropy',\n",
    "    max_features=15,\n",
    "    max_depth=100,\n",
    "    ).fit(kx_train, ky_train)\n",
    "\n"
   ]
  },
  {
   "cell_type": "code",
   "execution_count": 45,
   "metadata": {},
   "outputs": [
    {
     "name": "stdout",
     "output_type": "stream",
     "text": [
      "accuracy score:\n",
      "0.9653\n",
      "\n",
      "cross validation:\n",
      "[0.9655 0.9605 0.9625 0.9545 0.9605]\n",
      "\n",
      "cross validation with AUC:\n",
      "[0.98464348 0.97937948 0.98145348 0.97741498 0.98571649]\n",
      "\n",
      "confusion matrix:\n",
      "[[4880  115]\n",
      " [ 232 4773]]\n",
      "\n",
      "              precision    recall  f1-score   support\n",
      "\n",
      "         0.0       0.95      0.98      0.97      4995\n",
      "         1.0       0.98      0.95      0.96      5005\n",
      "\n",
      "   micro avg       0.97      0.97      0.97     10000\n",
      "   macro avg       0.97      0.97      0.97     10000\n",
      "weighted avg       0.97      0.97      0.97     10000\n",
      "\n",
      "CPU times: user 1.37 s, sys: 69.5 ms, total: 1.44 s\n",
      "Wall time: 1.46 s\n"
     ]
    }
   ],
   "source": [
    "%%time\n",
    "\n",
    "## Model Evaluation\n",
    "\n",
    "print(\"accuracy score:\\n\" + str(k_rfc.score(kx_test, ky_test))+'\\n')\n",
    "\n",
    "print(\"cross validation:\\n\" + str(cross_val_score(k_rfc, kx_test, ky_test, cv=5))+'\\n')\n",
    "\n",
    "print(\"cross validation with AUC:\\n\" + str(cross_val_score(k_rfc, kx_test, ky_test, cv=5, scoring='roc_auc'))+'\\n')\n",
    "\n",
    "print(\"confusion matrix:\\n\" + str(confusion_matrix(ky_test, k_rfc.predict(kx_test)))+'\\n')\n",
    "\n",
    "print(classification_report(ky_test, k_rfc.predict(kx_test)))\n"
   ]
  },
  {
   "cell_type": "code",
   "execution_count": 46,
   "metadata": {},
   "outputs": [
    {
     "name": "stdout",
     "output_type": "stream",
     "text": [
      "CPU times: user 8.7 s, sys: 49.4 ms, total: 8.75 s\n",
      "Wall time: 8.79 s\n"
     ]
    }
   ],
   "source": [
    "%%time\n",
    "\n",
    "## Fit and Train Model\n",
    "\n",
    "p_rfc = ensemble.RandomForestClassifier(\n",
    "    criterion='entropy',\n",
    "    max_features=15,\n",
    "    max_depth=100,\n",
    "    ).fit(px_train, py_train)\n"
   ]
  },
  {
   "cell_type": "code",
   "execution_count": 47,
   "metadata": {
    "scrolled": false
   },
   "outputs": [
    {
     "name": "stdout",
     "output_type": "stream",
     "text": [
      "accuracy score:\n",
      "0.8233\n",
      "\n",
      "cross validation:\n",
      "[0.7755 0.7605 0.7805 0.782  0.787 ]\n",
      "\n",
      "cross validation with AUC:\n",
      "[0.85594836 0.86115436 0.84520785 0.85768936 0.85834636]\n",
      "\n",
      "confusion matrix:\n",
      "[[4420  575]\n",
      " [1192 3813]]\n",
      "\n",
      "              precision    recall  f1-score   support\n",
      "\n",
      "         0.0       0.79      0.88      0.83      4995\n",
      "         1.0       0.87      0.76      0.81      5005\n",
      "\n",
      "   micro avg       0.82      0.82      0.82     10000\n",
      "   macro avg       0.83      0.82      0.82     10000\n",
      "weighted avg       0.83      0.82      0.82     10000\n",
      "\n",
      "CPU times: user 13.7 s, sys: 152 ms, total: 13.8 s\n",
      "Wall time: 13.9 s\n"
     ]
    }
   ],
   "source": [
    "%%time\n",
    "\n",
    "## Model Evaluation\n",
    "\n",
    "print(\"accuracy score:\\n\" + str(p_rfc.score(px_test, py_test))+'\\n')\n",
    "\n",
    "print(\"cross validation:\\n\" + str(cross_val_score(p_rfc, px_test, py_test, cv=5))+'\\n')\n",
    "\n",
    "print(\"cross validation with AUC:\\n\" + str(cross_val_score(p_rfc, px_test, py_test, cv=5, scoring='roc_auc'))+'\\n')\n",
    "\n",
    "print(\"confusion matrix:\\n\" + str(confusion_matrix(py_test, p_rfc.predict(px_test)))+'\\n')\n",
    "\n",
    "print(classification_report(py_test, p_rfc.predict(px_test)))\n"
   ]
  },
  {
   "cell_type": "markdown",
   "metadata": {},
   "source": [
    "\n",
    "Random forest had relatively high accuracy compared to most of the other models.\n",
    "The model that used the selectKbest variables had the best performance of the random forest models.\n",
    "The cross validation showed, that overfitting was not greatly present with this model. \n",
    "The model was better at predicting the positive outcome class.\n",
    "The model's success likely comes from it not having to rely on each set of data being evaluated only once. \n",
    "By being able to base its evaluations on multiple sub decision trees classifications are only finalized after multiple iterations.\n",
    "Even the the model that used PCA components, the worst performing random forest model, had relatively high performance.\n",
    "\n",
    "\n"
   ]
  },
  {
   "cell_type": "markdown",
   "metadata": {},
   "source": [
    "### Logistic Regression \n",
    "\n"
   ]
  },
  {
   "cell_type": "code",
   "execution_count": 48,
   "metadata": {},
   "outputs": [
    {
     "name": "stdout",
     "output_type": "stream",
     "text": [
      "CPU times: user 8.84 s, sys: 1.71 s, total: 10.6 s\n",
      "Wall time: 10.6 s\n"
     ]
    }
   ],
   "source": [
    "%%time\n",
    "\n",
    "## train and fit model\n",
    "\n",
    "lr = LogisticRegression(penalty='l1' ).fit(x_train, y_train)\n"
   ]
  },
  {
   "cell_type": "code",
   "execution_count": 49,
   "metadata": {
    "scrolled": false
   },
   "outputs": [
    {
     "name": "stdout",
     "output_type": "stream",
     "text": [
      "accuracy score:\n",
      "0.9453\n",
      "\n",
      "cross validation:\n",
      "[0.93653173 0.95102449 0.9515     0.94297149 0.94697349]\n",
      "\n",
      "cross validation with AUC:\n",
      "[0.96768367 0.97710644 0.97355058 0.97335983 0.97418467]\n",
      "\n",
      "confusion matrix:\n",
      "[[4733  245]\n",
      " [ 302 4720]]\n",
      "\n",
      "              precision    recall  f1-score   support\n",
      "\n",
      "         0.0       0.94      0.95      0.95      4978\n",
      "         1.0       0.95      0.94      0.95      5022\n",
      "\n",
      "   micro avg       0.95      0.95      0.95     10000\n",
      "   macro avg       0.95      0.95      0.95     10000\n",
      "weighted avg       0.95      0.95      0.95     10000\n",
      "\n",
      "CPU times: user 17.7 s, sys: 5.53 s, total: 23.2 s\n",
      "Wall time: 18.8 s\n"
     ]
    }
   ],
   "source": [
    "%%time\n",
    "\n",
    "## Model Evaluation\n",
    "\n",
    "print(\"accuracy score:\\n\" + str(lr.score(x_test, y_test))+'\\n')\n",
    "\n",
    "print(\"cross validation:\\n\" + str(cross_val_score(lr, x_test, y_test, cv=5))+'\\n')\n",
    "\n",
    "print(\"cross validation with AUC:\\n\" + str(cross_val_score(lr, x_test, y_test, cv=5, scoring='roc_auc'))+'\\n')\n",
    "\n",
    "print(\"confusion matrix:\\n\" + str(confusion_matrix(y_test, lr.predict(x_test)))+'\\n')\n",
    "\n",
    "print(classification_report(y_test, lr.predict(x_test)))\n"
   ]
  },
  {
   "cell_type": "code",
   "execution_count": 50,
   "metadata": {},
   "outputs": [
    {
     "name": "stdout",
     "output_type": "stream",
     "text": [
      "CPU times: user 1.75 s, sys: 23.5 ms, total: 1.78 s\n",
      "Wall time: 1.78 s\n"
     ]
    }
   ],
   "source": [
    "%%time\n",
    "\n",
    "## train and fit model\n",
    "\n",
    "k_lr = LogisticRegression(penalty='l1' ).fit(kx_train, ky_train)\n"
   ]
  },
  {
   "cell_type": "code",
   "execution_count": 51,
   "metadata": {},
   "outputs": [
    {
     "name": "stdout",
     "output_type": "stream",
     "text": [
      "accuracy score:\n",
      "0.9487\n",
      "\n",
      "cross validation:\n",
      "[0.955  0.9435 0.9435 0.943  0.954 ]\n",
      "\n",
      "cross validation with AUC:\n",
      "[0.97836598 0.97507198 0.97155597 0.97056797 0.98010998]\n",
      "\n",
      "confusion matrix:\n",
      "[[4741  254]\n",
      " [ 259 4746]]\n",
      "\n",
      "              precision    recall  f1-score   support\n",
      "\n",
      "         0.0       0.95      0.95      0.95      4995\n",
      "         1.0       0.95      0.95      0.95      5005\n",
      "\n",
      "   micro avg       0.95      0.95      0.95     10000\n",
      "   macro avg       0.95      0.95      0.95     10000\n",
      "weighted avg       0.95      0.95      0.95     10000\n",
      "\n",
      "CPU times: user 5.2 s, sys: 813 ms, total: 6.02 s\n",
      "Wall time: 2.32 s\n"
     ]
    }
   ],
   "source": [
    "%%time\n",
    "\n",
    "## Model Evaluation\n",
    "\n",
    "print(\"accuracy score:\\n\" + str(k_lr.score(kx_test, ky_test))+'\\n')\n",
    "\n",
    "print(\"cross validation:\\n\" + str(cross_val_score(k_lr, kx_test, ky_test, cv=5))+'\\n')\n",
    "\n",
    "print(\"cross validation with AUC:\\n\" + str(cross_val_score(k_lr, kx_test, ky_test, cv=5, scoring='roc_auc'))+'\\n')\n",
    "\n",
    "print(\"confusion matrix:\\n\" + str(confusion_matrix(ky_test, k_lr.predict(kx_test)))+'\\n')\n",
    "\n",
    "print(classification_report(ky_test, k_lr.predict(kx_test)))\n"
   ]
  },
  {
   "cell_type": "code",
   "execution_count": 52,
   "metadata": {},
   "outputs": [
    {
     "name": "stdout",
     "output_type": "stream",
     "text": [
      "CPU times: user 1.29 s, sys: 186 ms, total: 1.48 s\n",
      "Wall time: 1.5 s\n"
     ]
    }
   ],
   "source": [
    "%%time\n",
    "\n",
    "## train and fit model\n",
    "\n",
    "p_lr = LogisticRegression(penalty='l1' ).fit(px_train, py_train)\n"
   ]
  },
  {
   "cell_type": "code",
   "execution_count": 53,
   "metadata": {
    "scrolled": false
   },
   "outputs": [
    {
     "name": "stdout",
     "output_type": "stream",
     "text": [
      "accuracy score:\n",
      "0.8896\n",
      "\n",
      "cross validation:\n",
      "[0.8985 0.8765 0.8805 0.878  0.8865]\n",
      "\n",
      "cross validation with AUC:\n",
      "[0.95040595 0.93895094 0.94200094 0.94096394 0.94648195]\n",
      "\n",
      "confusion matrix:\n",
      "[[4522  473]\n",
      " [ 631 4374]]\n",
      "\n",
      "              precision    recall  f1-score   support\n",
      "\n",
      "         0.0       0.88      0.91      0.89      4995\n",
      "         1.0       0.90      0.87      0.89      5005\n",
      "\n",
      "   micro avg       0.89      0.89      0.89     10000\n",
      "   macro avg       0.89      0.89      0.89     10000\n",
      "weighted avg       0.89      0.89      0.89     10000\n",
      "\n",
      "CPU times: user 5.46 s, sys: 913 ms, total: 6.38 s\n",
      "Wall time: 2.68 s\n"
     ]
    }
   ],
   "source": [
    "%%time\n",
    "\n",
    "## Model Evaluation\n",
    "\n",
    "print(\"accuracy score:\\n\" + str(p_lr.score(px_test, py_test))+'\\n')\n",
    "\n",
    "print(\"cross validation:\\n\" + str(cross_val_score(p_lr, px_test, py_test, cv=5))+'\\n')\n",
    "\n",
    "print(\"cross validation with AUC:\\n\" + str(cross_val_score(p_lr, px_test, py_test, cv=5, scoring='roc_auc'))+'\\n')\n",
    "\n",
    "print(\"confusion matrix:\\n\" + str(confusion_matrix(py_test, p_lr.predict(px_test)))+'\\n')\n",
    "\n",
    "print(classification_report(py_test, p_lr.predict(px_test)))\n"
   ]
  },
  {
   "cell_type": "markdown",
   "metadata": {},
   "source": [
    "The logistic regression models had relatively high accuracy compared to most of the other models.\n",
    "Unlike the majority of the models, the version that used all of the dataset's features had the best performance of the logistic regression models.\n",
    "The cross validation showed, that overfitting was not greatly present with this model. \n",
    "The model had similar rates of type 1 and type 2 error.\n",
    "The model likely benefitted from being ably to drop parameters that were deemed to be excessively low.\n",
    "This likely effectively removed features that would've hurt the predictive ability of the model. \n",
    "Since this regression technique worked this way, it effectively acted as the version of the model with K best features with the primary difference of being able to pick any number of features that would aid the model.\n",
    "The model using PCA components was still the worst performing of the three but still had high accuracy.\n",
    "\n"
   ]
  },
  {
   "cell_type": "markdown",
   "metadata": {},
   "source": [
    "### Support Vector \n",
    "\n"
   ]
  },
  {
   "cell_type": "code",
   "execution_count": 54,
   "metadata": {
    "scrolled": true
   },
   "outputs": [
    {
     "name": "stdout",
     "output_type": "stream",
     "text": [
      "CPU times: user 42min 53s, sys: 27.4 s, total: 43min 21s\n",
      "Wall time: 44min 25s\n"
     ]
    }
   ],
   "source": [
    "%%time\n",
    "\n",
    "## train and fit model\n",
    "\n",
    "svc = SVC().fit(x_train, y_train)\n"
   ]
  },
  {
   "cell_type": "code",
   "execution_count": 55,
   "metadata": {},
   "outputs": [
    {
     "name": "stdout",
     "output_type": "stream",
     "text": [
      "accuracy score:\n",
      "0.9492\n",
      "\n",
      "cross validation:\n",
      "[0.93453273 0.94652674 0.9465     0.94197099 0.95197599]\n",
      "\n",
      "cross validation with AUC:\n",
      "[0.97942317 0.98552219 0.98176671 0.97869727 0.98016777]\n",
      "\n",
      "confusion matrix:\n",
      "[[4764  214]\n",
      " [ 294 4728]]\n",
      "\n",
      "              precision    recall  f1-score   support\n",
      "\n",
      "         0.0       0.94      0.96      0.95      4978\n",
      "         1.0       0.96      0.94      0.95      5022\n",
      "\n",
      "   micro avg       0.95      0.95      0.95     10000\n",
      "   macro avg       0.95      0.95      0.95     10000\n",
      "weighted avg       0.95      0.95      0.95     10000\n",
      "\n",
      "CPU times: user 41min 22s, sys: 23.2 s, total: 41min 46s\n",
      "Wall time: 42min 11s\n"
     ]
    }
   ],
   "source": [
    "%%time\n",
    "\n",
    "## Model Evaluation\n",
    "\n",
    "print(\"accuracy score:\\n\" + str(svc.score(x_test, y_test))+'\\n')\n",
    "\n",
    "print(\"cross validation:\\n\" + str(cross_val_score(svc, x_test, y_test, cv=5))+'\\n')\n",
    "\n",
    "print(\"cross validation with AUC:\\n\" + str(cross_val_score(svc, x_test, y_test, cv=5, scoring='roc_auc'))+'\\n')\n",
    "\n",
    "print(\"confusion matrix:\\n\" + str(confusion_matrix(y_test, svc.predict(x_test)))+'\\n')\n",
    "\n",
    "print(classification_report(y_test, svc.predict(x_test)))\n"
   ]
  },
  {
   "cell_type": "code",
   "execution_count": 56,
   "metadata": {},
   "outputs": [
    {
     "name": "stdout",
     "output_type": "stream",
     "text": [
      "CPU times: user 16min 52s, sys: 4.56 s, total: 16min 56s\n",
      "Wall time: 17min 2s\n"
     ]
    }
   ],
   "source": [
    "%%time\n",
    "\n",
    "## train and fit model\n",
    "\n",
    "k_svc = SVC().fit(kx_train, ky_train)\n"
   ]
  },
  {
   "cell_type": "code",
   "execution_count": 57,
   "metadata": {},
   "outputs": [
    {
     "name": "stdout",
     "output_type": "stream",
     "text": [
      "accuracy score:\n",
      "0.9013\n",
      "\n",
      "cross validation:\n",
      "[0.853  0.857  0.8545 0.8395 0.858 ]\n",
      "\n",
      "cross validation with AUC:\n",
      "[0.96585297 0.96007096 0.96607847 0.96157846 0.96558647]\n",
      "\n",
      "confusion matrix:\n",
      "[[4181  814]\n",
      " [ 173 4832]]\n",
      "\n",
      "              precision    recall  f1-score   support\n",
      "\n",
      "         0.0       0.96      0.84      0.89      4995\n",
      "         1.0       0.86      0.97      0.91      5005\n",
      "\n",
      "   micro avg       0.90      0.90      0.90     10000\n",
      "   macro avg       0.91      0.90      0.90     10000\n",
      "weighted avg       0.91      0.90      0.90     10000\n",
      "\n",
      "CPU times: user 7min 3s, sys: 3.61 s, total: 7min 6s\n",
      "Wall time: 7min 9s\n"
     ]
    }
   ],
   "source": [
    "%%time\n",
    "\n",
    "## Model Evaluation\n",
    "\n",
    "print(\"accuracy score:\\n\" + str(k_svc.score(kx_test, ky_test))+'\\n')\n",
    "\n",
    "print(\"cross validation:\\n\" + str(cross_val_score(k_svc, kx_test, ky_test, cv=5))+'\\n')\n",
    "\n",
    "print(\"cross validation with AUC:\\n\" + str(cross_val_score(k_svc, kx_test, ky_test, cv=5, scoring='roc_auc'))+'\\n')\n",
    "\n",
    "print(\"confusion matrix:\\n\" + str(confusion_matrix(ky_test, k_svc.predict(kx_test)))+'\\n')\n",
    "\n",
    "print(classification_report(ky_test, k_svc.predict(kx_test)))\n"
   ]
  },
  {
   "cell_type": "code",
   "execution_count": 58,
   "metadata": {},
   "outputs": [
    {
     "name": "stdout",
     "output_type": "stream",
     "text": [
      "CPU times: user 7min 5s, sys: 3.56 s, total: 7min 9s\n",
      "Wall time: 7min 12s\n"
     ]
    }
   ],
   "source": [
    "%%time\n",
    "\n",
    "## train and fit model\n",
    "\n",
    "p_svc = SVC().fit(px_train, py_train)\n"
   ]
  },
  {
   "cell_type": "code",
   "execution_count": 59,
   "metadata": {
    "scrolled": false
   },
   "outputs": [
    {
     "name": "stdout",
     "output_type": "stream",
     "text": [
      "accuracy score:\n",
      "0.8728\n",
      "\n",
      "cross validation:\n",
      "[0.855  0.848  0.844  0.8505 0.8585]\n",
      "\n",
      "cross validation with AUC:\n",
      "[0.93277393 0.92436292 0.92456792 0.92293192 0.93676394]\n",
      "\n",
      "confusion matrix:\n",
      "[[4486  509]\n",
      " [ 763 4242]]\n",
      "\n",
      "              precision    recall  f1-score   support\n",
      "\n",
      "         0.0       0.85      0.90      0.88      4995\n",
      "         1.0       0.89      0.85      0.87      5005\n",
      "\n",
      "   micro avg       0.87      0.87      0.87     10000\n",
      "   macro avg       0.87      0.87      0.87     10000\n",
      "weighted avg       0.87      0.87      0.87     10000\n",
      "\n",
      "CPU times: user 4min 1s, sys: 1.83 s, total: 4min 3s\n",
      "Wall time: 4min 4s\n"
     ]
    }
   ],
   "source": [
    "%%time\n",
    "\n",
    "## Model Evaluation\n",
    "\n",
    "print(\"accuracy score:\\n\" + str(p_svc.score(px_test, py_test))+'\\n')\n",
    "\n",
    "print(\"cross validation:\\n\" + str(cross_val_score(p_svc, px_test, py_test, cv=5))+'\\n')\n",
    "\n",
    "print(\"cross validation with AUC:\\n\" + str(cross_val_score(p_svc, px_test, py_test, cv=5, scoring='roc_auc'))+'\\n')\n",
    "\n",
    "print(\"confusion matrix:\\n\" + str(confusion_matrix(py_test, p_svc.predict(px_test)))+'\\n')\n",
    "\n",
    "print(classification_report(py_test, p_svc.predict(px_test)))\n"
   ]
  },
  {
   "cell_type": "markdown",
   "metadata": {},
   "source": [
    "\n",
    "The support vector classifier had middling accuracy compared to most of the other models.\n",
    "Unlike the majority of the models, the version that used all of the dataset's features had the best performance of the logistic regression models.\n",
    "The cross validation showed, that overfitting was not greatly present with this model. \n",
    "The model was marginally better at predicting the positive class.\n",
    "The model likely gained from using all of the features of the data because the differences in the data serve as the basis in which boundaries are formed and such nuance could be lost when a large amount of the variance of the data is left out through feature selection. \n",
    "\n",
    "\n"
   ]
  },
  {
   "cell_type": "markdown",
   "metadata": {},
   "source": [
    "### Gradient Boost \n",
    "\n"
   ]
  },
  {
   "cell_type": "code",
   "execution_count": 65,
   "metadata": {
    "scrolled": true
   },
   "outputs": [
    {
     "name": "stdout",
     "output_type": "stream",
     "text": [
      "{'loss': 'deviance', 'max_depth': 1, 'n_estimators': 250}\n",
      "CPU times: user 2h 13min 14s, sys: 2min 23s, total: 2h 15min 38s\n",
      "Wall time: 2h 16min 11s\n"
     ]
    }
   ],
   "source": [
    "%%time\n",
    "\n",
    "## train and fit model\n",
    "\n",
    "cl = ensemble.GradientBoostingClassifier()\n",
    "\n",
    "parameters = { \n",
    "              'n_estimators': list(np.arange(200, 301, 50)),\n",
    "              'max_depth': list(range(1,3)),\n",
    "              'loss': ['deviance', 'exponential']\n",
    "             }\n",
    "\n",
    "acc_scorer = make_scorer(accuracy_score)\n",
    "\n",
    "clf = GridSearchCV(cl, parameters, scoring=acc_scorer).fit(x_train,  y_train)\n",
    "\n",
    "## Show Best Parameters\n",
    "print(clf.best_params_)\n"
   ]
  },
  {
   "cell_type": "code",
   "execution_count": 66,
   "metadata": {
    "scrolled": false
   },
   "outputs": [
    {
     "name": "stdout",
     "output_type": "stream",
     "text": [
      "accuracy score:\n",
      "0.9676\n",
      "\n",
      "cross validation:\n",
      "[0.96051974 0.97051474 0.97       0.96448224 0.97048524]\n",
      "\n",
      "cross validation with AUC:\n",
      "[0.98166697 0.98771804 0.98430375 0.98272538 0.98394562]\n",
      "\n",
      "confusion matrix:\n",
      "[[4858  120]\n",
      " [ 204 4818]]\n",
      "\n",
      "              precision    recall  f1-score   support\n",
      "\n",
      "         0.0       0.96      0.98      0.97      4978\n",
      "         1.0       0.98      0.96      0.97      5022\n",
      "\n",
      "   micro avg       0.97      0.97      0.97     10000\n",
      "   macro avg       0.97      0.97      0.97     10000\n",
      "weighted avg       0.97      0.97      0.97     10000\n",
      "\n",
      "CPU times: user 3h 19min 28s, sys: 3min 55s, total: 3h 23min 23s\n",
      "Wall time: 4h 5min 38s\n"
     ]
    }
   ],
   "source": [
    "%%time\n",
    "\n",
    "## Model Evaluation\n",
    "\n",
    "print(\"accuracy score:\\n\" + str(clf.score(x_test, y_test))+'\\n')\n",
    "\n",
    "print(\"cross validation:\\n\" + str(cross_val_score(clf, x_test, y_test, cv=5))+'\\n')\n",
    "\n",
    "print(\"cross validation with AUC:\\n\" + str(cross_val_score(clf, x_test, y_test, cv=5, scoring='roc_auc'))+'\\n')\n",
    "\n",
    "print(\"confusion matrix:\\n\" + str(confusion_matrix(y_test, clf.predict(x_test)))+'\\n')\n",
    "\n",
    "print(classification_report(y_test, clf.predict(x_test)))"
   ]
  },
  {
   "cell_type": "code",
   "execution_count": 68,
   "metadata": {},
   "outputs": [
    {
     "name": "stdout",
     "output_type": "stream",
     "text": [
      "CPU times: user 11min 48s, sys: 5.87 s, total: 11min 53s\n",
      "Wall time: 11min 57s\n"
     ]
    }
   ],
   "source": [
    "%%time\n",
    "\n",
    "## train and fit model\n",
    "\n",
    "k_clf = GridSearchCV(cl, parameters, scoring=acc_scorer).fit(kx_train,  ky_train)\n"
   ]
  },
  {
   "cell_type": "code",
   "execution_count": 69,
   "metadata": {},
   "outputs": [
    {
     "name": "stdout",
     "output_type": "stream",
     "text": [
      "accuracy score:\n",
      "0.968\n",
      "\n",
      "cross validation:\n",
      "[0.9705 0.9705 0.965  0.9625 0.9705]\n",
      "\n",
      "cross validation with AUC:\n",
      "[0.98723649 0.98763699 0.98559399 0.98475298 0.98979849]\n",
      "\n",
      "confusion matrix:\n",
      "[[4854  141]\n",
      " [ 179 4826]]\n",
      "\n",
      "              precision    recall  f1-score   support\n",
      "\n",
      "         0.0       0.96      0.97      0.97      4995\n",
      "         1.0       0.97      0.96      0.97      5005\n",
      "\n",
      "   micro avg       0.97      0.97      0.97     10000\n",
      "   macro avg       0.97      0.97      0.97     10000\n",
      "weighted avg       0.97      0.97      0.97     10000\n",
      "\n",
      "CPU times: user 15min 44s, sys: 7.74 s, total: 15min 52s\n",
      "Wall time: 15min 56s\n"
     ]
    }
   ],
   "source": [
    "%%time\n",
    "\n",
    "## Model Evaluation\n",
    "\n",
    "print(\"accuracy score:\\n\" + str(k_clf.score(kx_test, ky_test))+'\\n')\n",
    "\n",
    "print(\"cross validation:\\n\" + str(cross_val_score(k_clf, kx_test, ky_test, cv=5))+'\\n')\n",
    "\n",
    "print(\"cross validation with AUC:\\n\" + str(cross_val_score(k_clf, kx_test, ky_test, cv=5, scoring='roc_auc'))+'\\n')\n",
    "\n",
    "print(\"confusion matrix:\\n\" + str(confusion_matrix(ky_test, k_clf.predict(kx_test)))+'\\n')\n",
    "\n",
    "print(classification_report(ky_test, k_clf.predict(kx_test)))"
   ]
  },
  {
   "cell_type": "code",
   "execution_count": 70,
   "metadata": {},
   "outputs": [
    {
     "name": "stdout",
     "output_type": "stream",
     "text": [
      "CPU times: user 45min 27s, sys: 12 s, total: 45min 39s\n",
      "Wall time: 45min 48s\n"
     ]
    }
   ],
   "source": [
    "%%time\n",
    "\n",
    "## train and fit model\n",
    "\n",
    "p_clf = GridSearchCV(cl, parameters, scoring=acc_scorer).fit(px_train,  py_train)\n"
   ]
  },
  {
   "cell_type": "code",
   "execution_count": 71,
   "metadata": {},
   "outputs": [
    {
     "name": "stdout",
     "output_type": "stream",
     "text": [
      "accuracy score:\n",
      "0.8739\n",
      "\n",
      "cross validation:\n",
      "[0.882  0.869  0.867  0.86   0.8595]\n",
      "\n",
      "cross validation with AUC:\n",
      "[0.94280794 0.93301093 0.93011993 0.92932893 0.93851694]\n",
      "\n",
      "confusion matrix:\n",
      "[[4459  536]\n",
      " [ 725 4280]]\n",
      "\n",
      "              precision    recall  f1-score   support\n",
      "\n",
      "         0.0       0.86      0.89      0.88      4995\n",
      "         1.0       0.89      0.86      0.87      5005\n",
      "\n",
      "   micro avg       0.87      0.87      0.87     10000\n",
      "   macro avg       0.87      0.87      0.87     10000\n",
      "weighted avg       0.87      0.87      0.87     10000\n",
      "\n",
      "CPU times: user 1h 21min 28s, sys: 21.7 s, total: 1h 21min 50s\n",
      "Wall time: 1h 42min 19s\n"
     ]
    }
   ],
   "source": [
    "%%time\n",
    "\n",
    "## Model Evaluation\n",
    "\n",
    "print(\"accuracy score:\\n\" + str(p_clf.score(px_test, py_test))+'\\n')\n",
    "\n",
    "print(\"cross validation:\\n\" + str(cross_val_score(p_clf, px_test, py_test, cv=5))+'\\n')\n",
    "\n",
    "print(\"cross validation with AUC:\\n\" + str(cross_val_score(p_clf, px_test, py_test, cv=5, scoring='roc_auc'))+'\\n')\n",
    "\n",
    "print(\"confusion matrix:\\n\" + str(confusion_matrix(py_test, p_clf.predict(px_test)))+'\\n')\n",
    "\n",
    "print(classification_report(py_test, p_clf.predict(px_test)))"
   ]
  },
  {
   "cell_type": "markdown",
   "metadata": {},
   "source": [
    "The gradient boost had the relatively highest accuracy compared to most of the other models.\n",
    "The model that used the selectKbest variables had the best performance of the gradient boost models. \n",
    "However, it was only marginally better than the gradient boost model that used all of the features of the dataset.\n",
    "The cross validation showed, that overfitting was not present with this model. \n",
    "The model was equally good at predicting both classes.\n",
    "The strength of this model when it comes to making predictions using this data comes from its ability to reduce error over multiple iterations.\n"
   ]
  },
  {
   "cell_type": "markdown",
   "metadata": {},
   "source": [
    "## Analysis and Conclusion\n",
    "\n",
    "The gradient boost model using features selected by the selectKbest function was by far the best model when it comes to predicting airline delay.\n",
    "It is also important to note that the logistic regression model could also prove valuable when it comes to making predictions using this data due to its low computational complexity and its ability to garner high accuracy scores using all of the features of the dataset.\n",
    "\n",
    "Understanding how to better utilize supervised modeling techniques to predict flight delay, will give insight how to curtail the incidence of late airline arrivals. \n",
    "The resulting increase in efficiency, could save airlines money and improve the process of flying for all of its customers.\n",
    "\n",
    "This study established the best suprvised modeling technique and feature classification pairing for predicting late airline arrivals. The next step in using this data to improve airline efficiency would be to collect more types of data and go more in depth into which features have a greater impact on the likelihood of late arrivals. This includes collecting data from different sources and engineering more features. By identifying potential causes of flight delay a new avenue for addressing the issue can be opened, resulting in new opportunities to increase efficiency and improve the growth of airlines.\n"
   ]
  },
  {
   "cell_type": "code",
   "execution_count": null,
   "metadata": {},
   "outputs": [],
   "source": []
  }
 ],
 "metadata": {
  "kernelspec": {
   "display_name": "Python 3",
   "language": "python",
   "name": "python3"
  },
  "language_info": {
   "codemirror_mode": {
    "name": "ipython",
    "version": 3
   },
   "file_extension": ".py",
   "mimetype": "text/x-python",
   "name": "python",
   "nbconvert_exporter": "python",
   "pygments_lexer": "ipython3",
   "version": "3.7.3"
  }
 },
 "nbformat": 4,
 "nbformat_minor": 2
}
