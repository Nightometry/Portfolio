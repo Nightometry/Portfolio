{
  "nbformat": 4,
  "nbformat_minor": 0,
  "metadata": {
    "colab": {
      "name": "An Analysis of The Abilities of Unsupervised Learning Techniques To Classify Texts From The Gutenberg Corpora",
      "version": "0.3.2",
      "provenance": [],
      "collapsed_sections": []
    },
    "kernelspec": {
      "name": "python3",
      "display_name": "Python 3"
    }
  },
  "cells": [
    {
      "cell_type": "markdown",
      "metadata": {
        "id": "R90q9co84Otw",
        "colab_type": "text"
      },
      "source": [
        "#  Classification and Clustering Analysis: An Analysis of Texts from the Gutenberg Corpora Using Unsupervised Feature Generation\n",
        "\n",
        "<br>\n",
        "\n",
        "Natural Language Processing (NLP) allows for the large scale analysis of subjective human language using machine learning.\n",
        "Any industry that aggregates large amount of text through the internet stands to gain from the imlementation of NLP.\n",
        "As the amount of text data increases exponentially, companies rely on machine learning techniques such as natural language processing to gather insights from this data that can help make decisions that lead to growth and profit.\n",
        "A lot of this text data comes from multiple sources and is often disorganized, making it more difficult for supervised learning techniques to utilize.\n",
        "Unsupervised learning methods allow for text data to be analyzed despite this disorganization.\n",
        "Unsupervised learning achieves this by organizing the data in a way that allows it to be  better analyzed and by generating more versions of this text data that is more palatable to machine learning algorithms.\n",
        "To better understand how unsupervised learning techniques can be utilized in NLP, I am interested in using unsupervised feature generation techniques to analyze texts from the Gutenberg Corpora written by various authors.\n",
        "\n",
        "In this study, classification and clustering of excerpts from various texts was done following unsupervised feature generation.\n",
        "Excerpts were classified as having been written by a specific author and excerpts were clustered based on author.\n",
        "Clusters were analyzed based on their ability to group authors' excerpts together.\n",
        "The different classification models were compared to better understand their ability to accurately predict author using multiple forms of statistical evaluation. \n",
        "The process used to undertake this study is as follows:\n",
        "\n",
        "\n",
        "<br>\n",
        "\n",
        "Initiation and Data Preprocessing\n",
        "* Import Packages and Files\n",
        "* Parse and Label Excerpts\n",
        "* Vectorization and Feature Reduction\n",
        "\n",
        "Clustering Analysis\n",
        "* Selecting Appropriate Clustering Method\n",
        "* Analyzing 10 Clusters Made Using K Means\n",
        "* Analyzing Holdout Group\n",
        "\n",
        "Modeling the Data \n",
        "* Using Bag of Words\n",
        "* Using TF-IDF\n",
        "\n",
        "\n",
        "\n",
        "\n"
      ]
    },
    {
      "cell_type": "markdown",
      "metadata": {
        "id": "EPLhls-LsPww",
        "colab_type": "text"
      },
      "source": [
        "## Initiation and Data Preprocessing\n",
        "\n",
        "The data used in this study is taken from texts found in the Gutenberg corpora. \n",
        "Excerpts taken from the writing of the ten authors were used in clustering and classification.\n",
        "Excerpts were labeled using the authors' last names: Chesterton, Bryant, Edgeworth, Austen, Whitman, Milton, Melville, Carroll, Shakespeare, and Burgess.\n",
        "After labeling, two sets of features were created using bag of words and TF-IDF.\n",
        "Both sets of features were reduced using singular value decomposition to reduce computational complexity and remove noise."
      ]
    },
    {
      "cell_type": "code",
      "metadata": {
        "id": "IZmdTz1KIRfx",
        "colab_type": "code",
        "outputId": "85f10f94-c2d6-43ed-fafc-2be467a6d52a",
        "colab": {
          "base_uri": "https://localhost:8080/",
          "height": 224
        }
      },
      "source": [
        "%%time\n",
        "\n",
        "import math\n",
        "import nltk\n",
        "import spacy\n",
        "import re\n",
        "import warnings\n",
        "\n",
        "from IPython.display import display\n",
        "from matplotlib import pyplot as plt\n",
        "import numpy as np\n",
        "import pandas as pd\n",
        "import seaborn as sns\n",
        "import statsmodels.formula.api as smf\n",
        "from matplotlib.mlab import PCA as mlabPCA\n",
        "from sklearn.naive_bayes import BernoulliNB\n",
        "from sklearn import linear_model\n",
        "from sklearn.preprocessing import StandardScaler\n",
        "from sklearn.decomposition import PCA \n",
        "from sklearn.model_selection import train_test_split\n",
        "from sklearn.model_selection import cross_val_score\n",
        "from sklearn.metrics import mean_squared_error\n",
        "from sklearn import neighbors\n",
        "from sklearn.utils import resample\n",
        "from sklearn import tree\n",
        "from sklearn.metrics import confusion_matrix\n",
        "from sklearn.metrics import classification_report\n",
        "from sklearn.feature_selection import SelectKBest, chi2, f_classif\n",
        "from sklearn.ensemble import RandomForestClassifier\n",
        "from sklearn.metrics import make_scorer, accuracy_score\n",
        "from sklearn.model_selection import GridSearchCV\n",
        "from sklearn import ensemble\n",
        "from sklearn.linear_model import LogisticRegression\n",
        "from sklearn.svm import SVC\n",
        "from sklearn.feature_extraction.text import TfidfVectorizer\n",
        "from sklearn.decomposition import TruncatedSVD\n",
        "from sklearn.decomposition import KernelPCA\n",
        "from sklearn.pipeline import make_pipeline\n",
        "from sklearn.preprocessing import Normalizer\n",
        "from collections import Counter\n",
        "from sklearn.feature_extraction.text import CountVectorizer\n",
        "from sklearn.neural_network import MLPClassifier\n",
        "from sklearn.metrics import silhouette_samples, silhouette_score\n",
        "from sklearn.cluster import KMeans\n",
        "from sklearn.cluster import MeanShift, estimate_bandwidth\n",
        "import textwrap\n",
        "\n",
        "from datetime import datetime\n",
        "from dateutil.parser import parse\n",
        "from nltk.stem.porter import PorterStemmer\n",
        "from nltk.corpus import gutenberg, stopwords\n",
        "\n",
        "\n",
        "\n",
        "# Display preferences.\n",
        "%matplotlib inline\n",
        "pd.options.display.float_format = '{:.3f}'.format\n",
        "pd.options.mode.chained_assignment = None\n",
        "\n",
        "# Suppress Warnings\n",
        "warnings.filterwarnings(\n",
        "    action=\"ignore\",\n",
        "    module=\"sklearn\"  \n",
        "    )\n",
        "\n",
        "# Set Plot Style\n",
        "sns.set_style('darkgrid')\n",
        "\n",
        "nltk.download('gutenberg')\n",
        "!python -m spacy download en\n"
      ],
      "execution_count": 0,
      "outputs": [
        {
          "output_type": "stream",
          "text": [
            "[nltk_data] Downloading package gutenberg to /root/nltk_data...\n",
            "[nltk_data]   Package gutenberg is already up-to-date!\n",
            "Requirement already satisfied: en_core_web_sm==2.1.0 from https://github.com/explosion/spacy-models/releases/download/en_core_web_sm-2.1.0/en_core_web_sm-2.1.0.tar.gz#egg=en_core_web_sm==2.1.0 in /usr/local/lib/python3.6/dist-packages (2.1.0)\n",
            "\u001b[38;5;2m✔ Download and installation successful\u001b[0m\n",
            "You can now load the model via spacy.load('en_core_web_sm')\n",
            "\u001b[38;5;2m✔ Linking successful\u001b[0m\n",
            "/usr/local/lib/python3.6/dist-packages/en_core_web_sm -->\n",
            "/usr/local/lib/python3.6/dist-packages/spacy/data/en\n",
            "You can now load the model via spacy.load('en')\n",
            "CPU times: user 960 ms, sys: 204 ms, total: 1.16 s\n",
            "Wall time: 3.55 s\n"
          ],
          "name": "stdout"
        }
      ]
    },
    {
      "cell_type": "code",
      "metadata": {
        "id": "ITLX6eFVLTRj",
        "colab_type": "code",
        "outputId": "4c6c6c0e-8751-47ab-b8bd-15034801bbf2",
        "colab": {
          "base_uri": "https://localhost:8080/",
          "height": 108
        }
      },
      "source": [
        "%%time\n",
        "\n",
        "## Import Files and Process the Raw Data.\n",
        "print(gutenberg.fileids())\n",
        "\n",
        "brown = gutenberg.raw('chesterton-brown.txt')\n",
        "stories = gutenberg.raw('bryant-stories.txt')\n",
        "parents = gutenberg.raw('edgeworth-parents.txt')\n",
        "emma = gutenberg.raw('austen-emma.txt')\n",
        "leaves = gutenberg.raw('whitman-leaves.txt')\n",
        "paradise = gutenberg.raw('milton-paradise.txt')\n",
        "moby_dick = gutenberg.raw('melville-moby_dick.txt')\n",
        "alice = gutenberg.raw('carroll-alice.txt')\n",
        "hamlet = gutenberg.raw('shakespeare-hamlet.txt')\n",
        "busterbrown = gutenberg.raw('burgess-busterbrown.txt')"
      ],
      "execution_count": 0,
      "outputs": [
        {
          "output_type": "stream",
          "text": [
            "['austen-emma.txt', 'austen-persuasion.txt', 'austen-sense.txt', 'bible-kjv.txt', 'blake-poems.txt', 'bryant-stories.txt', 'burgess-busterbrown.txt', 'carroll-alice.txt', 'chesterton-ball.txt', 'chesterton-brown.txt', 'chesterton-thursday.txt', 'edgeworth-parents.txt', 'melville-moby_dick.txt', 'milton-paradise.txt', 'shakespeare-caesar.txt', 'shakespeare-hamlet.txt', 'shakespeare-macbeth.txt', 'whitman-leaves.txt']\n",
            "CPU times: user 4.1 ms, sys: 6.05 ms, total: 10.1 ms\n",
            "Wall time: 11.6 ms\n"
          ],
          "name": "stdout"
        }
      ]
    },
    {
      "cell_type": "code",
      "metadata": {
        "id": "wyIx52Gb-52g",
        "colab_type": "code",
        "outputId": "35e6e753-72ef-4175-e9ee-948fb88b06e8",
        "colab": {
          "base_uri": "https://localhost:8080/",
          "height": 51
        }
      },
      "source": [
        "%%time\n",
        "\n",
        "## Clean text data\n",
        "\n",
        "def text_cleaner(text):\n",
        "    # Visual inspection identifies a form of punctuation spaCy does not\n",
        "    # recognize: the double dash '--'.  Better get rid of it now!\n",
        "    text = re.sub(r'--',' ',text)\n",
        "    text = re.sub(\"[\\[].*?[\\]]\", \"\", text)\n",
        "    text = ' '.join(text.split())\n",
        "    return text\n",
        "\n",
        "brown = text_cleaner(brown[:60000])\n",
        "stories = text_cleaner(stories[:60000])\n",
        "parents = text_cleaner(parents[:60000])\n",
        "emma = text_cleaner(emma[:60000])\n",
        "leaves = text_cleaner(leaves[:60000])\n",
        "paradise = text_cleaner(paradise[:60000])\n",
        "moby_dick = text_cleaner(moby_dick[:60000])\n",
        "alice = text_cleaner(alice[:60000])\n",
        "hamlet = text_cleaner(hamlet[:60000])\n",
        "busterbrown = text_cleaner(busterbrown[:60000])"
      ],
      "execution_count": 0,
      "outputs": [
        {
          "output_type": "stream",
          "text": [
            "CPU times: user 8.51 ms, sys: 2.9 ms, total: 11.4 ms\n",
            "Wall time: 11.4 ms\n"
          ],
          "name": "stdout"
        }
      ]
    },
    {
      "cell_type": "code",
      "metadata": {
        "id": "R6g1RNOVWdLY",
        "colab_type": "code",
        "outputId": "39a1c46e-9051-41d6-addf-98598ccbd93a",
        "colab": {
          "base_uri": "https://localhost:8080/",
          "height": 51
        }
      },
      "source": [
        "%%time\n",
        "\n",
        "## Extract ~ 100 Excerpts Each from All Texts, Totaling ~ 1000 Excerpts to Be Processed\n",
        "\n",
        "all_texts = [ \n",
        "brown, stories, parents, emma,\n",
        "leaves, paradise, moby_dick,\n",
        "alice, hamlet, busterbrown\n",
        "]\n",
        "\n",
        "cleaned_excerpts = []\n",
        "for texts in all_texts:\n",
        "  cleaned_excerpts.append(textwrap.wrap(texts, len(texts)// 100))"
      ],
      "execution_count": 0,
      "outputs": [
        {
          "output_type": "stream",
          "text": [
            "CPU times: user 175 ms, sys: 3.99 ms, total: 179 ms\n",
            "Wall time: 184 ms\n"
          ],
          "name": "stdout"
        }
      ]
    },
    {
      "cell_type": "code",
      "metadata": {
        "id": "WQqseq9MZw13",
        "colab_type": "code",
        "outputId": "03c1752c-3a65-4eab-f264-d2700580500f",
        "colab": {
          "base_uri": "https://localhost:8080/",
          "height": 51
        }
      },
      "source": [
        "%%time\n",
        "\n",
        "## Parse the cleaned excerpts\n",
        "\n",
        "nlp = spacy.load('en')\n",
        "\n",
        "parsed_excerpts = []\n",
        "for excerpts in cleaned_excerpts:\n",
        "  single_text = []\n",
        "  for excerpt in excerpts:\n",
        "    single_text.append(nlp(excerpt))\n",
        "  parsed_excerpts.append(single_text)\n"
      ],
      "execution_count": 0,
      "outputs": [
        {
          "output_type": "stream",
          "text": [
            "CPU times: user 21.8 s, sys: 169 ms, total: 21.9 s\n",
            "Wall time: 21.9 s\n"
          ],
          "name": "stdout"
        }
      ]
    },
    {
      "cell_type": "code",
      "metadata": {
        "id": "gf0V_wQEbjsy",
        "colab_type": "code",
        "outputId": "b5100e01-a1bf-4a39-dd4c-e381228d5669",
        "colab": {
          "base_uri": "https://localhost:8080/",
          "height": 51
        }
      },
      "source": [
        "%%time\n",
        "\n",
        "## Convert Excerpts into Strings and Load them into Dataframes\n",
        "\n",
        "all_sents = []\n",
        "for excerpts in parsed_excerpts:\n",
        "  single_text = []\n",
        "  for excerpt in excerpts:\n",
        "    single_text.append(str(excerpt))\n",
        "  all_sents.append(pd.DataFrame(single_text).applymap(str).apply(lambda x: x + ' '))\n",
        "  "
      ],
      "execution_count": 0,
      "outputs": [
        {
          "output_type": "stream",
          "text": [
            "CPU times: user 140 ms, sys: 7.91 ms, total: 148 ms\n",
            "Wall time: 150 ms\n"
          ],
          "name": "stdout"
        }
      ]
    },
    {
      "cell_type": "code",
      "metadata": {
        "id": "vA0dbWV_J2D7",
        "colab_type": "code",
        "outputId": "d4cb4eea-dbce-4332-ef4b-d65d2704737a",
        "colab": {
          "base_uri": "https://localhost:8080/",
          "height": 51
        }
      },
      "source": [
        "%%time\n",
        "\n",
        "## Assign Authors to Excerpts\n",
        "\n",
        "author_names = [\n",
        "\"chesterton\",\n",
        "\"bryant\",\n",
        "\"edgeworth\",\n",
        "\"austen\",\n",
        "\"whitman\",\n",
        "\"milton\",\n",
        "\"melville\",\n",
        "\"carroll\",\n",
        "\"shakespeare\",\n",
        "\"burgess\"\n",
        "]\n",
        "\n",
        "for index_number in list(range(0,10)):\n",
        "  all_sents[index_number]['author'] = author_names[index_number]"
      ],
      "execution_count": 0,
      "outputs": [
        {
          "output_type": "stream",
          "text": [
            "CPU times: user 7.19 ms, sys: 1.03 ms, total: 8.22 ms\n",
            "Wall time: 7.76 ms\n"
          ],
          "name": "stdout"
        }
      ]
    },
    {
      "cell_type": "code",
      "metadata": {
        "id": "X-XoUocmoHvN",
        "colab_type": "code",
        "outputId": "82baa5d0-f246-4773-ec95-f41adfa16570",
        "colab": {
          "base_uri": "https://localhost:8080/",
          "height": 153
        }
      },
      "source": [
        "%%time\n",
        "\n",
        "## Load Labeled Excerpts into single DataFrame\n",
        "\n",
        "labeled_excerpts = pd.concat(all_sents)\n",
        "\n",
        "print(labeled_excerpts.head())"
      ],
      "execution_count": 0,
      "outputs": [
        {
          "output_type": "stream",
          "text": [
            "                                                   0      author\n",
            "0  I. The Absence of Mr Glass THE consulting-room...  chesterton\n",
            "1  poetry. These things were there, in their plac...  chesterton\n",
            "2  room was lined with as complete a set of Engli...  chesterton\n",
            "3  ballads and the tables laden with drink and to...  chesterton\n",
            "4  shot with grey, but growing thick and healthy;...  chesterton\n",
            "CPU times: user 18.2 ms, sys: 1.03 ms, total: 19.2 ms\n",
            "Wall time: 21.4 ms\n"
          ],
          "name": "stdout"
        }
      ]
    },
    {
      "cell_type": "code",
      "metadata": {
        "id": "_W4qmhwV3Vf-",
        "colab_type": "code",
        "outputId": "7769fc57-ae11-496c-b612-c962e677a5bc",
        "colab": {
          "base_uri": "https://localhost:8080/",
          "height": 51
        }
      },
      "source": [
        "%%time\n",
        "\n",
        "## Vectorizing Text Data \n",
        "\n",
        "porter_stemmer = PorterStemmer()\n",
        "\n",
        "def stemming_tokenizer(str_input):\n",
        "    words = re.sub(r\"[^A-Za-z0-9\\-]\", \" \", str_input).lower().split()\n",
        "    words = [porter_stemmer.stem(word) for word in words]\n",
        "    return words\n",
        "  \n",
        "# Using Bag Of Words\n",
        "\n",
        "count_vectorizer = CountVectorizer(stop_words='english', tokenizer=stemming_tokenizer, max_features=1500)\n",
        "X = count_vectorizer.fit_transform(labeled_excerpts.iloc[:,0])\n",
        "df_bow = pd.DataFrame(X.toarray(), columns=count_vectorizer.get_feature_names())\n",
        "\n",
        "# Using TfIdf\n",
        "\n",
        "tfidf_vectorizer = TfidfVectorizer(stop_words='english', tokenizer=stemming_tokenizer, max_features=1500, use_idf=True)\n",
        "X = tfidf_vectorizer.fit_transform(labeled_excerpts.iloc[:,0])\n",
        "df_tfidf = pd.DataFrame(X.toarray(), columns=tfidf_vectorizer.get_feature_names())\n"
      ],
      "execution_count": 0,
      "outputs": [
        {
          "output_type": "stream",
          "text": [
            "CPU times: user 4.66 s, sys: 21 ms, total: 4.68 s\n",
            "Wall time: 4.68 s\n"
          ],
          "name": "stdout"
        }
      ]
    },
    {
      "cell_type": "code",
      "metadata": {
        "id": "Nhe2Tc14hB02",
        "colab_type": "code",
        "outputId": "33c44ab2-73e1-4638-a984-92ad44dd2c4c",
        "colab": {
          "base_uri": "https://localhost:8080/",
          "height": 51
        }
      },
      "source": [
        "%%time\n",
        "\n",
        "## Feature Reduction For Clustering\n",
        "\n",
        "svd= TruncatedSVD(20, random_state=42)\n",
        "lsa = make_pipeline(svd, Normalizer(copy=False))\n",
        "df_tfidf_u = lsa.fit_transform(df_tfidf)\n",
        "df_tfidf_u = pd.DataFrame(df_tfidf_u)\n",
        "\n",
        "author = labeled_excerpts.iloc[:,1]\n",
        "df_tfidf_u['author'] = author.reset_index(inplace=False).drop('index',1)\n"
      ],
      "execution_count": 0,
      "outputs": [
        {
          "output_type": "stream",
          "text": [
            "CPU times: user 145 ms, sys: 38.9 ms, total: 184 ms\n",
            "Wall time: 105 ms\n"
          ],
          "name": "stdout"
        }
      ]
    },
    {
      "cell_type": "code",
      "metadata": {
        "id": "Z77jmbD3f9Xq",
        "colab_type": "code",
        "outputId": "8926b775-6a1e-4138-fb90-a2ee402ff25d",
        "colab": {
          "base_uri": "https://localhost:8080/",
          "height": 51
        }
      },
      "source": [
        "%%time\n",
        "\n",
        "## Feature Reduction For Modeling\n",
        "\n",
        "svd= TruncatedSVD(20)\n",
        "lsa = make_pipeline(svd, Normalizer(copy=False))\n",
        "df_bow_s = lsa.fit_transform(df_bow)\n",
        "df_tfidf_s = lsa.fit_transform(df_tfidf)\n",
        "\n",
        "df_tfidf_s = pd.DataFrame(df_tfidf)\n",
        "df_bow_s = pd.DataFrame(df_bow)"
      ],
      "execution_count": 0,
      "outputs": [
        {
          "output_type": "stream",
          "text": [
            "CPU times: user 321 ms, sys: 80.9 ms, total: 402 ms\n",
            "Wall time: 209 ms\n"
          ],
          "name": "stdout"
        }
      ]
    },
    {
      "cell_type": "code",
      "metadata": {
        "id": "SaYkerSGVH8G",
        "colab_type": "code",
        "outputId": "fd5ddb6f-6b5c-4be5-b4af-8a6e8dae0dc0",
        "colab": {
          "base_uri": "https://localhost:8080/",
          "height": 204
        }
      },
      "source": [
        "## Excerpt Labels Frequencies\n",
        "\n",
        "labeled_excerpts.author.value_counts()"
      ],
      "execution_count": 0,
      "outputs": [
        {
          "output_type": "execute_result",
          "data": {
            "text/plain": [
              "bryant         101\n",
              "burgess        101\n",
              "edgeworth      101\n",
              "carroll        101\n",
              "austen         101\n",
              "melville       101\n",
              "milton         101\n",
              "shakespeare    101\n",
              "whitman        101\n",
              "chesterton     101\n",
              "Name: author, dtype: int64"
            ]
          },
          "metadata": {
            "tags": []
          },
          "execution_count": 12
        }
      ]
    },
    {
      "cell_type": "markdown",
      "metadata": {
        "id": "a9LK_d5UXmFE",
        "colab_type": "text"
      },
      "source": [
        "101 excerpts with about 600 characters each were extracted for each author."
      ]
    },
    {
      "cell_type": "code",
      "metadata": {
        "id": "M1_5ZAKFZyue",
        "colab_type": "code",
        "outputId": "fadd9b5b-e2dc-49ce-9c0b-ae6b116076c3",
        "colab": {
          "base_uri": "https://localhost:8080/",
          "height": 567
        }
      },
      "source": [
        "for sents in all_sents:\n",
        "  print(sents.iloc[1,1] + ':\\n' + sents.iloc[1,0] + '\\n')"
      ],
      "execution_count": 0,
      "outputs": [
        {
          "output_type": "stream",
          "text": [
            "chesterton:\n",
            "poetry. These things were there, in their place; but one felt that they were never allowed out of their place. Luxury was there: there stood upon a special table eight or ten boxes of the best cigars; but they were built upon a plan so that the strongest were always nearest the wall and the mildest nearest the window. A tantalus containing three kinds of spirit, all of a liqueur excellence, stood always on this table of luxury; but the fanciful have asserted that the whisky, brandy, and rum seemed always to stand at the same level. Poetry was there: the left-hand corner of the \n",
            "\n",
            "bryant:\n",
            "\"It's the Rain, and I want to come in,\" said a soft, sad, little voice. \"No, you can't come in,\" the little Tulip said. By and by she heard another little _tap, tap, tap_ on the window-pane. \"Who is there?\" she said. The same soft little voice answered, \"It's the Rain, and I want to come in!\" \"No, you can't come in,\" said the little Tulip. Then it was very still for a long time. At last, there came a little rustling, whispering sound, all round the window: _rustle, whisper, whisper_. \"Who is there?\" said the little Tulip. \"It's the Sunshine,\" said a little, \n",
            "\n",
            "edgeworth:\n",
            "gathered round the fire eating their potatoes and milk for supper. \"Bless them, the poor young creatures!\" said the widow, who, as she lay on her bed, which she knew must be her deathbed, was thinking of what would become of her children after she was gone. Mary stopped her wheel, for she was afraid that the noise of it had wakened her mother, and would hinder her from going to sleep again. \"No need to stop the wheel, Mary, dear, for me,\" said her mother, \"I was not asleep; nor is it THAT which keeps me from sleep. But don't overwork yourself, Mary.\" \"Oh, no fear of that,\" \n",
            "\n",
            "austen:\n",
            "woman as governess, who had fallen little short of a mother in affection. Sixteen years had Miss Taylor been in Mr. Woodhouse's family, less as a governess than a friend, very fond of both daughters, but particularly of Emma. Between _them_ it was more the intimacy of sisters. Even before Miss Taylor had ceased to hold the nominal office of governess, the mildness of her temper had hardly allowed her to impose any restraint; and the shadow of authority being now long passed away, they had been living together as friend and friend very mutually attached, and Emma doing just what she liked; \n",
            "\n",
            "whitman:\n",
            "alone nor brain alone is worthy for the Muse, I say the Form complete is worthier far, The Female equally with the Male I sing. Of Life immense in passion, pulse, and power, Cheerful, for freest action form'd under the laws divine, The Modern Man I sing. } As I Ponder'd in Silence As I ponder'd in silence, Returning upon my poems, considering, lingering long, A Phantom arose before me with distrustful aspect, Terrible in beauty, age, and power, The genius of poets of old lands, As to me directing like flame its eyes, With finger pointing to many immortal songs, And menacing \n",
            "\n",
            "milton:\n",
            "intends to soar Above th' Aonian mount, while it pursues Things unattempted yet in prose or rhyme. And chiefly thou, O Spirit, that dost prefer Before all temples th' upright heart and pure, Instruct me, for thou know'st; thou from the first Wast present, and, with mighty wings outspread, Dove-like sat'st brooding on the vast Abyss, And mad'st it pregnant: what in me is dark Illumine, what is low raise and support; That, to the height of this great argument, I may assert Eternal Providence, And justify the ways of God to men. Say first for Heaven hides nothing from thy view, \n",
            "\n",
            "melville:\n",
            "the signification of the word, you deliver that which is not true.\" HACKLUYT \"WHALE. ... Sw. and Dan. HVAL. This animal is named from roundness or rolling; for in Dan. HVALT is arched or vaulted.\" WEBSTER'S DICTIONARY \"WHALE. ... It is more immediately from the Dut. and Ger. WALLEN; A.S. WALW-IAN, to roll, to wallow.\" RICHARDSON'S DICTIONARY KETOS, GREEK. CETUS, LATIN. WHOEL, ANGLO-SAXON. HVALT, DANISH. WAL, DUTCH. HWAL, SWEDISH. WHALE, ICELANDIC. WHALE, ENGLISH. BALEINE, FRENCH. BALLENA, SPANISH. PEKEE-NUEE-NUEE, FEGEE. PEKEE-NUEE-NUEE, ERROMANGOAN. EXTRACTS (Supplied by \n",
            "\n",
            "carroll:\n",
            "Rabbit with pink eyes ran close by her. There was nothing so VERY remarkable in that; nor did Alice think it so VERY much out of the way to hear the Rabbit say to itself, 'Oh dear! Oh dear! I shall be late!' (when she thought it over afterwards, it occurred to her that she ought to have wondered at this, but at the time it all seemed quite natural); but when the Rabbit actually TOOK A WATCH OUT OF ITS WAISTCOAT-POCKET, and looked at it, and then hurried on, Alice started to her feet, for it flashed across her mind that she had never before seen a rabbit with either a waistcoat- \n",
            "\n",
            "shakespeare:\n",
            "heare them. Stand: who's there? Hor. Friends to this ground Mar. And Leige-men to the Dane Fran. Giue you good night Mar. O farwel honest Soldier, who hath relieu'd you? Fra. Barnardo ha's my place: giue you goodnight. Exit Fran. Mar. Holla Barnardo Bar. Say, what is Horatio there? Hor. A peece of him Bar. Welcome Horatio, welcome good Marcellus Mar. What, ha's this thing appear'd againe to night Bar. I haue seene nothing Mar. Horatio saies, 'tis but our Fantasie, And will not let beleefe take hold of him Touching this dreaded sight, twice seene of vs, Therefore I haue \n",
            "\n",
            "burgess:\n",
            "trying to make up his mind what would taste best, he was listening to the sounds that told of the waking of all the little people who live in the Green Forest. He heard Sammy Jay way off in the distance screaming, \"Thief! Thief!\" and grinned. \"I wonder,\" thought Buster, \"if some one has stolen Sammy's breakfast, or if he has stolen the breakfast of some one else. Probably he is the thief himself.\" He heard Chatterer the Red Squirrel scolding as fast as he could make his tongue go and working himself into a terrible rage. \"Must be that Chatterer got out of bed the wrong way \n",
            "\n"
          ],
          "name": "stdout"
        }
      ]
    },
    {
      "cell_type": "markdown",
      "metadata": {
        "id": "7wfFzpV9bDCE",
        "colab_type": "text"
      },
      "source": [
        "Above is an example of what the excerpts from each author looked like prior to unsupervised feature generation."
      ]
    },
    {
      "cell_type": "markdown",
      "metadata": {
        "id": "okNV_0N_2FuR",
        "colab_type": "text"
      },
      "source": [
        "## Clustering Analysis\n",
        "\n",
        "Clustering was done on the TF-IDF vectorized features with 25% of the excerpts reserved as a holdout group to test the stability of the clusters.\n",
        "Author labels were dropped prior to clustering so the excerpts would be clustered based on their contents as opposed to the pre-generated label."
      ]
    },
    {
      "cell_type": "code",
      "metadata": {
        "id": "FG1HFowx4CUo",
        "colab_type": "code",
        "outputId": "433b912c-fe8e-4e77-cf7b-0908e03f1d56",
        "colab": {
          "base_uri": "https://localhost:8080/",
          "height": 51
        }
      },
      "source": [
        "%%time\n",
        "\n",
        "## Store Data and Create Training and Testing Groups\n",
        "\n",
        "X = df_tfidf_u\n",
        "\n",
        "X_train, X_test= train_test_split(\n",
        "    X,\n",
        "    test_size=0.25,\n",
        "    random_state=42)\n"
      ],
      "execution_count": 0,
      "outputs": [
        {
          "output_type": "stream",
          "text": [
            "CPU times: user 3.73 ms, sys: 51 µs, total: 3.78 ms\n",
            "Wall time: 3.85 ms\n"
          ],
          "name": "stdout"
        }
      ]
    },
    {
      "cell_type": "markdown",
      "metadata": {
        "id": "85dVOClE-qW8",
        "colab_type": "text"
      },
      "source": [
        "### Selecting Appropriate Clustering Method\n",
        "\n",
        "The appropriate clustering method was selected based on the number of clusters generated by a particular method and sillhouette scores."
      ]
    },
    {
      "cell_type": "code",
      "metadata": {
        "id": "Bcbe8KiLhjMr",
        "colab_type": "code",
        "outputId": "b3597398-fd9f-4325-e1d1-08afacf26536",
        "colab": {
          "base_uri": "https://localhost:8080/",
          "height": 85
        }
      },
      "source": [
        "%%time\n",
        "\n",
        "bandwidth = estimate_bandwidth(X_train.drop('author',1), quantile=0.2, n_samples=500)\n",
        "\n",
        "# Declare and fit the model.\n",
        "ms = MeanShift(bandwidth=bandwidth, bin_seeding=True)\n",
        "ms.fit(X_train.drop('author',1))\n",
        "\n",
        "# Extract cluster assignments for each data point.\n",
        "labels = ms.labels_\n",
        "\n",
        "# Coordinates of the cluster centers.\n",
        "cluster_centers = ms.cluster_centers_\n",
        "\n",
        "# Count our clusters.\n",
        "n_clusters_ = len(np.unique(labels))\n",
        "\n",
        "print(\"Number of estimated Mean Shift clusters: {}\\n\".format(n_clusters_))\n"
      ],
      "execution_count": 0,
      "outputs": [
        {
          "output_type": "stream",
          "text": [
            "Number of estimated Mean Shift clusters: 1\n",
            "\n",
            "CPU times: user 76.9 ms, sys: 1.03 ms, total: 77.9 ms\n",
            "Wall time: 82.2 ms\n"
          ],
          "name": "stdout"
        }
      ]
    },
    {
      "cell_type": "markdown",
      "metadata": {
        "id": "KP5TfEeqcQQr",
        "colab_type": "text"
      },
      "source": [
        "Mean Shift yielded a single cluster which would not be useful for analysis."
      ]
    },
    {
      "cell_type": "code",
      "metadata": {
        "id": "Apu0S5xp3Hvz",
        "colab_type": "code",
        "outputId": "86567bdf-1289-4c34-ea03-978d1f462413",
        "colab": {
          "base_uri": "https://localhost:8080/",
          "height": 187
        }
      },
      "source": [
        "%%time\n",
        "\n",
        "## Choosing Appropriate Number of Clusters\n",
        "\n",
        "print('Silhouette scores for K Means:\\n')\n",
        "range_n_clusters = [7,8,9,10]\n",
        "for n_clusters in range_n_clusters:\n",
        "    print(str(n_clusters) + ' clusters: ' + str(silhouette_score(X_train.drop('author',1), KMeans(n_clusters=n_clusters, random_state=42).fit_predict(X_train.drop('author',1)))))\n",
        "print('\\n')"
      ],
      "execution_count": 0,
      "outputs": [
        {
          "output_type": "stream",
          "text": [
            "Silhouette scores for K Means:\n",
            "\n",
            "7 clusters: 0.18654454819897806\n",
            "8 clusters: 0.20824216402018073\n",
            "9 clusters: 0.23012152834894517\n",
            "10 clusters: 0.24786794516850177\n",
            "\n",
            "\n",
            "CPU times: user 523 ms, sys: 326 ms, total: 849 ms\n",
            "Wall time: 443 ms\n"
          ],
          "name": "stdout"
        }
      ]
    },
    {
      "cell_type": "markdown",
      "metadata": {
        "id": "n4MjAP4Ic41w",
        "colab_type": "text"
      },
      "source": [
        "K means was conducted for multiple numbers of clusters.\n",
        "K means with 10 clusters was chosen because it yielded a sufficiently high sillhouette score and because having the same number of clusters as author labels would be beneficial to analysis."
      ]
    },
    {
      "cell_type": "markdown",
      "metadata": {
        "id": "-XeP0a38-07l",
        "colab_type": "text"
      },
      "source": [
        "### Analyzing Clusters\n",
        "\n",
        "K-means generated labels were compared to the original author labels to analyze the ability of K-means to group the excerpts based on their content."
      ]
    },
    {
      "cell_type": "code",
      "metadata": {
        "id": "xtpEIZAUz8-h",
        "colab_type": "code",
        "outputId": "33414157-8089-458d-b202-12145ef9e32a",
        "colab": {
          "base_uri": "https://localhost:8080/",
          "height": 51
        }
      },
      "source": [
        "%%time\n",
        "\n",
        "## Calculate predicted values.\n",
        "\n",
        "y_pred = KMeans(n_clusters=10, random_state=42).fit_predict(X_train.drop('author',1))"
      ],
      "execution_count": 0,
      "outputs": [
        {
          "output_type": "stream",
          "text": [
            "CPU times: user 127 ms, sys: 72.9 ms, total: 200 ms\n",
            "Wall time: 111 ms\n"
          ],
          "name": "stdout"
        }
      ]
    },
    {
      "cell_type": "code",
      "metadata": {
        "id": "yjuU3pvE0Cbb",
        "colab_type": "code",
        "outputId": "e68b2f3c-5f32-4667-f23d-385943a765b0",
        "colab": {
          "base_uri": "https://localhost:8080/",
          "height": 51
        }
      },
      "source": [
        "%%time\n",
        "\n",
        "## Create A Dataframe Using The Original Dataset and New Labels\n",
        "\n",
        "df_kmeans = X_train\n",
        "df_kmeans['labels'] = y_pred\n",
        "\n",
        "## Split Results by New Labels\n",
        "\n",
        "df_kmeans_0 = df_kmeans.loc[df_kmeans['labels'] == 0]\n",
        "df_kmeans_1 = df_kmeans.loc[df_kmeans['labels'] == 1]\n",
        "df_kmeans_2 = df_kmeans.loc[df_kmeans['labels'] == 2]\n",
        "df_kmeans_3 = df_kmeans.loc[df_kmeans['labels'] == 3]\n",
        "df_kmeans_4 = df_kmeans.loc[df_kmeans['labels'] == 4]\n",
        "df_kmeans_5 = df_kmeans.loc[df_kmeans['labels'] == 5]\n",
        "df_kmeans_6 = df_kmeans.loc[df_kmeans['labels'] == 6]\n",
        "df_kmeans_7 = df_kmeans.loc[df_kmeans['labels'] == 7]\n",
        "df_kmeans_8 = df_kmeans.loc[df_kmeans['labels'] == 8]\n",
        "df_kmeans_9 = df_kmeans.loc[df_kmeans['labels'] == 9]\n",
        "\n",
        "df_kmeans_list = [\n",
        "df_kmeans_0,\n",
        "df_kmeans_1,\n",
        "df_kmeans_2,\n",
        "df_kmeans_3,\n",
        "df_kmeans_4,\n",
        "df_kmeans_5,\n",
        "df_kmeans_6,\n",
        "df_kmeans_7,\n",
        "df_kmeans_8,\n",
        "df_kmeans_9\n",
        "]\n"
      ],
      "execution_count": 0,
      "outputs": [
        {
          "output_type": "stream",
          "text": [
            "CPU times: user 11.2 ms, sys: 1.06 ms, total: 12.3 ms\n",
            "Wall time: 11.2 ms\n"
          ],
          "name": "stdout"
        }
      ]
    },
    {
      "cell_type": "code",
      "metadata": {
        "id": "CimX-Q57MrHK",
        "colab_type": "code",
        "outputId": "43ec67e9-3ff7-48bd-e710-f683917d6a9d",
        "colab": {
          "base_uri": "https://localhost:8080/",
          "height": 51
        }
      },
      "source": [
        "%%time\n",
        "\n",
        "## Create DataFrame to Graph Clusters\n",
        "\n",
        "df_kmeans_author_names = []\n",
        "for names in author_names:\n",
        "  df_kmeans_authors_per_cluster = []\n",
        "  for group in df_kmeans_list:\n",
        "    df_kmeans_authors_per_cluster.append(len(group['author'].loc[group['author'] == names]))\n",
        "  df_kmeans_author_names.append(df_kmeans_authors_per_cluster )\n",
        "\n",
        "cluster_names = ['Cluster 0', 'Cluster 1', 'Cluster 2', 'Cluster 3', 'Cluster 4', 'Cluster 5', 'Cluster 6', 'Cluster 7', 'Cluster 8', 'Cluster 9']\n",
        "\n",
        "authors = {}\n",
        "for index_number in list(range(0,10)):\n",
        "    authors[author_names[index_number]] = df_kmeans_author_names[index_number]\n",
        "    \n",
        "df_authors_by_cluster = pd.DataFrame(authors, index = cluster_names)\n"
      ],
      "execution_count": 0,
      "outputs": [
        {
          "output_type": "stream",
          "text": [
            "CPU times: user 51.2 ms, sys: 5.01 ms, total: 56.2 ms\n",
            "Wall time: 53.4 ms\n"
          ],
          "name": "stdout"
        }
      ]
    },
    {
      "cell_type": "code",
      "metadata": {
        "id": "0qWfCkaY_bk3",
        "colab_type": "code",
        "outputId": "3030684f-c641-4f2d-c917-255eb1766f6a",
        "colab": {
          "base_uri": "https://localhost:8080/",
          "height": 568
        }
      },
      "source": [
        "%%time\n",
        "\n",
        "## Bar Graph for Authors\n",
        "\n",
        "ax = df_authors_by_cluster.plot(kind='bar', title =\"Authors by Cluster\", figsize=(16, 8))\n",
        "ax.legend(loc='lower left', bbox_to_anchor=(1, 0.5))\n",
        "ax.set_ylabel(\"Frequency\")\n",
        "plt.show()\n"
      ],
      "execution_count": 0,
      "outputs": [
        {
          "output_type": "display_data",
          "data": {
            "image/png": "[encoded data removed]",
            "text/plain": [
              "<Figure size 1152x576 with 1 Axes>"
            ]
          },
          "metadata": {
            "tags": []
          }
        },
        {
          "output_type": "stream",
          "text": [
            "CPU times: user 635 ms, sys: 180 ms, total: 815 ms\n",
            "Wall time: 586 ms\n"
          ],
          "name": "stdout"
        }
      ]
    },
    {
      "cell_type": "markdown",
      "metadata": {
        "id": "Wv2_o-E2ebVu",
        "colab_type": "text"
      },
      "source": [
        "Above is a bar graph visualizing the contents of individual clusters made using K-means. \n",
        "Cluster names refer to the numerical label assigned to each cluster and have no significance other than differentiating clusters from eachother.\n",
        "\n",
        "The clusters primarily differentiated excerpts based on the author of the excerpts. \n",
        "This can be seen by the fact that the clusters each have a significantly higher number of excerpts from a single author. \n",
        "Bear in mind that the author names were not taken into account during the clustering process so these distinctions were made solely on the content of the excerpts. \n",
        "\n",
        "While each cluster contained a majority of an individual author's works there are some discrepancies that should be noted. \n",
        "A large portion of Melville's writings were grouped in the cluster mostly containing Chesterton's excerpts.\n",
        "This implies that there were similarities between a lot of Melville's and Chesterton's excerpts that clustering had trouble discerning. \n",
        "The majority of excerpts that weren't clustered in the group with a majority of their author's excerpts fell into the Chesterton Cluster (cluster 1). However with the exception of Melville's excerpts this was a very small amount of non-Chesterton works in the cluster 1."
      ]
    },
    {
      "cell_type": "code",
      "metadata": {
        "id": "SvMz-aCWBCvR",
        "colab_type": "code",
        "outputId": "57251a64-1340-465a-d627-faf44a4d86a7",
        "colab": {
          "base_uri": "https://localhost:8080/",
          "height": 424
        }
      },
      "source": [
        "%%time\n",
        "\n",
        "## Box Plot Visualizing Relative size of Author Labels And K Means Generated Labels\n",
        "\n",
        "ax = pd.concat(\n",
        "    [df_kmeans['author'].value_counts(),\n",
        "    df_kmeans['labels'].value_counts()],\n",
        "    1).plot(kind='box', figsize=(12, 6),\n",
        "                                    title=\"Group Sizes\"),\n",
        "                                                \n",
        "plt.show()"
      ],
      "execution_count": 0,
      "outputs": [
        {
          "output_type": "display_data",
          "data": {
            "image/png": "[encoded data removed]",
            "text/plain": [
              "<Figure size 864x432 with 1 Axes>"
            ]
          },
          "metadata": {
            "tags": []
          }
        },
        {
          "output_type": "stream",
          "text": [
            "CPU times: user 257 ms, sys: 150 ms, total: 406 ms\n",
            "Wall time: 237 ms\n"
          ],
          "name": "stdout"
        }
      ]
    },
    {
      "cell_type": "markdown",
      "metadata": {
        "id": "13G2cGO8hlRm",
        "colab_type": "text"
      },
      "source": [
        "Above are boxplots reflecting the number of observations that had a specific author label or cluster generated label, respectively. \n",
        "These can be refered to as author group sizes and cluster sizes respectively. \n",
        "The median author group sizes and cluster sizes are relatively close.\n",
        "However the range of the cluster group sizes is much larger with outliers in both directions.\n",
        "This is reflective of discrepancies between author and cluster labels.\n",
        "The high outlier in the cluster label sizes is the size of cluster 1, The cluster containing a majority of Chesterton's works.\n",
        "This cluster is large because it also contains a significant amount of Melville's works. \n",
        "The low outlier in the cluster group sizes refer to the cluster 4, the cluster containing a majority of Melville's works. \n",
        "This Cluster is small because many of Melvilles works were grouped in cluster 1.\n",
        "\n"
      ]
    },
    {
      "cell_type": "code",
      "metadata": {
        "id": "ayCzJejxWU_M",
        "colab_type": "code",
        "outputId": "6dee2645-78e0-4c6a-bb58-40fc5fe7140b",
        "colab": {
          "base_uri": "https://localhost:8080/",
          "height": 159
        }
      },
      "source": [
        "%%time\n",
        "\n",
        "## Calculate Cluster Accuracy\n",
        "\n",
        "print( \"Percent of Author's Excerpts that were Clustered Together\\n\")\n",
        "\n",
        "cluster_accuracy ={}\n",
        "for item in df_kmeans_list:\n",
        "    cluster_accuracy[item['author'].mode()[0]] = len(item['author'].loc[item['author'] == item['author'].mode()[0]])/len(df_kmeans['author'].loc[df_kmeans['author'] == item['author'].mode()[0]])\n",
        "\n",
        "print(str(cluster_accuracy) +'\\n')"
      ],
      "execution_count": 0,
      "outputs": [
        {
          "output_type": "stream",
          "text": [
            "Percent of Author's Excerpts that were Clustered Together\n",
            "\n",
            "{'milton': 0.9705882352941176, 'chesterton': 0.9436619718309859, 'carroll': 0.9629629629629629, 'austen': 0.9714285714285714, 'melville': 0.46835443037974683, 'edgeworth': 0.8450704225352113, 'bryant': 0.8095238095238095, 'burgess': 0.9342105263157895, 'shakespeare': 0.881578947368421, 'whitman': 0.8641975308641975}\n",
            "\n",
            "CPU times: user 21.6 ms, sys: 2.04 ms, total: 23.6 ms\n",
            "Wall time: 28.1 ms\n"
          ],
          "name": "stdout"
        }
      ]
    },
    {
      "cell_type": "markdown",
      "metadata": {
        "id": "Xm2lMMUokhlN",
        "colab_type": "text"
      },
      "source": [
        "The above percentages refer to the percentage of author's excerpts that were grouped together in the cluster that contained a majority of that author's works. \n",
        "This can be percieved as a way to quantify the ability of the clustering method to group authors' excerpts together. \n",
        "The majority of the authors' excerpts were grouped together with the exception of Melville's excerpts; many of which were grouped with Chesterton's excerpts.\n",
        "With the exception of Melville's works, clustering was able to group authors' excerpts with an accuracy of over 80%."
      ]
    },
    {
      "cell_type": "markdown",
      "metadata": {
        "id": "bvaHSPQnSiar",
        "colab_type": "text"
      },
      "source": [
        "### Testing Holdout Group\n",
        "\n",
        "The 25% holdout group was analyzed to better understand the stability of K-means when it comes to clustering the texts."
      ]
    },
    {
      "cell_type": "code",
      "metadata": {
        "id": "VrqfgIAlSbsV",
        "colab_type": "code",
        "outputId": "1ef14a68-895b-4da4-cd61-743e8b581b84",
        "colab": {
          "base_uri": "https://localhost:8080/",
          "height": 51
        }
      },
      "source": [
        "%%time\n",
        "\n",
        "## Calculate predicted values.\n",
        "\n",
        "y_pred = KMeans(n_clusters=10, random_state=42).fit_predict(X_test.drop('author',1))"
      ],
      "execution_count": 0,
      "outputs": [
        {
          "output_type": "stream",
          "text": [
            "CPU times: user 60.1 ms, sys: 881 µs, total: 61 ms\n",
            "Wall time: 65.2 ms\n"
          ],
          "name": "stdout"
        }
      ]
    },
    {
      "cell_type": "code",
      "metadata": {
        "id": "uGANwJU1S0Qs",
        "colab_type": "code",
        "outputId": "f15d47b5-ecdd-464e-baec-6cd31e517e34",
        "colab": {
          "base_uri": "https://localhost:8080/",
          "height": 51
        }
      },
      "source": [
        "%%time\n",
        "\n",
        "## Create A Dataframe Using The Original Dataset and New Labels\n",
        "\n",
        "df_kmeans = X_test\n",
        "df_kmeans['labels'] = y_pred\n",
        "\n",
        "## Split Results by New Labels\n",
        "\n",
        "df_kmeans_0 = df_kmeans.loc[df_kmeans['labels'] == 0]\n",
        "df_kmeans_1 = df_kmeans.loc[df_kmeans['labels'] == 1]\n",
        "df_kmeans_2 = df_kmeans.loc[df_kmeans['labels'] == 2]\n",
        "df_kmeans_3 = df_kmeans.loc[df_kmeans['labels'] == 3]\n",
        "df_kmeans_4 = df_kmeans.loc[df_kmeans['labels'] == 4]\n",
        "df_kmeans_5 = df_kmeans.loc[df_kmeans['labels'] == 5]\n",
        "df_kmeans_6 = df_kmeans.loc[df_kmeans['labels'] == 6]\n",
        "df_kmeans_7 = df_kmeans.loc[df_kmeans['labels'] == 7]\n",
        "df_kmeans_8 = df_kmeans.loc[df_kmeans['labels'] == 8]\n",
        "df_kmeans_9 = df_kmeans.loc[df_kmeans['labels'] == 9]\n",
        "\n",
        "df_kmeans_list = [\n",
        "df_kmeans_0,\n",
        "df_kmeans_1,\n",
        "df_kmeans_2,\n",
        "df_kmeans_3,\n",
        "df_kmeans_4,\n",
        "df_kmeans_5,\n",
        "df_kmeans_6,\n",
        "df_kmeans_7,\n",
        "df_kmeans_8,\n",
        "df_kmeans_9\n",
        "]"
      ],
      "execution_count": 0,
      "outputs": [
        {
          "output_type": "stream",
          "text": [
            "CPU times: user 13 ms, sys: 0 ns, total: 13 ms\n",
            "Wall time: 12.5 ms\n"
          ],
          "name": "stdout"
        }
      ]
    },
    {
      "cell_type": "code",
      "metadata": {
        "id": "JGNL53Kgykab",
        "colab_type": "code",
        "outputId": "db73930e-ffae-49ac-d05b-7b0c42c77a48",
        "colab": {
          "base_uri": "https://localhost:8080/",
          "height": 51
        }
      },
      "source": [
        "%%time\n",
        "\n",
        "## Create DataFrame to Graph Clusters\n",
        "\n",
        "df_kmeans_author_names = []\n",
        "for names in author_names:\n",
        "  df_kmeans_authors_per_cluster = []\n",
        "  for group in df_kmeans_list:\n",
        "    df_kmeans_authors_per_cluster.append(len(group['author'].loc[group['author'] == names]))\n",
        "  df_kmeans_author_names.append(df_kmeans_authors_per_cluster )\n",
        "\n",
        "cluster_names = ['Cluster 0', 'Cluster 1', 'Cluster 2', 'Cluster 3', 'Cluster 4', 'Cluster 5', 'Cluster 6', 'Cluster 7', 'Cluster 8', 'Cluster 9']\n",
        "\n",
        "authors = {}\n",
        "for index_number in list(range(0,10)):\n",
        "    authors[author_names[index_number]] = df_kmeans_author_names[index_number]\n",
        "    \n",
        "df_authors_by_cluster = pd.DataFrame(authors, index = cluster_names)"
      ],
      "execution_count": 0,
      "outputs": [
        {
          "output_type": "stream",
          "text": [
            "CPU times: user 58.7 ms, sys: 1.98 ms, total: 60.7 ms\n",
            "Wall time: 60.2 ms\n"
          ],
          "name": "stdout"
        }
      ]
    },
    {
      "cell_type": "code",
      "metadata": {
        "id": "YR3dhI3pTOkm",
        "colab_type": "code",
        "outputId": "db6b6fd4-007f-4c14-bc07-a3044c057a30",
        "colab": {
          "base_uri": "https://localhost:8080/",
          "height": 568
        }
      },
      "source": [
        "%%time\n",
        "\n",
        "## Bar Graph for Authors\n",
        "\n",
        "ax = df_authors_by_cluster.plot(kind='bar', title =\"Authors by Cluster\", figsize=(16, 8))\n",
        "ax.legend(loc='lower left', bbox_to_anchor=(1, 0.5))\n",
        "ax.set_ylabel(\"Frequency\")\n",
        "plt.show()\n",
        "\n"
      ],
      "execution_count": 0,
      "outputs": [
        {
          "output_type": "display_data",
          "data": {
            "image/png": "[encoded data removed]",
            "text/plain": [
              "<Figure size 1152x576 with 1 Axes>"
            ]
          },
          "metadata": {
            "tags": []
          }
        },
        {
          "output_type": "stream",
          "text": [
            "CPU times: user 719 ms, sys: 185 ms, total: 904 ms\n",
            "Wall time: 676 ms\n"
          ],
          "name": "stdout"
        }
      ]
    },
    {
      "cell_type": "markdown",
      "metadata": {
        "id": "CDEYXuPcl1pW",
        "colab_type": "text"
      },
      "source": [
        "Above is a bar graph visualizing the contents of individual clusters made using the K-means on the holdout group. Cluster names refer to the numerical label assigned to each cluster and have no significance other than differentiating clusters from eachother.\n",
        "\n",
        "The clusters still primarily differentiated excerpts based on the author of the excerpts. \n",
        "This can be seen by the fact that the clusters each have a significantly higher number of excerpts from a single author. \n",
        "\n",
        "While each cluster was able to contain a majority of a individual author's works in the holdout group there are more discrepancies than in the original clusters. \n",
        "As with the original clusters, a large portion of Melville's excerpts were grouped in the cluster containing mostly Chesterton's excerpts.\n",
        "A lot of Edgeworth's excerpts were also grouped with Bryant's excerpts in cluster 8 as well."
      ]
    },
    {
      "cell_type": "code",
      "metadata": {
        "id": "LXfmFXN8QfVm",
        "colab_type": "code",
        "outputId": "3358598e-c8ca-410b-8b50-b1e1c7eee1c4",
        "colab": {
          "base_uri": "https://localhost:8080/",
          "height": 159
        }
      },
      "source": [
        "%%time\n",
        "\n",
        "## Calculate Cluster Accuracy\n",
        "\n",
        "print( \"Percent of Author's Excerpts that were Clustered Together\\n\")\n",
        "\n",
        "cluster_accuracy ={}\n",
        "for item in df_kmeans_list:\n",
        "    cluster_accuracy[item['author'].mode()[0]] = len(item['author'].loc[item['author'] == item['author'].mode()[0]])/len(df_kmeans['author'].loc[df_kmeans['author'] == item['author'].mode()[0]])\n",
        "\n",
        "print(str(cluster_accuracy) +'\\n')"
      ],
      "execution_count": 0,
      "outputs": [
        {
          "output_type": "stream",
          "text": [
            "Percent of Author's Excerpts that were Clustered Together\n",
            "\n",
            "{'melville': 0.36363636363636365, 'chesterton': 0.7333333333333333, 'milton': 0.9393939393939394, 'shakespeare': 0.92, 'edgeworth': 0.6666666666666666, 'burgess': 1.0, 'austen': 0.967741935483871, 'whitman': 1.0, 'bryant': 0.8235294117647058, 'carroll': 0.9}\n",
            "\n",
            "CPU times: user 25.1 ms, sys: 1.14 ms, total: 26.2 ms\n",
            "Wall time: 28.6 ms\n"
          ],
          "name": "stdout"
        }
      ]
    },
    {
      "cell_type": "markdown",
      "metadata": {
        "id": "rntWMZfHnLfU",
        "colab_type": "text"
      },
      "source": [
        "As can be seen by the cluster percentages and bar graph, the holdout group clusters were less stable than the original clusters (especially when it came to grouping Edgeworth's excerpts).\n",
        "Despite the drop in stability, the holdout group clusters each still contained a majority if a single actor's excerpts.\n",
        "Overall, clustering using K-means was reliably able to differentiate the text samples of different authors."
      ]
    },
    {
      "cell_type": "markdown",
      "metadata": {
        "id": "PQpABIKe442V",
        "colab_type": "text"
      },
      "source": [
        "## Modeling the Data using Bag of Words\n",
        "\n"
      ]
    },
    {
      "cell_type": "code",
      "metadata": {
        "id": "67Lfjont-9Sc",
        "colab_type": "code",
        "outputId": "6477c601-bc52-4db0-8e4b-4330be2aea17",
        "colab": {
          "base_uri": "https://localhost:8080/",
          "height": 51
        }
      },
      "source": [
        "%%time\n",
        "\n",
        "## Establish variables based on original features to be used for modeling\n",
        "\n",
        "x = df_bow_s\n",
        "y = labeled_excerpts.iloc[:,1]\n",
        "\n",
        "\n",
        "x_train, x_test, y_train, y_test = train_test_split(x, y, test_size=0.25, random_state=20)"
      ],
      "execution_count": 0,
      "outputs": [
        {
          "output_type": "stream",
          "text": [
            "CPU times: user 6.49 ms, sys: 4.9 ms, total: 11.4 ms\n",
            "Wall time: 17.2 ms\n"
          ],
          "name": "stdout"
        }
      ]
    },
    {
      "cell_type": "markdown",
      "metadata": {
        "id": "_EQpu0NA49rc",
        "colab_type": "text"
      },
      "source": [
        "### Naive Bayes"
      ]
    },
    {
      "cell_type": "code",
      "metadata": {
        "id": "RQWvrpjrvR5Q",
        "colab_type": "code",
        "outputId": "48887adb-a3ee-4372-ca91-265aee59df6a",
        "colab": {
          "base_uri": "https://localhost:8080/",
          "height": 51
        }
      },
      "source": [
        "%%time\n",
        "\n",
        "## train and fit model\n",
        "\n",
        "bnb = BernoulliNB().fit(x_train, y_train)"
      ],
      "execution_count": 0,
      "outputs": [
        {
          "output_type": "stream",
          "text": [
            "CPU times: user 18.6 ms, sys: 15 ms, total: 33.7 ms\n",
            "Wall time: 32.8 ms\n"
          ],
          "name": "stdout"
        }
      ]
    },
    {
      "cell_type": "code",
      "metadata": {
        "id": "R0xeQMPMvuUs",
        "colab_type": "code",
        "outputId": "eb419692-f2c8-45d2-b482-94c21514b1a1",
        "colab": {
          "base_uri": "https://localhost:8080/",
          "height": 646
        }
      },
      "source": [
        "%%time\n",
        "\n",
        "## Model Evaluation\n",
        "\n",
        "print(\"accuracy score:\\n\" + str(bnb.score(x_test, y_test))+'\\n')\n",
        "\n",
        "print(\"cross validation:\\n\" + str(cross_val_score(bnb, x_test, y_test, cv=5))+'\\n')\n",
        "\n",
        "print(\"confusion matrix:\\n\" + str(confusion_matrix(y_test, bnb.predict(x_test)))+'\\n')\n",
        "\n",
        "print(classification_report(y_test, bnb.predict(x_test)))"
      ],
      "execution_count": 0,
      "outputs": [
        {
          "output_type": "stream",
          "text": [
            "accuracy score:\n",
            "0.932806324110672\n",
            "\n",
            "cross validation:\n",
            "[0.72727273 0.57692308 0.65306122 0.63265306 0.6875    ]\n",
            "\n",
            "confusion matrix:\n",
            "[[33  0  0  0  0  1  0  0  0  0]\n",
            " [ 0 26  0  0  0  0  0  0  0  0]\n",
            " [ 0  0 20  0  0  0  0  0  0  0]\n",
            " [ 0  0  0 23  0  0  2  0  0  0]\n",
            " [ 0  0  0  0 21  0  0  0  0  0]\n",
            " [ 0  2  0  0  0 15  0  0  0  0]\n",
            " [ 0  0  0  1  0  0 15  0  0  0]\n",
            " [ 0  0  0  0  0  0  4 30  0  1]\n",
            " [ 0  0  0  0  0  0  0  0 27  0]\n",
            " [ 0  0  0  0  4  0  2  0  0 26]]\n",
            "\n",
            "              precision    recall  f1-score   support\n",
            "\n",
            "      austen       1.00      0.97      0.99        34\n",
            "      bryant       0.93      1.00      0.96        26\n",
            "     burgess       1.00      1.00      1.00        20\n",
            "     carroll       0.96      0.92      0.94        25\n",
            "  chesterton       0.84      1.00      0.91        21\n",
            "   edgeworth       0.94      0.88      0.91        17\n",
            "    melville       0.65      0.94      0.77        16\n",
            "      milton       1.00      0.86      0.92        35\n",
            " shakespeare       1.00      1.00      1.00        27\n",
            "     whitman       0.96      0.81      0.88        32\n",
            "\n",
            "    accuracy                           0.93       253\n",
            "   macro avg       0.93      0.94      0.93       253\n",
            "weighted avg       0.94      0.93      0.93       253\n",
            "\n",
            "CPU times: user 115 ms, sys: 73.9 ms, total: 189 ms\n",
            "Wall time: 103 ms\n"
          ],
          "name": "stdout"
        }
      ]
    },
    {
      "cell_type": "markdown",
      "metadata": {
        "id": "hZHmMUv25DNs",
        "colab_type": "text"
      },
      "source": [
        "### K Nearest Neighbors "
      ]
    },
    {
      "cell_type": "code",
      "metadata": {
        "id": "CPMx3UsQAr_m",
        "colab_type": "code",
        "outputId": "a6c747fe-3d08-4cdd-be0f-e71578079277",
        "colab": {
          "base_uri": "https://localhost:8080/",
          "height": 51
        }
      },
      "source": [
        "%%time\n",
        "\n",
        "## train and fit model\n",
        "\n",
        "knn = neighbors.KNeighborsClassifier(n_neighbors=10).fit(x_train, y_train)"
      ],
      "execution_count": 0,
      "outputs": [
        {
          "output_type": "stream",
          "text": [
            "CPU times: user 30.4 ms, sys: 1.02 ms, total: 31.4 ms\n",
            "Wall time: 31.4 ms\n"
          ],
          "name": "stdout"
        }
      ]
    },
    {
      "cell_type": "code",
      "metadata": {
        "id": "vW3nC-8aAsjm",
        "colab_type": "code",
        "outputId": "36a51e92-fe13-415a-d1eb-e1aa73e8a32e",
        "colab": {
          "base_uri": "https://localhost:8080/",
          "height": 646
        }
      },
      "source": [
        "%%time\n",
        "\n",
        "## Model Evaluation\n",
        "\n",
        "print(\"accuracy score:\\n\" + str(knn.score(x_test, y_test))+'\\n')\n",
        "\n",
        "print(\"cross validation:\\n\" + str(cross_val_score(knn, x_test, y_test, cv=5))+'\\n')\n",
        "\n",
        "print(\"confusion matrix:\\n\" + str(confusion_matrix(y_test, knn.predict(x_test)))+'\\n')\n",
        "\n",
        "print(classification_report(y_test, knn.predict(x_test)))"
      ],
      "execution_count": 0,
      "outputs": [
        {
          "output_type": "stream",
          "text": [
            "accuracy score:\n",
            "0.6561264822134387\n",
            "\n",
            "cross validation:\n",
            "[0.65454545 0.53846154 0.46938776 0.44897959 0.58333333]\n",
            "\n",
            "confusion matrix:\n",
            "[[26  0  0  0  1  2  3  1  0  1]\n",
            " [ 0 19  0  0  2  1  4  0  0  0]\n",
            " [ 0  0 17  0  1  0  2  0  0  0]\n",
            " [ 0  0  0 11  2  3  8  1  0  0]\n",
            " [ 0  0  0  0 13  0  5  2  0  1]\n",
            " [ 0  1  0  0  1 13  1  1  0  0]\n",
            " [ 0  0  0  0  0  0 16  0  0  0]\n",
            " [ 0  0  0  0  1  0 13 21  0  0]\n",
            " [ 0  0  0  0  2  1  3  3 15  3]\n",
            " [ 0  0  0  0  2  0 15  0  0 15]]\n",
            "\n",
            "              precision    recall  f1-score   support\n",
            "\n",
            "      austen       1.00      0.76      0.87        34\n",
            "      bryant       0.95      0.73      0.83        26\n",
            "     burgess       1.00      0.85      0.92        20\n",
            "     carroll       1.00      0.44      0.61        25\n",
            "  chesterton       0.52      0.62      0.57        21\n",
            "   edgeworth       0.65      0.76      0.70        17\n",
            "    melville       0.23      1.00      0.37        16\n",
            "      milton       0.72      0.60      0.66        35\n",
            " shakespeare       1.00      0.56      0.71        27\n",
            "     whitman       0.75      0.47      0.58        32\n",
            "\n",
            "    accuracy                           0.66       253\n",
            "   macro avg       0.78      0.68      0.68       253\n",
            "weighted avg       0.81      0.66      0.69       253\n",
            "\n",
            "CPU times: user 1.78 s, sys: 1.01 ms, total: 1.78 s\n",
            "Wall time: 1.78 s\n"
          ],
          "name": "stdout"
        }
      ]
    },
    {
      "cell_type": "markdown",
      "metadata": {
        "id": "g7HJvipV5NTi",
        "colab_type": "text"
      },
      "source": [
        "### Decision Tree"
      ]
    },
    {
      "cell_type": "code",
      "metadata": {
        "id": "ZEOkmAzU_khj",
        "colab_type": "code",
        "outputId": "0cf25dcb-6111-4700-9f0a-40bf0914a2ee",
        "colab": {
          "base_uri": "https://localhost:8080/",
          "height": 51
        }
      },
      "source": [
        "%%time\n",
        "\n",
        "## train and fit model\n",
        "\n",
        "decision_tree = tree.DecisionTreeClassifier(\n",
        "    criterion='entropy',\n",
        "    max_features=15,\n",
        "    max_depth=25,\n",
        "    ).fit(x_train, y_train)"
      ],
      "execution_count": 0,
      "outputs": [
        {
          "output_type": "stream",
          "text": [
            "CPU times: user 12.2 ms, sys: 12 µs, total: 12.2 ms\n",
            "Wall time: 17.8 ms\n"
          ],
          "name": "stdout"
        }
      ]
    },
    {
      "cell_type": "code",
      "metadata": {
        "id": "YsrxgDNPAVPX",
        "colab_type": "code",
        "outputId": "18e59f3a-fa8f-406f-cb04-d7a2a8597da4",
        "colab": {
          "base_uri": "https://localhost:8080/",
          "height": 646
        }
      },
      "source": [
        "%%time\n",
        "\n",
        "## Model Evaluation\n",
        "\n",
        "print(\"accuracy score:\\n\" + str(decision_tree.score(x_test, y_test))+'\\n')\n",
        "\n",
        "print(\"cross validation:\\n\" + str(cross_val_score(decision_tree, x_test, y_test, cv=5))+'\\n')\n",
        "\n",
        "print(\"confusion matrix:\\n\" + str(confusion_matrix(y_test, decision_tree.predict(x_test)))+'\\n')\n",
        "\n",
        "print(classification_report(y_test, decision_tree.predict(x_test)))"
      ],
      "execution_count": 0,
      "outputs": [
        {
          "output_type": "stream",
          "text": [
            "accuracy score:\n",
            "0.43478260869565216\n",
            "\n",
            "cross validation:\n",
            "[0.23636364 0.44230769 0.20408163 0.24489796 0.3125    ]\n",
            "\n",
            "confusion matrix:\n",
            "[[17  0  0  0  7  3  0  1  0  6]\n",
            " [ 2 14  2  2  5  0  1  0  0  0]\n",
            " [ 1  1 13  3  2  0  0  0  0  0]\n",
            " [ 0  4  2  9  3  2  0  0  2  3]\n",
            " [ 5  3  0  1  8  1  1  0  0  2]\n",
            " [ 3  4  0  0  1  7  0  0  0  2]\n",
            " [ 0  4  1  1  2  0  2  1  0  5]\n",
            " [ 2  0  0  1  4  0  0 12  1 15]\n",
            " [ 1  0  1  3  4  1  1  1  8  7]\n",
            " [ 2  2  0  0  0  1  2  4  1 20]]\n",
            "\n",
            "              precision    recall  f1-score   support\n",
            "\n",
            "      austen       0.52      0.50      0.51        34\n",
            "      bryant       0.44      0.54      0.48        26\n",
            "     burgess       0.68      0.65      0.67        20\n",
            "     carroll       0.45      0.36      0.40        25\n",
            "  chesterton       0.22      0.38      0.28        21\n",
            "   edgeworth       0.47      0.41      0.44        17\n",
            "    melville       0.29      0.12      0.17        16\n",
            "      milton       0.63      0.34      0.44        35\n",
            " shakespeare       0.67      0.30      0.41        27\n",
            "     whitman       0.33      0.62      0.43        32\n",
            "\n",
            "    accuracy                           0.43       253\n",
            "   macro avg       0.47      0.42      0.42       253\n",
            "weighted avg       0.48      0.43      0.43       253\n",
            "\n",
            "CPU times: user 60.7 ms, sys: 4.05 ms, total: 64.7 ms\n",
            "Wall time: 66.6 ms\n"
          ],
          "name": "stdout"
        }
      ]
    },
    {
      "cell_type": "markdown",
      "metadata": {
        "id": "foLB5zsy5Tp3",
        "colab_type": "text"
      },
      "source": [
        "### Random Forest"
      ]
    },
    {
      "cell_type": "code",
      "metadata": {
        "id": "IxfJm18MATHC",
        "colab_type": "code",
        "outputId": "b1fefab7-6bec-4ce5-aa1b-5cec9ed63d99",
        "colab": {
          "base_uri": "https://localhost:8080/",
          "height": 68
        }
      },
      "source": [
        "%%time\n",
        "\n",
        "## train and fit model\n",
        "\n",
        "rf = ensemble.RandomForestClassifier()\n",
        "\n",
        "parameters = { \n",
        "              'max_features': ['log2', 'sqrt','auto'], \n",
        "              'criterion': ['entropy'],\n",
        "              'max_depth': list(np.arange(85, 111, 5)), \n",
        "              'min_samples_split': list(np.arange(3, 12, 2))\n",
        "             }\n",
        "\n",
        "acc_scorer = make_scorer(accuracy_score)\n",
        "\n",
        "rfc = GridSearchCV(rf, parameters, scoring=acc_scorer).fit(x_train,  y_train)\n",
        "\n",
        "print(rfc.best_params_)"
      ],
      "execution_count": 0,
      "outputs": [
        {
          "output_type": "stream",
          "text": [
            "{'criterion': 'entropy', 'max_depth': 105, 'max_features': 'sqrt', 'min_samples_split': 7}\n",
            "CPU times: user 8.5 s, sys: 35.1 ms, total: 8.53 s\n",
            "Wall time: 8.54 s\n"
          ],
          "name": "stdout"
        }
      ]
    },
    {
      "cell_type": "code",
      "metadata": {
        "id": "UVDgEGUeAk6u",
        "colab_type": "code",
        "outputId": "2a420048-7932-4b6e-c6a6-a4f51903b850",
        "colab": {
          "base_uri": "https://localhost:8080/",
          "height": 646
        }
      },
      "source": [
        "%%time\n",
        "\n",
        "## Model Evaluation\n",
        "\n",
        "print(\"accuracy score:\\n\" + str(rfc.score(x_test, y_test))+'\\n')\n",
        "\n",
        "print(\"cross validation:\\n\" + str(cross_val_score(rfc, x_test, y_test, cv=5))+'\\n')\n",
        "\n",
        "print(\"confusion matrix:\\n\" + str(confusion_matrix(y_test, rfc.predict(x_test)))+'\\n')\n",
        "\n",
        "print(classification_report(y_test, rfc.predict(x_test)))"
      ],
      "execution_count": 0,
      "outputs": [
        {
          "output_type": "stream",
          "text": [
            "accuracy score:\n",
            "0.8063241106719368\n",
            "\n",
            "cross validation:\n",
            "[0.65454545 0.65384615 0.55102041 0.69387755 0.70833333]\n",
            "\n",
            "confusion matrix:\n",
            "[[31  1  0  0  0  2  0  0  0  0]\n",
            " [ 0 21  0  0  1  2  2  0  0  0]\n",
            " [ 0  0 20  0  0  0  0  0  0  0]\n",
            " [ 1  1  0 20  2  0  0  0  0  1]\n",
            " [ 0  0  0  1 15  3  1  0  0  1]\n",
            " [ 0  4  0  0  1 11  1  0  0  0]\n",
            " [ 1  0  0  2  0  0 12  0  0  1]\n",
            " [ 0  0  0  0  1  0  3 27  0  4]\n",
            " [ 0  0  1  1  0  0  1  1 21  2]\n",
            " [ 0  2  0  0  0  2  1  0  1 26]]\n",
            "\n",
            "              precision    recall  f1-score   support\n",
            "\n",
            "      austen       0.94      0.91      0.93        34\n",
            "      bryant       0.72      0.81      0.76        26\n",
            "     burgess       0.95      1.00      0.98        20\n",
            "     carroll       0.83      0.80      0.82        25\n",
            "  chesterton       0.75      0.71      0.73        21\n",
            "   edgeworth       0.55      0.65      0.59        17\n",
            "    melville       0.57      0.75      0.65        16\n",
            "      milton       0.96      0.77      0.86        35\n",
            " shakespeare       0.95      0.78      0.86        27\n",
            "     whitman       0.74      0.81      0.78        32\n",
            "\n",
            "    accuracy                           0.81       253\n",
            "   macro avg       0.80      0.80      0.79       253\n",
            "weighted avg       0.82      0.81      0.81       253\n",
            "\n",
            "CPU times: user 21.3 s, sys: 89.1 ms, total: 21.4 s\n",
            "Wall time: 21.4 s\n"
          ],
          "name": "stdout"
        }
      ]
    },
    {
      "cell_type": "markdown",
      "metadata": {
        "id": "fKzsBrq-6n0O",
        "colab_type": "text"
      },
      "source": [
        "### Gradient Boost"
      ]
    },
    {
      "cell_type": "code",
      "metadata": {
        "id": "oiR7adJ_6ndt",
        "colab_type": "code",
        "outputId": "a68653d6-88ae-44b2-cfb6-1667701d44a8",
        "colab": {
          "base_uri": "https://localhost:8080/",
          "height": 68
        }
      },
      "source": [
        "%%time\n",
        "\n",
        "## train and fit model\n",
        "\n",
        "cl = ensemble.GradientBoostingClassifier()\n",
        "\n",
        "parameters = { \n",
        "              'n_estimators': list(np.arange(200, 301, 50)),\n",
        "              'max_depth': list(range(1,7)),\n",
        "             }\n",
        "\n",
        "acc_scorer = make_scorer(accuracy_score)\n",
        "\n",
        "clf = GridSearchCV(cl, parameters, scoring=acc_scorer).fit(x_train,  y_train)\n",
        "\n",
        "## Show Best Parameters\n",
        "print(clf.best_params_)"
      ],
      "execution_count": 0,
      "outputs": [
        {
          "output_type": "stream",
          "text": [
            "{'max_depth': 3, 'n_estimators': 250}\n",
            "CPU times: user 18min 10s, sys: 118 ms, total: 18min 10s\n",
            "Wall time: 18min 10s\n"
          ],
          "name": "stdout"
        }
      ]
    },
    {
      "cell_type": "code",
      "metadata": {
        "id": "kmKU7CwR6nGV",
        "colab_type": "code",
        "outputId": "380d8775-fcf9-44ae-9b7c-778184152132",
        "colab": {
          "base_uri": "https://localhost:8080/",
          "height": 646
        }
      },
      "source": [
        "%%time\n",
        "\n",
        "## Model Evaluation\n",
        "\n",
        "print(\"accuracy score:\\n\" + str(clf.score(x_test, y_test))+'\\n')\n",
        "\n",
        "print(\"cross validation:\\n\" + str(cross_val_score(clf, x_test, y_test, cv=5))+'\\n')\n",
        "\n",
        "print(\"confusion matrix:\\n\" + str(confusion_matrix(y_test, clf.predict(x_test)))+'\\n')\n",
        "\n",
        "print(classification_report(y_test, clf.predict(x_test)))"
      ],
      "execution_count": 0,
      "outputs": [
        {
          "output_type": "stream",
          "text": [
            "accuracy score:\n",
            "0.8695652173913043\n",
            "\n",
            "cross validation:\n",
            "[0.74545455 0.80769231 0.71428571 0.69387755 0.72916667]\n",
            "\n",
            "confusion matrix:\n",
            "[[34  0  0  0  0  0  0  0  0  0]\n",
            " [ 0 24  0  0  0  0  1  1  0  0]\n",
            " [ 0  0 19  0  0  0  1  0  0  0]\n",
            " [ 0  0  0 21  0  0  4  0  0  0]\n",
            " [ 0  1  0  0 16  2  2  0  0  0]\n",
            " [ 0  1  0  0  0 16  0  0  0  0]\n",
            " [ 0  1  0  0  1  0 12  0  0  2]\n",
            " [ 0  0  0  0  0  0  1 30  0  4]\n",
            " [ 0  0  0  0  0  0  1  0 24  2]\n",
            " [ 2  0  0  0  0  0  5  1  0 24]]\n",
            "\n",
            "              precision    recall  f1-score   support\n",
            "\n",
            "      austen       0.94      1.00      0.97        34\n",
            "      bryant       0.89      0.92      0.91        26\n",
            "     burgess       1.00      0.95      0.97        20\n",
            "     carroll       1.00      0.84      0.91        25\n",
            "  chesterton       0.94      0.76      0.84        21\n",
            "   edgeworth       0.89      0.94      0.91        17\n",
            "    melville       0.44      0.75      0.56        16\n",
            "      milton       0.94      0.86      0.90        35\n",
            " shakespeare       1.00      0.89      0.94        27\n",
            "     whitman       0.75      0.75      0.75        32\n",
            "\n",
            "    accuracy                           0.87       253\n",
            "   macro avg       0.88      0.87      0.87       253\n",
            "weighted avg       0.89      0.87      0.88       253\n",
            "\n",
            "CPU times: user 12min 20s, sys: 89.1 ms, total: 12min 20s\n",
            "Wall time: 12min 20s\n"
          ],
          "name": "stdout"
        }
      ]
    },
    {
      "cell_type": "markdown",
      "metadata": {
        "id": "zwXwe8uf5Waj",
        "colab_type": "text"
      },
      "source": [
        "### Logistic Regression "
      ]
    },
    {
      "cell_type": "code",
      "metadata": {
        "id": "nyqVnwiYAmJA",
        "colab_type": "code",
        "outputId": "1a25a0e8-9de0-4bc0-dc55-b0ce95d3ae96",
        "colab": {
          "base_uri": "https://localhost:8080/",
          "height": 51
        }
      },
      "source": [
        "%%time\n",
        "\n",
        "## train and fit model\n",
        "\n",
        "lr = LogisticRegression(fit_intercept=False).fit(x_train, y_train)"
      ],
      "execution_count": 0,
      "outputs": [
        {
          "output_type": "stream",
          "text": [
            "CPU times: user 90.7 ms, sys: 0 ns, total: 90.7 ms\n",
            "Wall time: 93.5 ms\n"
          ],
          "name": "stdout"
        }
      ]
    },
    {
      "cell_type": "code",
      "metadata": {
        "id": "5XYGO5_KAnLe",
        "colab_type": "code",
        "outputId": "41ef525b-3a74-448e-dcbe-06baf3cc1f52",
        "colab": {
          "base_uri": "https://localhost:8080/",
          "height": 646
        }
      },
      "source": [
        "%%time\n",
        "\n",
        "## Model Evaluation\n",
        "\n",
        "print(\"accuracy score:\\n\" + str(lr.score(x_test, y_test))+'\\n')\n",
        "\n",
        "print(\"cross validation:\\n\" + str(cross_val_score(lr, x_test, y_test, cv=5))+'\\n')\n",
        "\n",
        "print(\"confusion matrix:\\n\" + str(confusion_matrix(y_test, lr.predict(x_test)))+'\\n')\n",
        "\n",
        "print(classification_report(y_test, lr.predict(x_test)))"
      ],
      "execution_count": 0,
      "outputs": [
        {
          "output_type": "stream",
          "text": [
            "accuracy score:\n",
            "0.9565217391304348\n",
            "\n",
            "cross validation:\n",
            "[0.81818182 0.92307692 0.85714286 0.91836735 0.89583333]\n",
            "\n",
            "confusion matrix:\n",
            "[[34  0  0  0  0  0  0  0  0  0]\n",
            " [ 0 26  0  0  0  0  0  0  0  0]\n",
            " [ 0  0 20  0  0  0  0  0  0  0]\n",
            " [ 0  0  0 24  0  0  1  0  0  0]\n",
            " [ 0  0  0  0 21  0  0  0  0  0]\n",
            " [ 0  0  0  0  0 17  0  0  0  0]\n",
            " [ 0  1  0  0  0  0 14  0  0  1]\n",
            " [ 0  0  0  0  1  0  1 32  0  1]\n",
            " [ 0  0  0  0  0  0  0  0 27  0]\n",
            " [ 1  0  0  0  0  0  4  0  0 27]]\n",
            "\n",
            "              precision    recall  f1-score   support\n",
            "\n",
            "      austen       0.97      1.00      0.99        34\n",
            "      bryant       0.96      1.00      0.98        26\n",
            "     burgess       1.00      1.00      1.00        20\n",
            "     carroll       1.00      0.96      0.98        25\n",
            "  chesterton       0.95      1.00      0.98        21\n",
            "   edgeworth       1.00      1.00      1.00        17\n",
            "    melville       0.70      0.88      0.78        16\n",
            "      milton       1.00      0.91      0.96        35\n",
            " shakespeare       1.00      1.00      1.00        27\n",
            "     whitman       0.93      0.84      0.89        32\n",
            "\n",
            "    accuracy                           0.96       253\n",
            "   macro avg       0.95      0.96      0.95       253\n",
            "weighted avg       0.96      0.96      0.96       253\n",
            "\n",
            "CPU times: user 218 ms, sys: 133 ms, total: 351 ms\n",
            "Wall time: 187 ms\n"
          ],
          "name": "stdout"
        }
      ]
    },
    {
      "cell_type": "markdown",
      "metadata": {
        "id": "XmltsXeKWo0j",
        "colab_type": "text"
      },
      "source": [
        "### Neural Network"
      ]
    },
    {
      "cell_type": "code",
      "metadata": {
        "id": "pQaG0IGLW02Y",
        "colab_type": "code",
        "outputId": "dd546dac-2d60-4e84-8b04-288ebfec0f5b",
        "colab": {
          "base_uri": "https://localhost:8080/",
          "height": 51
        }
      },
      "source": [
        "%%time\n",
        "\n",
        "## train and fit model\n",
        "\n",
        "mlp = MLPClassifier(hidden_layer_sizes=(100,)).fit(x_train, y_train)"
      ],
      "execution_count": 0,
      "outputs": [
        {
          "output_type": "stream",
          "text": [
            "CPU times: user 4.68 s, sys: 1.88 s, total: 6.56 s\n",
            "Wall time: 3.3 s\n"
          ],
          "name": "stdout"
        }
      ]
    },
    {
      "cell_type": "code",
      "metadata": {
        "id": "OigP0dBuW8c7",
        "colab_type": "code",
        "outputId": "10186a3a-59bb-4d7b-dcd0-d22dad98fb8b",
        "colab": {
          "base_uri": "https://localhost:8080/",
          "height": 646
        }
      },
      "source": [
        "%%time\n",
        "\n",
        "## Model Evaluation\n",
        "\n",
        "print(\"accuracy score:\\n\" + str(mlp.score(x_test, y_test))+'\\n')\n",
        "\n",
        "print(\"cross validation:\\n\" + str(cross_val_score(mlp, x_test, y_test, cv=5))+'\\n')\n",
        "\n",
        "\n",
        "print(\"confusion matrix:\\n\" + str(confusion_matrix(y_test, mlp.predict(x_test)))+'\\n')\n",
        "\n",
        "print(classification_report(y_test, mlp.predict(x_test)))"
      ],
      "execution_count": 0,
      "outputs": [
        {
          "output_type": "stream",
          "text": [
            "accuracy score:\n",
            "0.9683794466403162\n",
            "\n",
            "cross validation:\n",
            "[0.90909091 0.88461538 0.85714286 0.89795918 0.89583333]\n",
            "\n",
            "confusion matrix:\n",
            "[[34  0  0  0  0  0  0  0  0  0]\n",
            " [ 0 26  0  0  0  0  0  0  0  0]\n",
            " [ 0  0 20  0  0  0  0  0  0  0]\n",
            " [ 0  0  0 24  0  0  1  0  0  0]\n",
            " [ 0  0  0  0 21  0  0  0  0  0]\n",
            " [ 0  0  0  0  0 17  0  0  0  0]\n",
            " [ 0  0  0  0  0  0 15  0  0  1]\n",
            " [ 0  0  0  0  0  0  1 32  0  2]\n",
            " [ 0  0  0  0  0  0  0  0 27  0]\n",
            " [ 0  0  0  0  1  0  1  1  0 29]]\n",
            "\n",
            "              precision    recall  f1-score   support\n",
            "\n",
            "      austen       1.00      1.00      1.00        34\n",
            "      bryant       1.00      1.00      1.00        26\n",
            "     burgess       1.00      1.00      1.00        20\n",
            "     carroll       1.00      0.96      0.98        25\n",
            "  chesterton       0.95      1.00      0.98        21\n",
            "   edgeworth       1.00      1.00      1.00        17\n",
            "    melville       0.83      0.94      0.88        16\n",
            "      milton       0.97      0.91      0.94        35\n",
            " shakespeare       1.00      1.00      1.00        27\n",
            "     whitman       0.91      0.91      0.91        32\n",
            "\n",
            "    accuracy                           0.97       253\n",
            "   macro avg       0.97      0.97      0.97       253\n",
            "weighted avg       0.97      0.97      0.97       253\n",
            "\n",
            "CPU times: user 12.6 s, sys: 5.89 s, total: 18.5 s\n",
            "Wall time: 9.31 s\n"
          ],
          "name": "stdout"
        }
      ]
    },
    {
      "cell_type": "markdown",
      "metadata": {
        "id": "CEjDOTJAoNXm",
        "colab_type": "text"
      },
      "source": [
        "\n",
        "\n",
        "\n",
        "The neural network had the best performance out of all of the models run with features generated by bag of words.\n",
        "Cross validation showed few signs of overfitting with this model. \n",
        "The strength of this model when it comes to making predictions using this data comes from its ability to generate predictions based on individual records and adjusting its weights based on the results. \n",
        "This is especially useful for text data where similar features may have different implications based on the prescence of other features in the same record.\n",
        "Naive bayes had similar accuracy scores but strong signs of overfitting. KNN and the decision tree performed poorly with this data. The model types likely lacked the power to discern between various groups of features.\n",
        "Using bag of words may be advantageous in situations where texts are smaller and more domain specific. This is because high frequency features in these situations may not be indicative of non-meaningful variance. \n",
        "\n",
        "\n"
      ]
    },
    {
      "cell_type": "markdown",
      "metadata": {
        "id": "CpTQUQn75gpx",
        "colab_type": "text"
      },
      "source": [
        "## Modeling the Data using TF-IDF\n",
        "\n"
      ]
    },
    {
      "cell_type": "code",
      "metadata": {
        "id": "kHJKuiLv_Fvl",
        "colab_type": "code",
        "outputId": "fe51d835-12f6-4bdf-9025-331a5a1f363b",
        "colab": {
          "base_uri": "https://localhost:8080/",
          "height": 51
        }
      },
      "source": [
        "%%time\n",
        "\n",
        "## Establish variables based on original features to be used for modeling\n",
        "\n",
        "x = df_tfidf_s\n",
        "y = labeled_excerpts.iloc[:,1]\n",
        "\n",
        "\n",
        "x_train, x_test, y_train, y_test = train_test_split(x, y, test_size=0.25, random_state=20)"
      ],
      "execution_count": 0,
      "outputs": [
        {
          "output_type": "stream",
          "text": [
            "CPU times: user 5.85 ms, sys: 2.01 ms, total: 7.86 ms\n",
            "Wall time: 8.38 ms\n"
          ],
          "name": "stdout"
        }
      ]
    },
    {
      "cell_type": "markdown",
      "metadata": {
        "id": "kpqu5ila5j8J",
        "colab_type": "text"
      },
      "source": [
        "### Naive Bayes"
      ]
    },
    {
      "cell_type": "code",
      "metadata": {
        "id": "6YWt2YrHAuHX",
        "colab_type": "code",
        "outputId": "d7e6f481-0cad-4ab1-b01c-8089cac17d6c",
        "colab": {
          "base_uri": "https://localhost:8080/",
          "height": 51
        }
      },
      "source": [
        "%%time\n",
        "\n",
        "## train and fit model\n",
        "\n",
        "bnb = BernoulliNB().fit(x_train, y_train)"
      ],
      "execution_count": 0,
      "outputs": [
        {
          "output_type": "stream",
          "text": [
            "CPU times: user 22.2 ms, sys: 4 ms, total: 26.2 ms\n",
            "Wall time: 24.1 ms\n"
          ],
          "name": "stdout"
        }
      ]
    },
    {
      "cell_type": "code",
      "metadata": {
        "id": "LQ1i9oJFAukV",
        "colab_type": "code",
        "outputId": "8b7895d3-0bc4-4d9b-b3eb-f3551eb62b25",
        "colab": {
          "base_uri": "https://localhost:8080/",
          "height": 646
        }
      },
      "source": [
        "%%time\n",
        "\n",
        "## Model Evaluation\n",
        "\n",
        "print(\"accuracy score:\\n\" + str(bnb.score(x_test, y_test))+'\\n')\n",
        "\n",
        "print(\"cross validation:\\n\" + str(cross_val_score(bnb, x_test, y_test, cv=5))+'\\n')\n",
        "\n",
        "print(\"confusion matrix:\\n\" + str(confusion_matrix(y_test, bnb.predict(x_test)))+'\\n')\n",
        "\n",
        "print(classification_report(y_test, bnb.predict(x_test)))"
      ],
      "execution_count": 0,
      "outputs": [
        {
          "output_type": "stream",
          "text": [
            "accuracy score:\n",
            "0.932806324110672\n",
            "\n",
            "cross validation:\n",
            "[0.72727273 0.57692308 0.65306122 0.63265306 0.6875    ]\n",
            "\n",
            "confusion matrix:\n",
            "[[33  0  0  0  0  1  0  0  0  0]\n",
            " [ 0 26  0  0  0  0  0  0  0  0]\n",
            " [ 0  0 20  0  0  0  0  0  0  0]\n",
            " [ 0  0  0 23  0  0  2  0  0  0]\n",
            " [ 0  0  0  0 21  0  0  0  0  0]\n",
            " [ 0  2  0  0  0 15  0  0  0  0]\n",
            " [ 0  0  0  1  0  0 15  0  0  0]\n",
            " [ 0  0  0  0  0  0  4 30  0  1]\n",
            " [ 0  0  0  0  0  0  0  0 27  0]\n",
            " [ 0  0  0  0  4  0  2  0  0 26]]\n",
            "\n",
            "              precision    recall  f1-score   support\n",
            "\n",
            "      austen       1.00      0.97      0.99        34\n",
            "      bryant       0.93      1.00      0.96        26\n",
            "     burgess       1.00      1.00      1.00        20\n",
            "     carroll       0.96      0.92      0.94        25\n",
            "  chesterton       0.84      1.00      0.91        21\n",
            "   edgeworth       0.94      0.88      0.91        17\n",
            "    melville       0.65      0.94      0.77        16\n",
            "      milton       1.00      0.86      0.92        35\n",
            " shakespeare       1.00      1.00      1.00        27\n",
            "     whitman       0.96      0.81      0.88        32\n",
            "\n",
            "    accuracy                           0.93       253\n",
            "   macro avg       0.93      0.94      0.93       253\n",
            "weighted avg       0.94      0.93      0.93       253\n",
            "\n",
            "CPU times: user 110 ms, sys: 57 ms, total: 167 ms\n",
            "Wall time: 89.8 ms\n"
          ],
          "name": "stdout"
        }
      ]
    },
    {
      "cell_type": "markdown",
      "metadata": {
        "id": "6Ou32_DM5mXa",
        "colab_type": "text"
      },
      "source": [
        "### K Nearest Neighbors "
      ]
    },
    {
      "cell_type": "code",
      "metadata": {
        "id": "zmcgUgvvAu-y",
        "colab_type": "code",
        "outputId": "7e3d0db1-a920-463c-9639-e7412f7d6d6c",
        "colab": {
          "base_uri": "https://localhost:8080/",
          "height": 51
        }
      },
      "source": [
        "%%time\n",
        "\n",
        "## train and fit model\n",
        "\n",
        "knn = neighbors.KNeighborsClassifier(n_neighbors=10).fit(x_train, y_train)"
      ],
      "execution_count": 0,
      "outputs": [
        {
          "output_type": "stream",
          "text": [
            "CPU times: user 26.1 ms, sys: 1 ms, total: 27.2 ms\n",
            "Wall time: 29.9 ms\n"
          ],
          "name": "stdout"
        }
      ]
    },
    {
      "cell_type": "code",
      "metadata": {
        "id": "ITX9Ec7UAvWF",
        "colab_type": "code",
        "outputId": "d3cb0d0f-515d-48ff-fb29-d0b6fc1d5650",
        "colab": {
          "base_uri": "https://localhost:8080/",
          "height": 646
        }
      },
      "source": [
        "%%time\n",
        "\n",
        "## Model Evaluation\n",
        "\n",
        "print(\"accuracy score:\\n\" + str(knn.score(x_test, y_test))+'\\n')\n",
        "\n",
        "print(\"cross validation:\\n\" + str(cross_val_score(knn, x_test, y_test, cv=5))+'\\n')\n",
        "\n",
        "print(\"confusion matrix:\\n\" + str(confusion_matrix(y_test, knn.predict(x_test)))+'\\n')\n",
        "\n",
        "print(classification_report(y_test, knn.predict(x_test)))"
      ],
      "execution_count": 0,
      "outputs": [
        {
          "output_type": "stream",
          "text": [
            "accuracy score:\n",
            "0.9011857707509882\n",
            "\n",
            "cross validation:\n",
            "[0.8        0.84615385 0.81632653 0.79591837 0.83333333]\n",
            "\n",
            "confusion matrix:\n",
            "[[34  0  0  0  0  0  0  0  0  0]\n",
            " [ 0 26  0  0  0  0  0  0  0  0]\n",
            " [ 0  0 20  0  0  0  0  0  0  0]\n",
            " [ 0  1  0 24  0  0  0  0  0  0]\n",
            " [ 1  0  0  1 18  0  0  0  1  0]\n",
            " [ 0  1  0  0  0 16  0  0  0  0]\n",
            " [ 0  2  0  0  1  1 12  0  0  0]\n",
            " [ 0  0  0  0  0  0  1 31  1  2]\n",
            " [ 0  0  0  0  0  0  0  0 27  0]\n",
            " [ 4  1  1  0  1  0  3  0  2 20]]\n",
            "\n",
            "              precision    recall  f1-score   support\n",
            "\n",
            "      austen       0.87      1.00      0.93        34\n",
            "      bryant       0.84      1.00      0.91        26\n",
            "     burgess       0.95      1.00      0.98        20\n",
            "     carroll       0.96      0.96      0.96        25\n",
            "  chesterton       0.90      0.86      0.88        21\n",
            "   edgeworth       0.94      0.94      0.94        17\n",
            "    melville       0.75      0.75      0.75        16\n",
            "      milton       1.00      0.89      0.94        35\n",
            " shakespeare       0.87      1.00      0.93        27\n",
            "     whitman       0.91      0.62      0.74        32\n",
            "\n",
            "    accuracy                           0.90       253\n",
            "   macro avg       0.90      0.90      0.90       253\n",
            "weighted avg       0.91      0.90      0.90       253\n",
            "\n",
            "CPU times: user 1.82 s, sys: 5 ms, total: 1.83 s\n",
            "Wall time: 1.83 s\n"
          ],
          "name": "stdout"
        }
      ]
    },
    {
      "cell_type": "markdown",
      "metadata": {
        "id": "xEmtaXJr5o9O",
        "colab_type": "text"
      },
      "source": [
        "### Decision Tree"
      ]
    },
    {
      "cell_type": "code",
      "metadata": {
        "id": "wbm4U84VAwEV",
        "colab_type": "code",
        "outputId": "36683339-a57e-473f-8d6a-6d2e610624e3",
        "colab": {
          "base_uri": "https://localhost:8080/",
          "height": 51
        }
      },
      "source": [
        "%%time\n",
        "\n",
        "## train and fit model\n",
        "\n",
        "decision_tree = tree.DecisionTreeClassifier(\n",
        "    criterion='entropy',\n",
        "    max_features=15,\n",
        "    max_depth=25,\n",
        "    ).fit(x_train, y_train)"
      ],
      "execution_count": 0,
      "outputs": [
        {
          "output_type": "stream",
          "text": [
            "CPU times: user 13.9 ms, sys: 1 ms, total: 14.9 ms\n",
            "Wall time: 16.3 ms\n"
          ],
          "name": "stdout"
        }
      ]
    },
    {
      "cell_type": "code",
      "metadata": {
        "id": "E_D35K3HAwc2",
        "colab_type": "code",
        "outputId": "7883b6a4-27d4-450a-f2be-d7ac7a2d0f9e",
        "colab": {
          "base_uri": "https://localhost:8080/",
          "height": 646
        }
      },
      "source": [
        "%%time\n",
        "\n",
        "## Model Evaluation\n",
        "\n",
        "print(\"accuracy score:\\n\" + str(decision_tree.score(x_test, y_test))+'\\n')\n",
        "\n",
        "print(\"cross validation:\\n\" + str(cross_val_score(decision_tree, x_test, y_test, cv=5))+'\\n')\n",
        "\n",
        "print(\"confusion matrix:\\n\" + str(confusion_matrix(y_test, decision_tree.predict(x_test)))+'\\n')\n",
        "\n",
        "print(classification_report(y_test, decision_tree.predict(x_test)))"
      ],
      "execution_count": 0,
      "outputs": [
        {
          "output_type": "stream",
          "text": [
            "accuracy score:\n",
            "0.39920948616600793\n",
            "\n",
            "cross validation:\n",
            "[0.21818182 0.42307692 0.42857143 0.42857143 0.3125    ]\n",
            "\n",
            "confusion matrix:\n",
            "[[18  1  1  2  4  3  0  3  0  2]\n",
            " [ 1  7  0 11  0  2  0  1  1  3]\n",
            " [ 1  1 15  0  1  1  0  0  0  1]\n",
            " [ 0  2  1 13  3  4  1  0  1  0]\n",
            " [ 0  0  1  5  2  5  3  3  0  2]\n",
            " [ 0  2  0  3  2  9  0  0  0  1]\n",
            " [ 3  1  0  1  2  2  4  2  0  1]\n",
            " [ 1  0  1  3  0  2  2 14  1 11]\n",
            " [ 3  1  1  1  1  3  0  4  9  4]\n",
            " [ 6  0  1  1  1  2  4  7  0 10]]\n",
            "\n",
            "              precision    recall  f1-score   support\n",
            "\n",
            "      austen       0.55      0.53      0.54        34\n",
            "      bryant       0.47      0.27      0.34        26\n",
            "     burgess       0.71      0.75      0.73        20\n",
            "     carroll       0.33      0.52      0.40        25\n",
            "  chesterton       0.12      0.10      0.11        21\n",
            "   edgeworth       0.27      0.53      0.36        17\n",
            "    melville       0.29      0.25      0.27        16\n",
            "      milton       0.41      0.40      0.41        35\n",
            " shakespeare       0.75      0.33      0.46        27\n",
            "     whitman       0.29      0.31      0.30        32\n",
            "\n",
            "    accuracy                           0.40       253\n",
            "   macro avg       0.42      0.40      0.39       253\n",
            "weighted avg       0.43      0.40      0.40       253\n",
            "\n",
            "CPU times: user 55.1 ms, sys: 1 ms, total: 56.1 ms\n",
            "Wall time: 60.6 ms\n"
          ],
          "name": "stdout"
        }
      ]
    },
    {
      "cell_type": "markdown",
      "metadata": {
        "id": "HUza84dL5nUX",
        "colab_type": "text"
      },
      "source": [
        "### Random Forest"
      ]
    },
    {
      "cell_type": "code",
      "metadata": {
        "id": "BmKGVdODAw9F",
        "colab_type": "code",
        "outputId": "d42d3ed7-0336-4b58-b53c-a537c2d6168b",
        "colab": {
          "base_uri": "https://localhost:8080/",
          "height": 68
        }
      },
      "source": [
        "%%time\n",
        "\n",
        "## train and fit model\n",
        "\n",
        "rf = ensemble.RandomForestClassifier()\n",
        "\n",
        "parameters = { \n",
        "              'max_features': ['log2', 'sqrt','auto'], \n",
        "              'criterion': ['entropy'],\n",
        "              'max_depth': list(np.arange(85, 111, 5)), \n",
        "              'min_samples_split': list(np.arange(3, 12, 2))\n",
        "             }\n",
        "\n",
        "acc_scorer = make_scorer(accuracy_score)\n",
        "\n",
        "rfc = GridSearchCV(rf, parameters, scoring=acc_scorer).fit(x_train,  y_train)\n",
        "\n",
        "print(rfc.best_params_)"
      ],
      "execution_count": 0,
      "outputs": [
        {
          "output_type": "stream",
          "text": [
            "{'criterion': 'entropy', 'max_depth': 90, 'max_features': 'sqrt', 'min_samples_split': 11}\n",
            "CPU times: user 10.6 s, sys: 53 ms, total: 10.7 s\n",
            "Wall time: 10.7 s\n"
          ],
          "name": "stdout"
        }
      ]
    },
    {
      "cell_type": "code",
      "metadata": {
        "id": "JLDMuZyEAxSt",
        "colab_type": "code",
        "outputId": "592a3b23-bcdb-4ced-86b8-1ff4ae10b3aa",
        "colab": {
          "base_uri": "https://localhost:8080/",
          "height": 646
        }
      },
      "source": [
        "%%time\n",
        "\n",
        "## Model Evaluation\n",
        "\n",
        "print(\"accuracy score:\\n\" + str(rfc.score(x_test, y_test))+'\\n')\n",
        "\n",
        "print(\"cross validation:\\n\" + str(cross_val_score(rfc, x_test, y_test, cv=5))+'\\n')\n",
        "\n",
        "print(\"confusion matrix:\\n\" + str(confusion_matrix(y_test, rfc.predict(x_test)))+'\\n')\n",
        "\n",
        "print(classification_report(y_test, rfc.predict(x_test)))"
      ],
      "execution_count": 0,
      "outputs": [
        {
          "output_type": "stream",
          "text": [
            "accuracy score:\n",
            "0.7786561264822134\n",
            "\n",
            "cross validation:\n",
            "[0.67272727 0.63461538 0.67346939 0.65306122 0.70833333]\n",
            "\n",
            "confusion matrix:\n",
            "[[34  0  0  0  0  0  0  0  0  0]\n",
            " [ 0 18  2  0  3  1  1  0  0  1]\n",
            " [ 0  1 18  1  0  0  0  0  0  0]\n",
            " [ 0  3  0 20  0  1  1  0  0  0]\n",
            " [ 3  0  0  0 13  0  4  1  0  0]\n",
            " [ 0  3  0  0  1 12  1  0  0  0]\n",
            " [ 1  0  0  1  0  0 11  0  0  3]\n",
            " [ 0  0  0  0  0  0  1 27  1  6]\n",
            " [ 0  0  0  0  0  0  0  2 21  4]\n",
            " [ 0  2  0  1  1  0  3  0  2 23]]\n",
            "\n",
            "              precision    recall  f1-score   support\n",
            "\n",
            "      austen       0.89      1.00      0.94        34\n",
            "      bryant       0.67      0.69      0.68        26\n",
            "     burgess       0.90      0.90      0.90        20\n",
            "     carroll       0.87      0.80      0.83        25\n",
            "  chesterton       0.72      0.62      0.67        21\n",
            "   edgeworth       0.86      0.71      0.77        17\n",
            "    melville       0.50      0.69      0.58        16\n",
            "      milton       0.90      0.77      0.83        35\n",
            " shakespeare       0.88      0.78      0.82        27\n",
            "     whitman       0.62      0.72      0.67        32\n",
            "\n",
            "    accuracy                           0.78       253\n",
            "   macro avg       0.78      0.77      0.77       253\n",
            "weighted avg       0.79      0.78      0.78       253\n",
            "\n",
            "CPU times: user 22.5 s, sys: 89 ms, total: 22.6 s\n",
            "Wall time: 22.6 s\n"
          ],
          "name": "stdout"
        }
      ]
    },
    {
      "cell_type": "markdown",
      "metadata": {
        "id": "u6xXsacz7K-P",
        "colab_type": "text"
      },
      "source": [
        "### Gradient Boost"
      ]
    },
    {
      "cell_type": "code",
      "metadata": {
        "id": "0GMtMwIO7KoY",
        "colab_type": "code",
        "outputId": "d7ea21dd-9f57-47c1-a4f7-a9baa50086bb",
        "colab": {
          "base_uri": "https://localhost:8080/",
          "height": 68
        }
      },
      "source": [
        "%%time\n",
        "\n",
        "## train and fit model\n",
        "\n",
        "cl = ensemble.GradientBoostingClassifier()\n",
        "\n",
        "parameters = { \n",
        "              'n_estimators': list(np.arange(200, 301, 50)),\n",
        "              'max_depth': list(range(1,7))\n",
        "             }\n",
        "\n",
        "acc_scorer = make_scorer(accuracy_score)\n",
        "\n",
        "clf = GridSearchCV(cl, parameters, scoring=acc_scorer).fit(x_train,  y_train)\n",
        "\n",
        "## Show Best Parameters\n",
        "print(clf.best_params_)"
      ],
      "execution_count": 0,
      "outputs": [
        {
          "output_type": "stream",
          "text": [
            "{'max_depth': 4, 'n_estimators': 200}\n",
            "CPU times: user 17min 37s, sys: 86.9 ms, total: 17min 37s\n",
            "Wall time: 17min 37s\n"
          ],
          "name": "stdout"
        }
      ]
    },
    {
      "cell_type": "code",
      "metadata": {
        "id": "TnKJJw6_7Joa",
        "colab_type": "code",
        "outputId": "6ddd040b-d67a-4d04-e7e2-34419cb9fbdc",
        "colab": {
          "base_uri": "https://localhost:8080/",
          "height": 646
        }
      },
      "source": [
        "%%time\n",
        "\n",
        "## Model Evaluation\n",
        "\n",
        "print(\"accuracy score:\\n\" + str(clf.score(x_test, y_test))+'\\n')\n",
        "\n",
        "print(\"cross validation:\\n\" + str(cross_val_score(clf, x_test, y_test, cv=5))+'\\n')\n",
        "\n",
        "print(\"confusion matrix:\\n\" + str(confusion_matrix(y_test, clf.predict(x_test)))+'\\n')\n",
        "\n",
        "print(classification_report(y_test, clf.predict(x_test)))"
      ],
      "execution_count": 0,
      "outputs": [
        {
          "output_type": "stream",
          "text": [
            "accuracy score:\n",
            "0.8616600790513834\n",
            "\n",
            "cross validation:\n",
            "[0.65454545 0.73076923 0.71428571 0.73469388 0.8125    ]\n",
            "\n",
            "confusion matrix:\n",
            "[[32  0  0  2  0  0  0  0  0  0]\n",
            " [ 0 25  0  0  0  0  1  0  0  0]\n",
            " [ 0  1 19  0  0  0  0  0  0  0]\n",
            " [ 0  0  0 22  0  0  3  0  0  0]\n",
            " [ 0  1  0  0 16  3  1  0  0  0]\n",
            " [ 0  1  0  0  0 16  0  0  0  0]\n",
            " [ 0  1  0  0  1  0 13  0  0  1]\n",
            " [ 0  0  0  0  0  0  3 29  0  3]\n",
            " [ 0  0  0  0  1  0  0  0 24  2]\n",
            " [ 0  1  0  0  1  0  8  0  0 22]]\n",
            "\n",
            "              precision    recall  f1-score   support\n",
            "\n",
            "      austen       1.00      0.94      0.97        34\n",
            "      bryant       0.83      0.96      0.89        26\n",
            "     burgess       1.00      0.95      0.97        20\n",
            "     carroll       0.92      0.88      0.90        25\n",
            "  chesterton       0.84      0.76      0.80        21\n",
            "   edgeworth       0.84      0.94      0.89        17\n",
            "    melville       0.45      0.81      0.58        16\n",
            "      milton       1.00      0.83      0.91        35\n",
            " shakespeare       1.00      0.89      0.94        27\n",
            "     whitman       0.79      0.69      0.73        32\n",
            "\n",
            "    accuracy                           0.86       253\n",
            "   macro avg       0.87      0.87      0.86       253\n",
            "weighted avg       0.89      0.86      0.87       253\n",
            "\n",
            "CPU times: user 11min 49s, sys: 88 ms, total: 11min 49s\n",
            "Wall time: 11min 49s\n"
          ],
          "name": "stdout"
        }
      ]
    },
    {
      "cell_type": "markdown",
      "metadata": {
        "id": "90E5EnHo5u9Z",
        "colab_type": "text"
      },
      "source": [
        "### Logistic Regression "
      ]
    },
    {
      "cell_type": "code",
      "metadata": {
        "id": "AW5__RpxAx4e",
        "colab_type": "code",
        "outputId": "1d02c66b-5d1e-4f1a-c5e7-8fe78b9561d2",
        "colab": {
          "base_uri": "https://localhost:8080/",
          "height": 51
        }
      },
      "source": [
        "%%time\n",
        "\n",
        "## train and fit model\n",
        "\n",
        "lr = LogisticRegression(fit_intercept=False).fit(x_train, y_train)"
      ],
      "execution_count": 0,
      "outputs": [
        {
          "output_type": "stream",
          "text": [
            "CPU times: user 43.5 ms, sys: 996 µs, total: 44.5 ms\n",
            "Wall time: 47 ms\n"
          ],
          "name": "stdout"
        }
      ]
    },
    {
      "cell_type": "code",
      "metadata": {
        "id": "4uYVvsLLAyQU",
        "colab_type": "code",
        "outputId": "39224565-8a0e-46d0-860c-dd0a7f66b551",
        "colab": {
          "base_uri": "https://localhost:8080/",
          "height": 646
        }
      },
      "source": [
        "%%time\n",
        "\n",
        "## Model Evaluation\n",
        "\n",
        "print(\"accuracy score:\\n\" + str(lr.score(x_test, y_test))+'\\n')\n",
        "\n",
        "print(\"cross validation:\\n\" + str(cross_val_score(lr, x_test, y_test, cv=5))+'\\n')\n",
        "\n",
        "print(\"confusion matrix:\\n\" + str(confusion_matrix(y_test, lr.predict(x_test)))+'\\n')\n",
        "\n",
        "print(classification_report(y_test, lr.predict(x_test)))"
      ],
      "execution_count": 0,
      "outputs": [
        {
          "output_type": "stream",
          "text": [
            "accuracy score:\n",
            "0.9486166007905138\n",
            "\n",
            "cross validation:\n",
            "[0.83636364 0.90384615 0.83673469 0.83673469 0.89583333]\n",
            "\n",
            "confusion matrix:\n",
            "[[34  0  0  0  0  0  0  0  0  0]\n",
            " [ 0 26  0  0  0  0  0  0  0  0]\n",
            " [ 0  0 20  0  0  0  0  0  0  0]\n",
            " [ 0  0  0 25  0  0  0  0  0  0]\n",
            " [ 0  0  0  0 20  1  0  0  0  0]\n",
            " [ 0  1  0  0  0 16  0  0  0  0]\n",
            " [ 0  0  0  0  0  1 13  0  0  2]\n",
            " [ 0  0  0  0  0  0  0 33  0  2]\n",
            " [ 0  0  0  0  0  0  0  0 27  0]\n",
            " [ 2  1  0  0  1  0  2  0  0 26]]\n",
            "\n",
            "              precision    recall  f1-score   support\n",
            "\n",
            "      austen       0.94      1.00      0.97        34\n",
            "      bryant       0.93      1.00      0.96        26\n",
            "     burgess       1.00      1.00      1.00        20\n",
            "     carroll       1.00      1.00      1.00        25\n",
            "  chesterton       0.95      0.95      0.95        21\n",
            "   edgeworth       0.89      0.94      0.91        17\n",
            "    melville       0.87      0.81      0.84        16\n",
            "      milton       1.00      0.94      0.97        35\n",
            " shakespeare       1.00      1.00      1.00        27\n",
            "     whitman       0.87      0.81      0.84        32\n",
            "\n",
            "    accuracy                           0.95       253\n",
            "   macro avg       0.94      0.95      0.94       253\n",
            "weighted avg       0.95      0.95      0.95       253\n",
            "\n",
            "CPU times: user 129 ms, sys: 76 ms, total: 205 ms\n",
            "Wall time: 116 ms\n"
          ],
          "name": "stdout"
        }
      ]
    },
    {
      "cell_type": "markdown",
      "metadata": {
        "id": "SCd8Xk0NXlTq",
        "colab_type": "text"
      },
      "source": [
        "### Neural Network"
      ]
    },
    {
      "cell_type": "code",
      "metadata": {
        "id": "HwGvuDctXjQg",
        "colab_type": "code",
        "outputId": "458fa2c7-f9e0-4cf2-ee95-6610b4dbb734",
        "colab": {
          "base_uri": "https://localhost:8080/",
          "height": 51
        }
      },
      "source": [
        "%%time\n",
        "\n",
        "## train and fit model\n",
        "\n",
        "mlp = MLPClassifier(hidden_layer_sizes=(100,)).fit(x_train, y_train)"
      ],
      "execution_count": 0,
      "outputs": [
        {
          "output_type": "stream",
          "text": [
            "CPU times: user 7.94 s, sys: 2.79 s, total: 10.7 s\n",
            "Wall time: 5.39 s\n"
          ],
          "name": "stdout"
        }
      ]
    },
    {
      "cell_type": "code",
      "metadata": {
        "id": "DKejCCwmXqLn",
        "colab_type": "code",
        "outputId": "79990857-e532-4f14-eaa3-f1403a14dbb3",
        "colab": {
          "base_uri": "https://localhost:8080/",
          "height": 646
        }
      },
      "source": [
        "%%time\n",
        "\n",
        "## Model Evaluation\n",
        "\n",
        "print(\"accuracy score:\\n\" + str(mlp.score(x_test, y_test))+'\\n')\n",
        "\n",
        "print(\"cross validation:\\n\" + str(cross_val_score(mlp, x_test, y_test, cv=5))+'\\n')\n",
        "\n",
        "print(\"confusion matrix:\\n\" + str(confusion_matrix(y_test, mlp.predict(x_test)))+'\\n')\n",
        "\n",
        "print(classification_report(y_test, mlp.predict(x_test)))"
      ],
      "execution_count": 0,
      "outputs": [
        {
          "output_type": "stream",
          "text": [
            "accuracy score:\n",
            "0.9604743083003953\n",
            "\n",
            "cross validation:\n",
            "[0.87272727 0.82692308 0.85714286 0.89795918 0.91666667]\n",
            "\n",
            "confusion matrix:\n",
            "[[34  0  0  0  0  0  0  0  0  0]\n",
            " [ 0 26  0  0  0  0  0  0  0  0]\n",
            " [ 0  0 20  0  0  0  0  0  0  0]\n",
            " [ 0  0  0 25  0  0  0  0  0  0]\n",
            " [ 0  0  0  0 21  0  0  0  0  0]\n",
            " [ 0  0  0  0  0 17  0  0  0  0]\n",
            " [ 0  0  0  0  0  0 15  0  0  1]\n",
            " [ 0  0  0  0  0  0  1 32  0  2]\n",
            " [ 0  0  0  0  0  0  0  0 27  0]\n",
            " [ 0  1  0  0  3  0  2  0  0 26]]\n",
            "\n",
            "              precision    recall  f1-score   support\n",
            "\n",
            "      austen       1.00      1.00      1.00        34\n",
            "      bryant       0.96      1.00      0.98        26\n",
            "     burgess       1.00      1.00      1.00        20\n",
            "     carroll       1.00      1.00      1.00        25\n",
            "  chesterton       0.88      1.00      0.93        21\n",
            "   edgeworth       1.00      1.00      1.00        17\n",
            "    melville       0.83      0.94      0.88        16\n",
            "      milton       1.00      0.91      0.96        35\n",
            " shakespeare       1.00      1.00      1.00        27\n",
            "     whitman       0.90      0.81      0.85        32\n",
            "\n",
            "    accuracy                           0.96       253\n",
            "   macro avg       0.96      0.97      0.96       253\n",
            "weighted avg       0.96      0.96      0.96       253\n",
            "\n",
            "CPU times: user 17.2 s, sys: 7.67 s, total: 24.8 s\n",
            "Wall time: 12.5 s\n"
          ],
          "name": "stdout"
        }
      ]
    },
    {
      "cell_type": "markdown",
      "metadata": {
        "id": "yTqibFkPpT9X",
        "colab_type": "text"
      },
      "source": [
        "\n",
        "\n",
        "The neural network had the best performance out of all of the models run with features generated by TF-IDF. The neural network with TF-IDF features also outperformed the neural network with bag of words features, making it the strongest supervised model in the study.\n",
        "Cross validation showed few signs of overfitting with this model. \n",
        "TF-IDF gave the neural network more accurate weights of the representativeness of each feature allowing for the neural network to make predictions with less error. \n",
        "This helped the processing of the text data for the neural network by reducing noise created by frequent but uninformative features. \n",
        "The accuracy and cross validation scores were higher in geneneral for the TD-IDF models but the same trends existed between model most types with the exception of KNN. KNN with TF-IDF yielded significantly higher accuracy than KNN with bag of words.\n",
        "The reduction of noise that this form of feature selection offers likely allowed KNN to process observations using more representative neighboring datapoints.\n",
        "\n"
      ]
    },
    {
      "cell_type": "markdown",
      "metadata": {
        "id": "bcCVg1yE57C_",
        "colab_type": "text"
      },
      "source": [
        "## Analysis and Conclusion"
      ]
    },
    {
      "cell_type": "markdown",
      "metadata": {
        "id": "QyoS8AY0Lg0D",
        "colab_type": "text"
      },
      "source": [
        "Both classification and clustering were able to reliably label the excerpts by author in this study.\n",
        "The neural network built on TF-IDF features, the best performing model, had over a 95% accuracy and regularly labeled each author's excerpts correctly over 80% of the time.\n",
        "Clustering was able to yield high accuracy as well, grouping over 80% of each author's excerpts together with the exception of Melville's excerpts. Melville's excerpts was consistently the least consistently labeled across all models, implying that discrepancies in its labeling are due to the data itsself rather than the method of feature preparation and classification. \n",
        "Modeling did have the advantage of being more accurate but clustering was able to show strong reliability even in the abscence of labels.\n",
        "\n",
        "This established the relative ability of clustering and modeling unsupervised learning generated features to classify the authors of writing samples.\n",
        "By being able to reliably label data using unsupervised and supervised methods, large amounts of text can be analyzed, even in the abscence of pre-established labels. A condition often found in real-world data.\n",
        "The next step in using this data to discern the source of the text data would be to collect more text from different authors and more data about the context in which the text was generated. Afterwards the study can be expanded to include different types of feature preparation.\n",
        "\n",
        "Understanding how to better utilize unsupervised modeling techniques to predict author, will give insight as to what kind of people are generating different types of texts. \n",
        "This can be practically be applied to consumer data such as reviews and other types of user generated text.\n",
        "This can allow for more direct marketing to users or changes in products that better match how services are used. \n",
        "Being able to utilize readily available data that isn't always processed and labeled, allows for revenue generating decisions to be made at very little cost to stakeholders.\n",
        "\n"
      ]
    },
    {
      "cell_type": "code",
      "metadata": {
        "id": "P0HkGW7mNpFX",
        "colab_type": "code",
        "colab": {}
      },
      "source": [
        ""
      ],
      "execution_count": 0,
      "outputs": []
    }
  ]
}
